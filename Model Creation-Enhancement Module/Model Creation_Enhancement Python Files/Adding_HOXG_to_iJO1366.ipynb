{
 "cells": [
  {
   "cell_type": "markdown",
   "id": "8bc19070",
   "metadata": {},
   "source": [
    "# Adding Heme Oxygenase to an iJO1366 *E. coli* Model\n",
    "\n",
    "Biliverdin IXα is produced when heme undergoes reductive ring cleavage at the α-methene bridge catalyzed by heme oxygenase (HOXG). Biliverdin IXα, through interaction with biliverdin reductase, initiates signaling\n",
    "pathways leading to anti-inflammatory responses and suppression of cellular pro-inflammatory events. The use of\n",
    "biliverdin IXα as a cytoprotective therapeutic has been suggested. [1,2]\n",
    "\n",
    "In this notebook we will add the HOXG reaction to an iJO1366 *E. coli* model.\n",
    "\n",
    "Begin by setting up by loading the appropriate COBRApy and Python packages."
   ]
  },
  {
   "cell_type": "code",
   "execution_count": 1,
   "id": "c3d35aa7",
   "metadata": {},
   "outputs": [],
   "source": [
    "from cobra import Model, Reaction, Metabolite\n",
    "from cameo import models\n",
    "from cameo.visualization.plotting.with_plotly import PlotlyPlotter\n",
    "plotter = PlotlyPlotter()\n",
    "import cobra.test\n",
    "from cobrapy_bigg_client import client"
   ]
  },
  {
   "cell_type": "markdown",
   "id": "0e2aa926",
   "metadata": {},
   "source": [
    "Since a HOXG reaction can be found in the *Synechocystis sp. PCC 6803* iJN678 model, let's load both the iJO1366 and iJN678 models."
   ]
  },
  {
   "cell_type": "code",
   "execution_count": 2,
   "id": "60960273",
   "metadata": {},
   "outputs": [
    {
     "name": "stdout",
     "output_type": "stream",
     "text": [
      "Set parameter Username\n",
      "Academic license - for non-commercial use only - expires 2022-10-10\n"
     ]
    }
   ],
   "source": [
    "model_iJO1366 = client.download_model('iJO1366', save=False)\n",
    "model_iJN678 = client.download_model('iJN678', save=False)\n",
    "model_iJO1366.solver = 'glpk'"
   ]
  },
  {
   "attachments": {
    "image.png": {
     "image/png": "[encoded data removed]"
    }
   },
   "cell_type": "markdown",
   "id": "6840a974",
   "metadata": {},
   "source": [
    "![image.png](attachment:image.png)"
   ]
  },
  {
   "cell_type": "markdown",
   "id": "5bd8edbd",
   "metadata": {},
   "source": [
    "Identifying the HOXG reaction in the *Synechocystis sp. PCC 6803* iJN678 model, let's look at its properties."
   ]
  },
  {
   "cell_type": "code",
   "execution_count": 3,
   "id": "62e3362e",
   "metadata": {},
   "outputs": [
    {
     "data": {
      "text/html": [
       "\n",
       "        <table>\n",
       "            <tr>\n",
       "                <td><strong>Reaction identifier</strong></td><td>HOXG</td>\n",
       "            </tr><tr>\n",
       "                <td><strong>Name</strong></td><td>Heme oxygenase 1</td>\n",
       "            </tr><tr>\n",
       "                <td><strong>Memory address</strong></td>\n",
       "                <td>0x027e48edbe80</td>\n",
       "            </tr><tr>\n",
       "                <td><strong>Stoichiometry</strong></td>\n",
       "                <td>\n",
       "                    <p style='text-align:right'>5.0 h_c + 3.0 nadph_c + 3.0 o2_c + pheme_c --> biliverd_c + co_c + fe2_c + 3.0 h2o_c + 3.0 nadp_c</p>\n",
       "                    <p style='text-align:right'>5.0 H+ + 3.0 Nicotinamide adenine dinucleotide phosphate - reduced + 3.0 O2 O2 + Protoheme C34H30FeN4O4 --> Biliverdin cytosol + Carbon monoxide + Fe2+ mitochondria + 3.0 H2O H2O + 3.0 Nicotinamide...</p>\n",
       "                </td>\n",
       "            </tr><tr>\n",
       "                <td><strong>GPR</strong></td><td>ho1 or ho2</td>\n",
       "            </tr><tr>\n",
       "                <td><strong>Lower bound</strong></td><td>0.0</td>\n",
       "            </tr><tr>\n",
       "                <td><strong>Upper bound</strong></td><td>1000.0</td>\n",
       "            </tr>\n",
       "        </table>\n",
       "        "
      ],
      "text/plain": [
       "<Reaction HOXG at 0x27e48edbe80>"
      ]
     },
     "execution_count": 3,
     "metadata": {},
     "output_type": "execute_result"
    }
   ],
   "source": [
    "model_iJN678.reactions.HOXG"
   ]
  },
  {
   "cell_type": "markdown",
   "id": "2d3d000d",
   "metadata": {},
   "source": [
    "## Adding the HOXG Reaction\n",
    "\n",
    "Adding the HOXG reaction to the iJO1366 model."
   ]
  },
  {
   "cell_type": "code",
   "execution_count": 4,
   "id": "c4c77c59",
   "metadata": {},
   "outputs": [],
   "source": [
    "model_iJO1366.add_reactions([model_iJN678.reactions.HOXG])"
   ]
  },
  {
   "cell_type": "code",
   "execution_count": 5,
   "id": "7c2f10a4",
   "metadata": {},
   "outputs": [
    {
     "data": {
      "text/html": [
       "\n",
       "        <table>\n",
       "            <tr>\n",
       "                <td><strong>Metabolite identifier</strong></td><td>co_c</td>\n",
       "            </tr><tr>\n",
       "                <td><strong>Name</strong></td><td>Carbon monoxide</td>\n",
       "            </tr><tr>\n",
       "                <td><strong>Memory address</strong></td>\n",
       "                <td>0x027e4820e220</td>\n",
       "            </tr><tr>\n",
       "                <td><strong>Formula</strong></td><td>CO</td>\n",
       "            </tr><tr>\n",
       "                <td><strong>Compartment</strong></td><td>c</td>\n",
       "            </tr><tr>\n",
       "                <td><strong>In 2 reaction(s)</strong></td><td>\n",
       "                    HOXG, Cotpp</td>\n",
       "            </tr>\n",
       "        </table>"
      ],
      "text/plain": [
       "<Metabolite co_c at 0x27e4820e220>"
      ]
     },
     "execution_count": 5,
     "metadata": {},
     "output_type": "execute_result"
    }
   ],
   "source": [
    "model_iJO1366.metabolites.co_c"
   ]
  },
  {
   "cell_type": "markdown",
   "id": "39bb66f6",
   "metadata": {},
   "source": [
    "Looking at the properties of the HOXG reaction in the iJO1366 model."
   ]
  },
  {
   "cell_type": "code",
   "execution_count": 6,
   "id": "00f6cd8e",
   "metadata": {},
   "outputs": [
    {
     "data": {
      "text/html": [
       "\n",
       "        <table>\n",
       "            <tr>\n",
       "                <td><strong>Reaction identifier</strong></td><td>HOXG</td>\n",
       "            </tr><tr>\n",
       "                <td><strong>Name</strong></td><td>Heme oxygenase 1</td>\n",
       "            </tr><tr>\n",
       "                <td><strong>Memory address</strong></td>\n",
       "                <td>0x027e48edbe80</td>\n",
       "            </tr><tr>\n",
       "                <td><strong>Stoichiometry</strong></td>\n",
       "                <td>\n",
       "                    <p style='text-align:right'>5.0 h_c + 3.0 nadph_c + 3.0 o2_c + pheme_c --> biliverd_c + co_c + fe2_c + 3.0 h2o_c + 3.0 nadp_c</p>\n",
       "                    <p style='text-align:right'>5.0 H+ + 3.0 Nicotinamide adenine dinucleotide phosphate - reduced + 3.0 O2 O2 + Protoheme C34H30FeN4O4 --> Biliverdin cytosol + Carbon monoxide + Fe2+ mitochondria + 3.0 H2O H2O + 3.0 Nicotinamide...</p>\n",
       "                </td>\n",
       "            </tr><tr>\n",
       "                <td><strong>GPR</strong></td><td>ho1 or ho2</td>\n",
       "            </tr><tr>\n",
       "                <td><strong>Lower bound</strong></td><td>0.0</td>\n",
       "            </tr><tr>\n",
       "                <td><strong>Upper bound</strong></td><td>1000.0</td>\n",
       "            </tr>\n",
       "        </table>\n",
       "        "
      ],
      "text/plain": [
       "<Reaction HOXG at 0x27e48edbe80>"
      ]
     },
     "execution_count": 6,
     "metadata": {},
     "output_type": "execute_result"
    }
   ],
   "source": [
    "model_iJO1366.reactions.HOXG"
   ]
  },
  {
   "cell_type": "markdown",
   "id": "3c901ced",
   "metadata": {},
   "source": [
    "**Note:** Some imported reactions will need to have their upper and lower bounds adjusted to be consistant with the current model."
   ]
  },
  {
   "cell_type": "markdown",
   "id": "904ab56e",
   "metadata": {},
   "source": [
    "Not only does this new reaction add biliverdin ('biliverd_c') to the cytoplasm it also adds carbon monoxide ('co_c'). In these constraint based models metabolites are not allowed to build up within the cytoplasm (mass balance) so demand reactions have to be added for all metabolites that could build-up within the cell. The iJO1366 model does not have an exchange reaction to secrete carbon monoxide out of the cell so demand reactions will have to be added for both heme oxygenase and carbon dioxide.\n",
    "\n",
    "First, creating the demand reaction for biliverdin."
   ]
  },
  {
   "cell_type": "code",
   "execution_count": 7,
   "id": "e7bb4e74",
   "metadata": {},
   "outputs": [
    {
     "data": {
      "text/html": [
       "\n",
       "        <table>\n",
       "            <tr>\n",
       "                <td><strong>Reaction identifier</strong></td><td>DM_biliverd_c</td>\n",
       "            </tr><tr>\n",
       "                <td><strong>Name</strong></td><td>Biliverdin cytosol demand</td>\n",
       "            </tr><tr>\n",
       "                <td><strong>Memory address</strong></td>\n",
       "                <td>0x027e4cd5be20</td>\n",
       "            </tr><tr>\n",
       "                <td><strong>Stoichiometry</strong></td>\n",
       "                <td>\n",
       "                    <p style='text-align:right'>biliverd_c --></p>\n",
       "                    <p style='text-align:right'>Biliverdin cytosol --></p>\n",
       "                </td>\n",
       "            </tr><tr>\n",
       "                <td><strong>GPR</strong></td><td></td>\n",
       "            </tr><tr>\n",
       "                <td><strong>Lower bound</strong></td><td>0</td>\n",
       "            </tr><tr>\n",
       "                <td><strong>Upper bound</strong></td><td>1000.0</td>\n",
       "            </tr>\n",
       "        </table>\n",
       "        "
      ],
      "text/plain": [
       "<Reaction DM_biliverd_c at 0x27e4cd5be20>"
      ]
     },
     "execution_count": 7,
     "metadata": {},
     "output_type": "execute_result"
    }
   ],
   "source": [
    "model_iJO1366.add_boundary(model_iJO1366.metabolites.get_by_id(\"biliverd_c\"), type=\"demand\")"
   ]
  },
  {
   "cell_type": "markdown",
   "id": "2d7ec594",
   "metadata": {},
   "source": [
    "Second, creating the demand reaction for carbon dioxide"
   ]
  },
  {
   "cell_type": "code",
   "execution_count": 8,
   "id": "b3a1d41e",
   "metadata": {},
   "outputs": [
    {
     "data": {
      "text/html": [
       "\n",
       "        <table>\n",
       "            <tr>\n",
       "                <td><strong>Reaction identifier</strong></td><td>DM_co_c</td>\n",
       "            </tr><tr>\n",
       "                <td><strong>Name</strong></td><td>Carbon monoxide demand</td>\n",
       "            </tr><tr>\n",
       "                <td><strong>Memory address</strong></td>\n",
       "                <td>0x027e48154160</td>\n",
       "            </tr><tr>\n",
       "                <td><strong>Stoichiometry</strong></td>\n",
       "                <td>\n",
       "                    <p style='text-align:right'>co_c --></p>\n",
       "                    <p style='text-align:right'>Carbon monoxide --></p>\n",
       "                </td>\n",
       "            </tr><tr>\n",
       "                <td><strong>GPR</strong></td><td></td>\n",
       "            </tr><tr>\n",
       "                <td><strong>Lower bound</strong></td><td>0</td>\n",
       "            </tr><tr>\n",
       "                <td><strong>Upper bound</strong></td><td>1000.0</td>\n",
       "            </tr>\n",
       "        </table>\n",
       "        "
      ],
      "text/plain": [
       "<Reaction DM_co_c at 0x27e48154160>"
      ]
     },
     "execution_count": 8,
     "metadata": {},
     "output_type": "execute_result"
    }
   ],
   "source": [
    "model_iJO1366.add_boundary(model_iJO1366.metabolites.get_by_id(\"co_c\"), type=\"demand\")"
   ]
  },
  {
   "cell_type": "markdown",
   "id": "0256aebb",
   "metadata": {},
   "source": [
    "There are cases where the metabolites that are added to the new model bring with them the names of the reactions they were previously connected to. After adding the models it is a good idea to update all the indexes and pointers within the model. This can be done as follows."
   ]
  },
  {
   "cell_type": "code",
   "execution_count": 9,
   "id": "77c81d73",
   "metadata": {},
   "outputs": [],
   "source": [
    "model_iJO1366.repair()"
   ]
  },
  {
   "cell_type": "markdown",
   "id": "8af100ca",
   "metadata": {},
   "source": [
    "Looking at the properties of carbon monoxide we can see that it is involved with two reactions; HOXG and it's demand reaction DM_co_c."
   ]
  },
  {
   "cell_type": "code",
   "execution_count": 10,
   "id": "5a0cf8d3",
   "metadata": {},
   "outputs": [
    {
     "data": {
      "text/html": [
       "\n",
       "        <table>\n",
       "            <tr>\n",
       "                <td><strong>Metabolite identifier</strong></td><td>co_c</td>\n",
       "            </tr><tr>\n",
       "                <td><strong>Name</strong></td><td>Carbon monoxide</td>\n",
       "            </tr><tr>\n",
       "                <td><strong>Memory address</strong></td>\n",
       "                <td>0x027e4820e220</td>\n",
       "            </tr><tr>\n",
       "                <td><strong>Formula</strong></td><td>CO</td>\n",
       "            </tr><tr>\n",
       "                <td><strong>Compartment</strong></td><td>c</td>\n",
       "            </tr><tr>\n",
       "                <td><strong>In 2 reaction(s)</strong></td><td>\n",
       "                    HOXG, DM_co_c</td>\n",
       "            </tr>\n",
       "        </table>"
      ],
      "text/plain": [
       "<Metabolite co_c at 0x27e4820e220>"
      ]
     },
     "execution_count": 10,
     "metadata": {},
     "output_type": "execute_result"
    }
   ],
   "source": [
    "model_iJO1366.metabolites.co_c"
   ]
  },
  {
   "cell_type": "markdown",
   "id": "16304e9a",
   "metadata": {},
   "source": [
    "Looking at the properties of biliverdin we can see that it is involved with two reactions; HOXG and it's demand reaction DM_biliverd_c."
   ]
  },
  {
   "cell_type": "code",
   "execution_count": 11,
   "id": "31954667",
   "metadata": {},
   "outputs": [
    {
     "data": {
      "text/html": [
       "\n",
       "        <table>\n",
       "            <tr>\n",
       "                <td><strong>Metabolite identifier</strong></td><td>biliverd_c</td>\n",
       "            </tr><tr>\n",
       "                <td><strong>Name</strong></td><td>Biliverdin cytosol</td>\n",
       "            </tr><tr>\n",
       "                <td><strong>Memory address</strong></td>\n",
       "                <td>0x027e483255e0</td>\n",
       "            </tr><tr>\n",
       "                <td><strong>Formula</strong></td><td>C33H32N4O6</td>\n",
       "            </tr><tr>\n",
       "                <td><strong>Compartment</strong></td><td>c</td>\n",
       "            </tr><tr>\n",
       "                <td><strong>In 2 reaction(s)</strong></td><td>\n",
       "                    HOXG, DM_biliverd_c</td>\n",
       "            </tr>\n",
       "        </table>"
      ],
      "text/plain": [
       "<Metabolite biliverd_c at 0x27e483255e0>"
      ]
     },
     "execution_count": 11,
     "metadata": {},
     "output_type": "execute_result"
    }
   ],
   "source": [
    "model_iJO1366.metabolites.biliverd_c"
   ]
  },
  {
   "cell_type": "markdown",
   "id": "fcc47b95",
   "metadata": {},
   "source": [
    "Now let's save the new mutant model as a json file for later use."
   ]
  },
  {
   "cell_type": "code",
   "execution_count": 12,
   "id": "daf8af7b",
   "metadata": {},
   "outputs": [],
   "source": [
    "cobra.io.save_json_model(model_iJO1366, \"./model_iJO1366_HOXG.json\")"
   ]
  },
  {
   "cell_type": "markdown",
   "id": "48b1445e",
   "metadata": {},
   "source": [
    "## Flux Balance Analysis\n",
    "\n",
    "Let's find the maximum bilverdin that can be produced. This can be done by setting the objective function to the demand reaction for biliverdin."
   ]
  },
  {
   "cell_type": "code",
   "execution_count": 13,
   "id": "d2db2e95",
   "metadata": {},
   "outputs": [
    {
     "data": {
      "text/plain": [
       "<optlang.glpk_interface.Objective at 0x27e49444310>"
      ]
     },
     "execution_count": 13,
     "metadata": {},
     "output_type": "execute_result"
    }
   ],
   "source": [
    "model_iJO1366.objective = 'DM_biliverd_c'\n",
    "model_iJO1366.objective"
   ]
  },
  {
   "cell_type": "markdown",
   "id": "a4656256",
   "metadata": {},
   "source": [
    "The maximum biliverdin is calculated to be"
   ]
  },
  {
   "cell_type": "code",
   "execution_count": 14,
   "id": "4cf57a60",
   "metadata": {},
   "outputs": [
    {
     "data": {
      "text/plain": [
       "1.3294809010773743"
      ]
     },
     "execution_count": 14,
     "metadata": {},
     "output_type": "execute_result"
    }
   ],
   "source": [
    "solution = model_iJO1366.optimize()\n",
    "model_iJO1366.reactions.DM_biliverd_c.flux"
   ]
  },
  {
   "cell_type": "markdown",
   "id": "efb96412",
   "metadata": {},
   "source": [
    "Below is the flux through the HOXG reaction"
   ]
  },
  {
   "cell_type": "code",
   "execution_count": 15,
   "id": "ddaa1685",
   "metadata": {},
   "outputs": [
    {
     "data": {
      "text/plain": [
       "1.3294809010773743"
      ]
     },
     "execution_count": 15,
     "metadata": {},
     "output_type": "execute_result"
    }
   ],
   "source": [
    "model_iJO1366.reactions.HOXG.flux"
   ]
  },
  {
   "cell_type": "markdown",
   "id": "19e24457",
   "metadata": {},
   "source": [
    "Note that this is the value of biliverdin production when the growth rate is zero!"
   ]
  },
  {
   "cell_type": "markdown",
   "id": "9e3c9a12",
   "metadata": {},
   "source": [
    "## Escher Map\n",
    "\n",
    "What is the subsystem that HOXG is located?"
   ]
  },
  {
   "cell_type": "code",
   "execution_count": 16,
   "id": "b4e641ea",
   "metadata": {},
   "outputs": [
    {
     "data": {
      "text/plain": [
       "'Porphyrin and chlorophyll metabolism'"
      ]
     },
     "execution_count": 16,
     "metadata": {},
     "output_type": "execute_result"
    }
   ],
   "source": [
    "model_iJO1366.reactions.HOXG.subsystem"
   ]
  },
  {
   "cell_type": "markdown",
   "id": "bc4f5ae0",
   "metadata": {},
   "source": [
    "There is no such subsystem in the iJO1366 model, which will require us to find the correct subsystem for this reaction. A good start is to find the subsystem where pheme_c is produced since that is the substrate for HOXG."
   ]
  },
  {
   "cell_type": "code",
   "execution_count": 17,
   "id": "754d0f83",
   "metadata": {},
   "outputs": [
    {
     "data": {
      "text/html": [
       "<h3>pheme_c</h3><p>C34H30FeN4O4</p><h4>Producing Reactions</h4><table border=\"1\" class=\"dataframe\">\n",
       "  <thead>\n",
       "    <tr style=\"text-align: right;\">\n",
       "      <th>Percent</th>\n",
       "      <th>Flux</th>\n",
       "      <th>Reaction</th>\n",
       "      <th>Definition</th>\n",
       "    </tr>\n",
       "  </thead>\n",
       "  <tbody>\n",
       "    <tr>\n",
       "      <td>100.00%</td>\n",
       "      <td>1.329</td>\n",
       "      <td>FCLT</td>\n",
       "      <td>fe2_c + ppp9_c --&gt; 2.0 h_c + pheme_c</td>\n",
       "    </tr>\n",
       "  </tbody>\n",
       "</table><h4>Consuming Reactions</h4><table border=\"1\" class=\"dataframe\">\n",
       "  <thead>\n",
       "    <tr style=\"text-align: right;\">\n",
       "      <th>Percent</th>\n",
       "      <th>Flux</th>\n",
       "      <th>Reaction</th>\n",
       "      <th>Definition</th>\n",
       "    </tr>\n",
       "  </thead>\n",
       "  <tbody>\n",
       "    <tr>\n",
       "      <td>100.00%</td>\n",
       "      <td>-1.329</td>\n",
       "      <td>HOXG</td>\n",
       "      <td>5.0 h_c + 3.0 nadph_c + 3.0 o2_c + pheme_c --&gt; biliverd_c + co_c + fe2_c + 3.0 h2o_c + 3.0 nadp_c</td>\n",
       "    </tr>\n",
       "  </tbody>\n",
       "</table>"
      ],
      "text/plain": [
       "<cobra.summary.metabolite_summary.MetaboliteSummary at 0x27e48154370>"
      ]
     },
     "execution_count": 17,
     "metadata": {},
     "output_type": "execute_result"
    }
   ],
   "source": [
    "model_iJO1366.metabolites.pheme_c.summary()"
   ]
  },
  {
   "cell_type": "markdown",
   "id": "58f14f72",
   "metadata": {},
   "source": [
    "From this information we can see that pheme_c is entirely produced by the FCLT reaction. The subsystem for FCLT is"
   ]
  },
  {
   "cell_type": "code",
   "execution_count": 18,
   "id": "9847ab9c",
   "metadata": {},
   "outputs": [
    {
     "data": {
      "text/plain": [
       "'Cofactor and Prosthetic Group Biosynthesis'"
      ]
     },
     "execution_count": 18,
     "metadata": {},
     "output_type": "execute_result"
    }
   ],
   "source": [
    "model_iJO1366.reactions.FCLT.subsystem"
   ]
  },
  {
   "cell_type": "markdown",
   "id": "7b69345b",
   "metadata": {},
   "source": [
    "Changing the HOXG subsystem name"
   ]
  },
  {
   "cell_type": "code",
   "execution_count": 19,
   "id": "75ffab6b",
   "metadata": {},
   "outputs": [],
   "source": [
    "model_iJO1366.reactions.HOXG.subsystem = 'Cofactor and Prosthetic Group Biosynthesis'"
   ]
  },
  {
   "cell_type": "markdown",
   "id": "60906a01",
   "metadata": {},
   "source": [
    "Checking"
   ]
  },
  {
   "cell_type": "code",
   "execution_count": 20,
   "id": "af35a9db",
   "metadata": {},
   "outputs": [
    {
     "data": {
      "text/plain": [
       "'Cofactor and Prosthetic Group Biosynthesis'"
      ]
     },
     "execution_count": 20,
     "metadata": {},
     "output_type": "execute_result"
    }
   ],
   "source": [
    "model_iJO1366.reactions.HOXG.subsystem"
   ]
  },
  {
   "cell_type": "markdown",
   "id": "1c60003f",
   "metadata": {},
   "source": [
    "Loading a previously created Escher map of the 'Cofactor and Prosthetic Group Biosynthesis' that includes the HOXG reaction"
   ]
  },
  {
   "cell_type": "code",
   "execution_count": 21,
   "id": "78ac7f06",
   "metadata": {},
   "outputs": [
    {
     "data": {
      "application/vnd.jupyter.widget-view+json": {
       "model_id": "d2645dca95bf4146a1ea1ba628ef4f7f",
       "version_major": 2,
       "version_minor": 0
      },
      "text/plain": [
       "Builder()"
      ]
     },
     "metadata": {},
     "output_type": "display_data"
    }
   ],
   "source": [
    "import escher\n",
    "from escher import Builder\n",
    "builder = Builder(\n",
    "    model_json = './model_iJO1366_HOXG.json'\n",
    ")\n",
    "builder.map_json = './iJO1366_HOXG_map.json'\n",
    "builder"
   ]
  },
  {
   "cell_type": "code",
   "execution_count": 22,
   "id": "cb7db291",
   "metadata": {},
   "outputs": [],
   "source": [
    "model_iJO1366.reactions.DM_biliverd_c.bounds = (0.5, 0.5) # Setting a dummy value for the HOXG flux\n",
    "HOXG_solution=model_iJO1366.optimize()\n",
    "builder.reaction_data = HOXG_solution.fluxes"
   ]
  },
  {
   "cell_type": "markdown",
   "id": "561299b6",
   "metadata": {},
   "source": [
    "Towards the ceenter of the map is the HOXG reaction and it's supporting demand reactions."
   ]
  },
  {
   "cell_type": "markdown",
   "id": "34b53502",
   "metadata": {},
   "source": [
    "## References\n",
    "\n",
    "1. Takemoto, Jon Y., et al. \"Heme‐Derived Bilins.\" Israel Journal of Chemistry 59.5 (2019): 378-386.\n",
    "2. Chen, Dong, et al. \"Scalable production of biliverdin IXα by Escherichia coli.\" BMC biotechnology 12.1 (2012): 1-10."
   ]
  }
 ],
 "metadata": {
  "kernelspec": {
   "display_name": "Python 3 (ipykernel)",
   "language": "python",
   "name": "python3"
  },
  "language_info": {
   "codemirror_mode": {
    "name": "ipython",
    "version": 3
   },
   "file_extension": ".py",
   "mimetype": "text/x-python",
   "name": "python",
   "nbconvert_exporter": "python",
   "pygments_lexer": "ipython3",
   "version": "3.8.12"
  }
 },
 "nbformat": 4,
 "nbformat_minor": 5
}
