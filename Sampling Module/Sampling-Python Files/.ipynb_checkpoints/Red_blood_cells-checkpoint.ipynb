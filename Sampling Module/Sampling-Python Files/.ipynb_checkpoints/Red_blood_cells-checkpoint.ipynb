{
 "cells": [
  {
   "cell_type": "markdown",
   "id": "171ea272",
   "metadata": {},
   "source": [
    "# Red Blood Cells\n",
    "\n",
    "Set the environment"
   ]
  },
  {
   "cell_type": "code",
   "execution_count": 1,
   "id": "45a48107",
   "metadata": {},
   "outputs": [],
   "source": [
    "import cobra.test\n",
    "import pandas as pd\n",
    "import numpy as np\n",
    "import pandas as pd\n",
    "import escher\n",
    "from escher import Builder\n",
    "from cobra.sampling import sample\n",
    "import matplotlib.pyplot as plt\n",
    "pd.set_option('display.max_rows', 10000)\n",
    "pd.set_option('display.width',5000)\n",
    "pd.set_option('display.max_colwidth',None)"
   ]
  },
  {
   "cell_type": "markdown",
   "id": "d3d9f6a4",
   "metadata": {},
   "source": [
    "Load the BIGG version of the red blood cell model (iAB_RBC_283)"
   ]
  },
  {
   "cell_type": "code",
   "execution_count": 2,
   "id": "12304faa",
   "metadata": {},
   "outputs": [],
   "source": [
    "from cobrapy_bigg_client import client\n",
    "model = client.download_model('iAB_RBC_283', save=False)"
   ]
  },
  {
   "cell_type": "markdown",
   "id": "f6202dfe",
   "metadata": {},
   "source": [
    "Let's explore some of properties of this model"
   ]
  },
  {
   "cell_type": "code",
   "execution_count": 3,
   "id": "4d10b2cb",
   "metadata": {},
   "outputs": [
    {
     "data": {
      "text/html": [
       "\n",
       "        <table>\n",
       "            <tr>\n",
       "                <td><strong>Name</strong></td>\n",
       "                <td>iAB_RBC_283</td>\n",
       "            </tr><tr>\n",
       "                <td><strong>Memory address</strong></td>\n",
       "                <td>0x07fc2982457c0</td>\n",
       "            </tr><tr>\n",
       "                <td><strong>Number of metabolites</strong></td>\n",
       "                <td>342</td>\n",
       "            </tr><tr>\n",
       "                <td><strong>Number of reactions</strong></td>\n",
       "                <td>469</td>\n",
       "            </tr><tr>\n",
       "                <td><strong>Number of groups</strong></td>\n",
       "                <td>0</td>\n",
       "            </tr><tr>\n",
       "                <td><strong>Objective expression</strong></td>\n",
       "                <td>1.0*NaKt - 1.0*NaKt_reverse_db47e</td>\n",
       "            </tr><tr>\n",
       "                <td><strong>Compartments</strong></td>\n",
       "                <td>cytosol, extracellular space</td>\n",
       "            </tr>\n",
       "          </table>"
      ],
      "text/plain": [
       "<Model iAB_RBC_283 at 0x7fc2982457c0>"
      ]
     },
     "execution_count": 3,
     "metadata": {},
     "output_type": "execute_result"
    }
   ],
   "source": [
    "model"
   ]
  },
  {
   "cell_type": "markdown",
   "id": "6c7be65f",
   "metadata": {},
   "source": [
    "What are the default settings for the exchange reactions that can uptake from the extracellular space?"
   ]
  },
  {
   "cell_type": "code",
   "execution_count": 4,
   "id": "a365630d",
   "metadata": {
    "scrolled": true
   },
   "outputs": [
    {
     "data": {
      "text/plain": [
       "{'EX_ade_e': 0.014,\n",
       " 'EX_adn_e': 0.01,\n",
       " 'EX_adrnl_e': 0.0378,\n",
       " 'EX_arg__L_e': 0.1152,\n",
       " 'EX_ca2_e': 10.0,\n",
       " 'EX_chol_e': 0.012,\n",
       " 'EX_cl_e': 10.0,\n",
       " 'EX_co2_e': 5.87112293333346,\n",
       " 'EX_cys__L_e': 0.08,\n",
       " 'EX_dhdascb_e': 0.1111,\n",
       " 'EX_dopa_e': 0.0324,\n",
       " 'EX_5aop_e': 0.02,\n",
       " 'EX_etha_e': 0.012,\n",
       " 'EX_fe2_e': 10.0,\n",
       " 'EX_fru_e': 0.0075,\n",
       " 'EX_fum_e': 0.25,\n",
       " 'EX_gal_e': 0.3169,\n",
       " 'EX_gam_e': 1e-05,\n",
       " 'EX_acald_e': 10.0,\n",
       " 'EX_acnam_e': 3.74e-05,\n",
       " 'EX_glc__D_e': 1.12,\n",
       " 'EX_gln__L_e': 10.0,\n",
       " 'EX_gluala_e': 0.08,\n",
       " 'EX_gly_e': 0.08,\n",
       " 'EX_glyc_e': 0.012,\n",
       " 'EX_h_e': 0.900450000000104,\n",
       " 'EX_h2o_e': 6.45680282666678,\n",
       " 'EX_h2o2_e': 10.0,\n",
       " 'EX_hco3_e': 0.0824999999999996,\n",
       " 'EX_hdca_e': 0.012,\n",
       " 'EX_k_e': 10.0,\n",
       " 'EX_leuktrA4_e': 2.4e-06,\n",
       " 'EX_lnlc_e': 0.006,\n",
       " 'EX_mal__L_e': 0.5,\n",
       " 'EX_man_e': 0.01,\n",
       " 'EX_met__L_e': 0.01,\n",
       " 'EX_na1_e': 10.0,\n",
       " 'EX_nac_e': 0.001,\n",
       " 'EX_nh4_e': 0.000999999999999446,\n",
       " 'EX_nrpphr_e': 0.0288,\n",
       " 'EX_o2_e': 0.0943609999999993,\n",
       " 'EX_ocdcea_e': 0.006,\n",
       " 'EX_orot_e': 0.01,\n",
       " 'EX_phe__L_e': 10.0,\n",
       " 'EX_pi_e': 1.30470065185183,\n",
       " 'EX_pydam_e': 0.0001,\n",
       " 'EX_pydx_e': 0.000155,\n",
       " 'EX_pydxn_e': 0.000128,\n",
       " 'EX_ribflv_e': 10.0,\n",
       " 'EX_thm_e': 6e-05}"
      ]
     },
     "execution_count": 4,
     "metadata": {},
     "output_type": "execute_result"
    }
   ],
   "source": [
    "model.medium"
   ]
  },
  {
   "cell_type": "markdown",
   "id": "89a04d17",
   "metadata": {},
   "source": [
    "Let's look at the Escher map"
   ]
  },
  {
   "cell_type": "code",
   "execution_count": 5,
   "id": "092ee06b",
   "metadata": {},
   "outputs": [
    {
     "data": {
      "application/vnd.jupyter.widget-view+json": {
       "model_id": "a96d7e9e032f4c229a7ec95ff771b7bd",
       "version_major": 2,
       "version_minor": 0
      },
      "text/plain": [
       "Builder()"
      ]
     },
     "metadata": {},
     "output_type": "display_data"
    }
   ],
   "source": [
    "builder = Builder(\n",
    "    model_json='iAB_RBC_283.json' \n",
    ")\n",
    "builder.map_json = './iAB_RBC_283.metabolism.json' # File needs to be in the current directory\n",
    "builder"
   ]
  },
  {
   "cell_type": "markdown",
   "id": "00498761",
   "metadata": {},
   "source": [
    "Looking at some fluxes on this model"
   ]
  },
  {
   "cell_type": "code",
   "execution_count": 6,
   "id": "50abde93",
   "metadata": {},
   "outputs": [],
   "source": [
    "solution=model.optimize()\n",
    "builder.reaction_data = solution.fluxes"
   ]
  },
  {
   "cell_type": "markdown",
   "id": "b469287e",
   "metadata": {},
   "source": [
    "Looking at the FBA summary"
   ]
  },
  {
   "cell_type": "markdown",
   "id": "6bba58ce",
   "metadata": {},
   "source": []
  },
  {
   "cell_type": "markdown",
   "id": "6ff3abe1",
   "metadata": {},
   "source": [
    "Sampling the model"
   ]
  },
  {
   "cell_type": "code",
   "execution_count": 9,
   "id": "73f980a9",
   "metadata": {},
   "outputs": [
    {
     "name": "stdout",
     "output_type": "stream",
     "text": [
      "CPU times: user 4.11 s, sys: 1.88 s, total: 5.99 s\n",
      "Wall time: 1min 19s\n"
     ]
    },
    {
     "data": {
      "text/html": [
       "<div>\n",
       "<style scoped>\n",
       "    .dataframe tbody tr th:only-of-type {\n",
       "        vertical-align: middle;\n",
       "    }\n",
       "\n",
       "    .dataframe tbody tr th {\n",
       "        vertical-align: top;\n",
       "    }\n",
       "\n",
       "    .dataframe thead th {\n",
       "        text-align: right;\n",
       "    }\n",
       "</style>\n",
       "<table border=\"1\" class=\"dataframe\">\n",
       "  <thead>\n",
       "    <tr style=\"text-align: right;\">\n",
       "      <th></th>\n",
       "      <th>SK_pchol_hs_18_1_18_1_c</th>\n",
       "      <th>SK_pchol_hs_18_1_18_2_c</th>\n",
       "      <th>SK_pchol_hs_18_2_16_0_c</th>\n",
       "      <th>SK_pchol_hs_18_2_18_1_c</th>\n",
       "      <th>SK_pe_hs_16_0_16_0_c</th>\n",
       "      <th>SK_pe_hs_16_0_18_1_c</th>\n",
       "      <th>SK_pe_hs_16_0_18_2_c</th>\n",
       "      <th>SK_pe_hs_18_1_18_1_c</th>\n",
       "      <th>SK_pe_hs_18_1_18_2_c</th>\n",
       "      <th>SK_pe_hs_18_2_16_0_c</th>\n",
       "      <th>...</th>\n",
       "      <th>XYLK</th>\n",
       "      <th>XYLTD_D</th>\n",
       "      <th>XYLUR</th>\n",
       "      <th>ARD</th>\n",
       "      <th>CEPTC_18_1_18_2</th>\n",
       "      <th>CEPTC_18_2_16_0</th>\n",
       "      <th>CEPTC_18_2_18_1</th>\n",
       "      <th>CEPTE_16_0_18_1</th>\n",
       "      <th>CEPTE_16_0_18_2</th>\n",
       "      <th>CEPTE_18_1_18_1</th>\n",
       "    </tr>\n",
       "  </thead>\n",
       "  <tbody>\n",
       "    <tr>\n",
       "      <th>0</th>\n",
       "      <td>-0.000014</td>\n",
       "      <td>0.379423</td>\n",
       "      <td>0.000155</td>\n",
       "      <td>-0.373870</td>\n",
       "      <td>4.801742e-07</td>\n",
       "      <td>-8.739168e-17</td>\n",
       "      <td>6.425790e-09</td>\n",
       "      <td>1.927737e-08</td>\n",
       "      <td>1.285158e-08</td>\n",
       "      <td>0.000001</td>\n",
       "      <td>...</td>\n",
       "      <td>0.008244</td>\n",
       "      <td>0.008244</td>\n",
       "      <td>0.008244</td>\n",
       "      <td>0.000032</td>\n",
       "      <td>0.405435</td>\n",
       "      <td>0.000157</td>\n",
       "      <td>0.000652</td>\n",
       "      <td>-8.739170e-17</td>\n",
       "      <td>6.425790e-09</td>\n",
       "      <td>1.927737e-08</td>\n",
       "    </tr>\n",
       "    <tr>\n",
       "      <th>1</th>\n",
       "      <td>-0.007642</td>\n",
       "      <td>0.348640</td>\n",
       "      <td>0.000389</td>\n",
       "      <td>-0.343069</td>\n",
       "      <td>1.344391e-04</td>\n",
       "      <td>-8.525750e-17</td>\n",
       "      <td>5.540680e-11</td>\n",
       "      <td>1.026325e-05</td>\n",
       "      <td>1.108136e-10</td>\n",
       "      <td>0.000081</td>\n",
       "      <td>...</td>\n",
       "      <td>0.019309</td>\n",
       "      <td>0.019309</td>\n",
       "      <td>0.019309</td>\n",
       "      <td>0.001409</td>\n",
       "      <td>0.352878</td>\n",
       "      <td>0.000403</td>\n",
       "      <td>0.002250</td>\n",
       "      <td>-8.525237e-17</td>\n",
       "      <td>5.540679e-11</td>\n",
       "      <td>1.026325e-05</td>\n",
       "    </tr>\n",
       "    <tr>\n",
       "      <th>2</th>\n",
       "      <td>-0.007263</td>\n",
       "      <td>0.332872</td>\n",
       "      <td>0.000626</td>\n",
       "      <td>-0.326685</td>\n",
       "      <td>6.674162e-05</td>\n",
       "      <td>-8.793525e-17</td>\n",
       "      <td>3.728355e-10</td>\n",
       "      <td>1.027356e-05</td>\n",
       "      <td>7.456711e-10</td>\n",
       "      <td>0.000072</td>\n",
       "      <td>...</td>\n",
       "      <td>0.049629</td>\n",
       "      <td>0.049629</td>\n",
       "      <td>0.049629</td>\n",
       "      <td>0.001627</td>\n",
       "      <td>0.334058</td>\n",
       "      <td>0.000639</td>\n",
       "      <td>0.003792</td>\n",
       "      <td>-8.800784e-17</td>\n",
       "      <td>3.728355e-10</td>\n",
       "      <td>1.027356e-05</td>\n",
       "    </tr>\n",
       "    <tr>\n",
       "      <th>3</th>\n",
       "      <td>-0.009395</td>\n",
       "      <td>0.270097</td>\n",
       "      <td>0.001562</td>\n",
       "      <td>-0.264210</td>\n",
       "      <td>2.802739e-05</td>\n",
       "      <td>-1.894998e-17</td>\n",
       "      <td>3.383632e-10</td>\n",
       "      <td>1.017708e-05</td>\n",
       "      <td>1.990020e-06</td>\n",
       "      <td>0.000113</td>\n",
       "      <td>...</td>\n",
       "      <td>0.052907</td>\n",
       "      <td>0.052907</td>\n",
       "      <td>0.052907</td>\n",
       "      <td>0.001215</td>\n",
       "      <td>0.279180</td>\n",
       "      <td>0.001572</td>\n",
       "      <td>0.015555</td>\n",
       "      <td>-1.902251e-17</td>\n",
       "      <td>3.383632e-10</td>\n",
       "      <td>1.017708e-05</td>\n",
       "    </tr>\n",
       "    <tr>\n",
       "      <th>4</th>\n",
       "      <td>-0.006473</td>\n",
       "      <td>0.240682</td>\n",
       "      <td>0.000163</td>\n",
       "      <td>-0.231787</td>\n",
       "      <td>2.547171e-05</td>\n",
       "      <td>1.596165e-16</td>\n",
       "      <td>4.146861e-10</td>\n",
       "      <td>1.490988e-05</td>\n",
       "      <td>6.762081e-06</td>\n",
       "      <td>0.000140</td>\n",
       "      <td>...</td>\n",
       "      <td>0.021944</td>\n",
       "      <td>0.021944</td>\n",
       "      <td>0.021944</td>\n",
       "      <td>0.001389</td>\n",
       "      <td>0.251783</td>\n",
       "      <td>0.001445</td>\n",
       "      <td>0.027942</td>\n",
       "      <td>1.594841e-16</td>\n",
       "      <td>4.146861e-10</td>\n",
       "      <td>1.490988e-05</td>\n",
       "    </tr>\n",
       "    <tr>\n",
       "      <th>...</th>\n",
       "      <td>...</td>\n",
       "      <td>...</td>\n",
       "      <td>...</td>\n",
       "      <td>...</td>\n",
       "      <td>...</td>\n",
       "      <td>...</td>\n",
       "      <td>...</td>\n",
       "      <td>...</td>\n",
       "      <td>...</td>\n",
       "      <td>...</td>\n",
       "      <td>...</td>\n",
       "      <td>...</td>\n",
       "      <td>...</td>\n",
       "      <td>...</td>\n",
       "      <td>...</td>\n",
       "      <td>...</td>\n",
       "      <td>...</td>\n",
       "      <td>...</td>\n",
       "      <td>...</td>\n",
       "      <td>...</td>\n",
       "      <td>...</td>\n",
       "    </tr>\n",
       "    <tr>\n",
       "      <th>49995</th>\n",
       "      <td>0.006620</td>\n",
       "      <td>-0.010263</td>\n",
       "      <td>0.002480</td>\n",
       "      <td>-0.001569</td>\n",
       "      <td>6.111765e-04</td>\n",
       "      <td>-2.965979e-14</td>\n",
       "      <td>1.420842e-03</td>\n",
       "      <td>2.403855e-03</td>\n",
       "      <td>2.756784e-05</td>\n",
       "      <td>0.002248</td>\n",
       "      <td>...</td>\n",
       "      <td>0.002105</td>\n",
       "      <td>0.002105</td>\n",
       "      <td>0.002105</td>\n",
       "      <td>0.010018</td>\n",
       "      <td>0.000367</td>\n",
       "      <td>0.002571</td>\n",
       "      <td>0.007270</td>\n",
       "      <td>-2.966214e-14</td>\n",
       "      <td>1.420842e-03</td>\n",
       "      <td>2.403855e-03</td>\n",
       "    </tr>\n",
       "    <tr>\n",
       "      <th>49996</th>\n",
       "      <td>0.002977</td>\n",
       "      <td>-0.000081</td>\n",
       "      <td>0.018016</td>\n",
       "      <td>-0.010496</td>\n",
       "      <td>4.467308e-04</td>\n",
       "      <td>-3.026482e-14</td>\n",
       "      <td>1.461138e-03</td>\n",
       "      <td>2.423514e-03</td>\n",
       "      <td>5.302511e-05</td>\n",
       "      <td>0.002336</td>\n",
       "      <td>...</td>\n",
       "      <td>0.017242</td>\n",
       "      <td>0.017242</td>\n",
       "      <td>0.017242</td>\n",
       "      <td>0.011277</td>\n",
       "      <td>0.003767</td>\n",
       "      <td>0.018235</td>\n",
       "      <td>0.008166</td>\n",
       "      <td>-3.026720e-14</td>\n",
       "      <td>1.461138e-03</td>\n",
       "      <td>2.423514e-03</td>\n",
       "    </tr>\n",
       "    <tr>\n",
       "      <th>49997</th>\n",
       "      <td>-0.008074</td>\n",
       "      <td>-0.001358</td>\n",
       "      <td>-0.004783</td>\n",
       "      <td>0.005138</td>\n",
       "      <td>5.363571e-04</td>\n",
       "      <td>-3.017624e-14</td>\n",
       "      <td>1.443410e-03</td>\n",
       "      <td>2.859143e-03</td>\n",
       "      <td>4.183056e-05</td>\n",
       "      <td>0.002335</td>\n",
       "      <td>...</td>\n",
       "      <td>0.012164</td>\n",
       "      <td>0.012164</td>\n",
       "      <td>0.012164</td>\n",
       "      <td>0.010472</td>\n",
       "      <td>0.006673</td>\n",
       "      <td>0.009008</td>\n",
       "      <td>0.010286</td>\n",
       "      <td>-3.017861e-14</td>\n",
       "      <td>1.443410e-03</td>\n",
       "      <td>2.859143e-03</td>\n",
       "    </tr>\n",
       "    <tr>\n",
       "      <th>49998</th>\n",
       "      <td>-0.013209</td>\n",
       "      <td>-0.003251</td>\n",
       "      <td>-0.006310</td>\n",
       "      <td>0.012542</td>\n",
       "      <td>4.982067e-04</td>\n",
       "      <td>-3.000863e-14</td>\n",
       "      <td>1.447117e-03</td>\n",
       "      <td>2.861233e-03</td>\n",
       "      <td>6.384034e-05</td>\n",
       "      <td>0.002221</td>\n",
       "      <td>...</td>\n",
       "      <td>0.007061</td>\n",
       "      <td>0.007061</td>\n",
       "      <td>0.007061</td>\n",
       "      <td>0.013212</td>\n",
       "      <td>0.004554</td>\n",
       "      <td>0.007393</td>\n",
       "      <td>0.017947</td>\n",
       "      <td>-3.001100e-14</td>\n",
       "      <td>1.447117e-03</td>\n",
       "      <td>2.861233e-03</td>\n",
       "    </tr>\n",
       "    <tr>\n",
       "      <th>49999</th>\n",
       "      <td>-0.010918</td>\n",
       "      <td>0.006380</td>\n",
       "      <td>-0.006586</td>\n",
       "      <td>-0.002087</td>\n",
       "      <td>5.674844e-04</td>\n",
       "      <td>-2.964885e-14</td>\n",
       "      <td>1.447843e-03</td>\n",
       "      <td>2.862494e-03</td>\n",
       "      <td>5.413513e-05</td>\n",
       "      <td>0.002213</td>\n",
       "      <td>...</td>\n",
       "      <td>0.001134</td>\n",
       "      <td>0.001134</td>\n",
       "      <td>0.001134</td>\n",
       "      <td>0.013542</td>\n",
       "      <td>0.013328</td>\n",
       "      <td>0.007399</td>\n",
       "      <td>0.010508</td>\n",
       "      <td>-2.965122e-14</td>\n",
       "      <td>1.447843e-03</td>\n",
       "      <td>2.862494e-03</td>\n",
       "    </tr>\n",
       "  </tbody>\n",
       "</table>\n",
       "<p>50000 rows × 469 columns</p>\n",
       "</div>"
      ],
      "text/plain": [
       "       SK_pchol_hs_18_1_18_1_c  SK_pchol_hs_18_1_18_2_c  SK_pchol_hs_18_2_16_0_c  SK_pchol_hs_18_2_18_1_c  SK_pe_hs_16_0_16_0_c  SK_pe_hs_16_0_18_1_c  SK_pe_hs_16_0_18_2_c  SK_pe_hs_18_1_18_1_c  SK_pe_hs_18_1_18_2_c  SK_pe_hs_18_2_16_0_c  ...      XYLK   XYLTD_D     XYLUR       ARD  CEPTC_18_1_18_2  CEPTC_18_2_16_0  CEPTC_18_2_18_1  CEPTE_16_0_18_1  CEPTE_16_0_18_2  CEPTE_18_1_18_1\n",
       "0                    -0.000014                 0.379423                 0.000155                -0.373870          4.801742e-07         -8.739168e-17          6.425790e-09          1.927737e-08          1.285158e-08              0.000001  ...  0.008244  0.008244  0.008244  0.000032         0.405435         0.000157         0.000652    -8.739170e-17     6.425790e-09     1.927737e-08\n",
       "1                    -0.007642                 0.348640                 0.000389                -0.343069          1.344391e-04         -8.525750e-17          5.540680e-11          1.026325e-05          1.108136e-10              0.000081  ...  0.019309  0.019309  0.019309  0.001409         0.352878         0.000403         0.002250    -8.525237e-17     5.540679e-11     1.026325e-05\n",
       "2                    -0.007263                 0.332872                 0.000626                -0.326685          6.674162e-05         -8.793525e-17          3.728355e-10          1.027356e-05          7.456711e-10              0.000072  ...  0.049629  0.049629  0.049629  0.001627         0.334058         0.000639         0.003792    -8.800784e-17     3.728355e-10     1.027356e-05\n",
       "3                    -0.009395                 0.270097                 0.001562                -0.264210          2.802739e-05         -1.894998e-17          3.383632e-10          1.017708e-05          1.990020e-06              0.000113  ...  0.052907  0.052907  0.052907  0.001215         0.279180         0.001572         0.015555    -1.902251e-17     3.383632e-10     1.017708e-05\n",
       "4                    -0.006473                 0.240682                 0.000163                -0.231787          2.547171e-05          1.596165e-16          4.146861e-10          1.490988e-05          6.762081e-06              0.000140  ...  0.021944  0.021944  0.021944  0.001389         0.251783         0.001445         0.027942     1.594841e-16     4.146861e-10     1.490988e-05\n",
       "...                        ...                      ...                      ...                      ...                   ...                   ...                   ...                   ...                   ...                   ...  ...       ...       ...       ...       ...              ...              ...              ...              ...              ...              ...\n",
       "49995                 0.006620                -0.010263                 0.002480                -0.001569          6.111765e-04         -2.965979e-14          1.420842e-03          2.403855e-03          2.756784e-05              0.002248  ...  0.002105  0.002105  0.002105  0.010018         0.000367         0.002571         0.007270    -2.966214e-14     1.420842e-03     2.403855e-03\n",
       "49996                 0.002977                -0.000081                 0.018016                -0.010496          4.467308e-04         -3.026482e-14          1.461138e-03          2.423514e-03          5.302511e-05              0.002336  ...  0.017242  0.017242  0.017242  0.011277         0.003767         0.018235         0.008166    -3.026720e-14     1.461138e-03     2.423514e-03\n",
       "49997                -0.008074                -0.001358                -0.004783                 0.005138          5.363571e-04         -3.017624e-14          1.443410e-03          2.859143e-03          4.183056e-05              0.002335  ...  0.012164  0.012164  0.012164  0.010472         0.006673         0.009008         0.010286    -3.017861e-14     1.443410e-03     2.859143e-03\n",
       "49998                -0.013209                -0.003251                -0.006310                 0.012542          4.982067e-04         -3.000863e-14          1.447117e-03          2.861233e-03          6.384034e-05              0.002221  ...  0.007061  0.007061  0.007061  0.013212         0.004554         0.007393         0.017947    -3.001100e-14     1.447117e-03     2.861233e-03\n",
       "49999                -0.010918                 0.006380                -0.006586                -0.002087          5.674844e-04         -2.964885e-14          1.447843e-03          2.862494e-03          5.413513e-05              0.002213  ...  0.001134  0.001134  0.001134  0.013542         0.013328         0.007399         0.010508    -2.965122e-14     1.447843e-03     2.862494e-03\n",
       "\n",
       "[50000 rows x 469 columns]"
      ]
     },
     "execution_count": 9,
     "metadata": {},
     "output_type": "execute_result"
    }
   ],
   "source": [
    "%%time\n",
    "RBC_samples = sample(model, 50000, processes=8) #Set this to 1000 for faster, less accurate performance\n",
    "RBC_samples"
   ]
  },
  {
   "cell_type": "code",
   "execution_count": 10,
   "id": "14deceea",
   "metadata": {},
   "outputs": [
    {
     "data": {
      "image/png": "[encoded data removed]",
      "text/plain": [
       "<Figure size 1080x1080 with 12 Axes>"
      ]
     },
     "metadata": {
      "needs_background": "light"
     },
     "output_type": "display_data"
    }
   ],
   "source": [
    "RBC_samples.hist(column = ['PGI','PFK','FBA','TPI','GAPD','PGK','PGM','ENO','PYK','LDH_L'], \n",
    "       bins=100,figsize=(15,15),histtype = 'step');"
   ]
  },
  {
   "cell_type": "code",
   "execution_count": null,
   "id": "60dec394",
   "metadata": {},
   "outputs": [],
   "source": []
  }
 ],
 "metadata": {
  "kernelspec": {
   "display_name": "Python 3",
   "language": "python",
   "name": "python3"
  },
  "language_info": {
   "codemirror_mode": {
    "name": "ipython",
    "version": 3
   },
   "file_extension": ".py",
   "mimetype": "text/x-python",
   "name": "python",
   "nbconvert_exporter": "python",
   "pygments_lexer": "ipython3",
   "version": "3.8.10"
  }
 },
 "nbformat": 4,
 "nbformat_minor": 5
}
