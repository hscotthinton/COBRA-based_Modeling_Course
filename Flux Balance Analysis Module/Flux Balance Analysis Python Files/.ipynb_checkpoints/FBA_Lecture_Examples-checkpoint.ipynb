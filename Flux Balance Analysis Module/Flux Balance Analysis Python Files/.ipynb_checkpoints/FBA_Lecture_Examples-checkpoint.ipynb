{
 "cells": [
  {
   "cell_type": "markdown",
   "id": "79255a89",
   "metadata": {},
   "source": [
    "# FBA Lecture Examples"
   ]
  },
  {
   "cell_type": "code",
   "execution_count": 1,
   "id": "80403d83",
   "metadata": {},
   "outputs": [],
   "source": [
    "import cobra.test\n",
    "import pandas as pd\n",
    "from cobra.util.solver import linear_reaction_coefficients\n",
    "import escher\n",
    "from escher import Builder"
   ]
  },
  {
   "cell_type": "markdown",
   "id": "70c21ca0",
   "metadata": {},
   "source": [
    "## Aerobic Simulation - *E.coli* Core Model"
   ]
  },
  {
   "cell_type": "code",
   "execution_count": 2,
   "id": "ec68ac95",
   "metadata": {},
   "outputs": [
    {
     "name": "stdout",
     "output_type": "stream",
     "text": [
      "Set parameter Username\n",
      "Academic license - for non-commercial use only - expires 2022-10-10\n"
     ]
    },
    {
     "data": {
      "text/html": [
       "<h3>Objective</h3><p>1.0 BIOMASS_Ecoli_core_w_GAM = 1.790568970719479</p><h4>Uptake</h4><table border=\"1\" class=\"dataframe\">\n",
       "  <thead>\n",
       "    <tr style=\"text-align: right;\">\n",
       "      <th>Metabolite</th>\n",
       "      <th>Reaction</th>\n",
       "      <th>Flux</th>\n",
       "      <th>C-Number</th>\n",
       "      <th>C-Flux</th>\n",
       "    </tr>\n",
       "  </thead>\n",
       "  <tbody>\n",
       "    <tr>\n",
       "      <td>glc__D_e</td>\n",
       "      <td>EX_glc__D_e</td>\n",
       "      <td>20</td>\n",
       "      <td>6</td>\n",
       "      <td>100.00%</td>\n",
       "    </tr>\n",
       "    <tr>\n",
       "      <td>nh4_e</td>\n",
       "      <td>EX_nh4_e</td>\n",
       "      <td>9.764</td>\n",
       "      <td>0</td>\n",
       "      <td>0.00%</td>\n",
       "    </tr>\n",
       "    <tr>\n",
       "      <td>o2_e</td>\n",
       "      <td>EX_o2_e</td>\n",
       "      <td>41.73</td>\n",
       "      <td>0</td>\n",
       "      <td>0.00%</td>\n",
       "    </tr>\n",
       "    <tr>\n",
       "      <td>pi_e</td>\n",
       "      <td>EX_pi_e</td>\n",
       "      <td>6.587</td>\n",
       "      <td>0</td>\n",
       "      <td>0.00%</td>\n",
       "    </tr>\n",
       "  </tbody>\n",
       "</table><h4>Secretion</h4><table border=\"1\" class=\"dataframe\">\n",
       "  <thead>\n",
       "    <tr style=\"text-align: right;\">\n",
       "      <th>Metabolite</th>\n",
       "      <th>Reaction</th>\n",
       "      <th>Flux</th>\n",
       "      <th>C-Number</th>\n",
       "      <th>C-Flux</th>\n",
       "    </tr>\n",
       "  </thead>\n",
       "  <tbody>\n",
       "    <tr>\n",
       "      <td>co2_e</td>\n",
       "      <td>EX_co2_e</td>\n",
       "      <td>-43.8</td>\n",
       "      <td>1</td>\n",
       "      <td>100.00%</td>\n",
       "    </tr>\n",
       "    <tr>\n",
       "      <td>h2o_e</td>\n",
       "      <td>EX_h2o_e</td>\n",
       "      <td>-56.84</td>\n",
       "      <td>0</td>\n",
       "      <td>0.00%</td>\n",
       "    </tr>\n",
       "    <tr>\n",
       "      <td>h_e</td>\n",
       "      <td>EX_h_e</td>\n",
       "      <td>-35.92</td>\n",
       "      <td>0</td>\n",
       "      <td>0.00%</td>\n",
       "    </tr>\n",
       "  </tbody>\n",
       "</table>"
      ],
      "text/plain": [
       "<cobra.summary.model_summary.ModelSummary at 0x1b12d7ab0a0>"
      ]
     },
     "execution_count": 2,
     "metadata": {},
     "output_type": "execute_result"
    }
   ],
   "source": [
    "# Load the model\n",
    "from cobrapy_bigg_client import client\n",
    "model = client.download_model('e_coli_core', save=False) # Load model from BIGG database\n",
    "# Set the inputs\n",
    "model.reactions.EX_o2_e.lower_bound = -1000\n",
    "model.reactions.EX_glc__D_e.lower_bound = -20\n",
    "# Optimize\n",
    "solution = model.optimize()\n",
    "model.summary()"
   ]
  },
  {
   "cell_type": "markdown",
   "id": "953b443c",
   "metadata": {},
   "source": [
    "Listing the fluxes associated with each reaction"
   ]
  },
  {
   "cell_type": "code",
   "execution_count": 3,
   "id": "f190db7f",
   "metadata": {
    "scrolled": true
   },
   "outputs": [
    {
     "data": {
      "text/plain": [
       "PFK                         14.635874\n",
       "PFL                          0.000000\n",
       "PGI                          8.883791\n",
       "PGK                        -31.657083\n",
       "PGL                         10.749142\n",
       "ACALD                        0.000000\n",
       "AKGt2r                       0.000000\n",
       "PGM                        -28.978392\n",
       "PIt2r                        6.586966\n",
       "ALCD2x                       0.000000\n",
       "ACALDt                       0.000000\n",
       "ACKr                         0.000000\n",
       "PPC                          5.131054\n",
       "ACONTa                      11.134835\n",
       "ACONTb                      11.134835\n",
       "ATPM                         8.390000\n",
       "PPCK                         0.000000\n",
       "ACt2r                        0.000000\n",
       "PPS                          0.000000\n",
       "ADK1                         0.000000\n",
       "AKGDH                        9.202990\n",
       "ATPS4r                      86.799726\n",
       "PTAr                         0.000000\n",
       "PYK                          2.917853\n",
       "BIOMASS_Ecoli_core_w_GAM     1.790569\n",
       "PYRt2                        0.000000\n",
       "CO2t                       -43.801442\n",
       "RPE                          5.879034\n",
       "CS                          11.134835\n",
       "RPI                         -4.870108\n",
       "SUCCt2_2                     0.000000\n",
       "CYTBD                       83.462731\n",
       "D_LACt2                      0.000000\n",
       "ENO                         28.978392\n",
       "SUCCt3                       0.000000\n",
       "ETOHt2r                      0.000000\n",
       "SUCDi                        9.202990\n",
       "SUCOAS                      -9.202990\n",
       "TALA                         3.262715\n",
       "THD2                         0.000000\n",
       "TKT1                         3.262715\n",
       "TKT2                         2.616319\n",
       "TPI                         14.635874\n",
       "EX_ac_e                      0.000000\n",
       "EX_acald_e                   0.000000\n",
       "EX_akg_e                     0.000000\n",
       "EX_co2_e                    43.801442\n",
       "EX_etoh_e                    0.000000\n",
       "EX_for_e                     0.000000\n",
       "EX_fru_e                     0.000000\n",
       "EX_fum_e                     0.000000\n",
       "EX_glc__D_e                -20.000000\n",
       "EX_gln__L_e                  0.000000\n",
       "EX_glu__L_e                  0.000000\n",
       "EX_h_e                      35.918814\n",
       "EX_h2o_e                    56.844663\n",
       "EX_lac__D_e                  0.000000\n",
       "EX_mal__L_e                  0.000000\n",
       "EX_nh4_e                    -9.763614\n",
       "EX_o2_e                    -41.731365\n",
       "EX_pi_e                     -6.586966\n",
       "EX_pyr_e                     0.000000\n",
       "EX_succ_e                    0.000000\n",
       "FBA                         14.635874\n",
       "FBP                          0.000000\n",
       "FORt2                        0.000000\n",
       "FORt                         0.000000\n",
       "FRD7                         0.000000\n",
       "FRUpts2                      0.000000\n",
       "FUM                          9.202990\n",
       "FUMt2_2                      0.000000\n",
       "G6PDH2r                     10.749142\n",
       "GAPD                        31.657083\n",
       "GLCpts                      20.000000\n",
       "GLNS                         0.457848\n",
       "GLNabc                       0.000000\n",
       "GLUDy                       -9.305766\n",
       "GLUN                         0.000000\n",
       "GLUSy                        0.000000\n",
       "GLUt2r                       0.000000\n",
       "GND                         10.749142\n",
       "H2Ot                       -56.844663\n",
       "ICDHyr                      11.134835\n",
       "ICL                          0.000000\n",
       "LDH_D                        0.000000\n",
       "MALS                         0.000000\n",
       "MALt2_2                      0.000000\n",
       "MDH                          9.202990\n",
       "ME1                          0.000000\n",
       "ME2                          0.000000\n",
       "NADH16                      74.259741\n",
       "NADTRHD                      0.000000\n",
       "NH4t                         9.763614\n",
       "O2t                         41.731365\n",
       "PDH                         17.845529\n",
       "Name: fluxes, dtype: float64"
      ]
     },
     "execution_count": 3,
     "metadata": {},
     "output_type": "execute_result"
    }
   ],
   "source": [
    "pd.set_option('display.max_rows', 500) # Display all the rows\n",
    "solution.fluxes"
   ]
  },
  {
   "cell_type": "markdown",
   "id": "9da32717",
   "metadata": {},
   "source": [
    "Find the statistics of the fluxes."
   ]
  },
  {
   "cell_type": "code",
   "execution_count": 4,
   "id": "3379eebb",
   "metadata": {},
   "outputs": [
    {
     "data": {
      "text/plain": [
       "count    95.000000\n",
       "mean      5.000062\n",
       "std      20.644302\n",
       "min     -56.844663\n",
       "25%       0.000000\n",
       "50%       0.000000\n",
       "75%       9.202990\n",
       "max      86.799726\n",
       "Name: fluxes, dtype: float64"
      ]
     },
     "execution_count": 4,
     "metadata": {},
     "output_type": "execute_result"
    }
   ],
   "source": [
    "solution.fluxes.describe()"
   ]
  },
  {
   "cell_type": "markdown",
   "id": "18970164",
   "metadata": {},
   "source": [
    "To only list the reactions with non-zero fluxes you can include the following code."
   ]
  },
  {
   "cell_type": "code",
   "execution_count": 5,
   "id": "dec35fc0",
   "metadata": {
    "scrolled": true
   },
   "outputs": [
    {
     "data": {
      "text/plain": [
       "PFK                         14.635874\n",
       "PGI                          8.883791\n",
       "PGK                        -31.657083\n",
       "PGL                         10.749142\n",
       "PGM                        -28.978392\n",
       "PIt2r                        6.586966\n",
       "PPC                          5.131054\n",
       "ACONTa                      11.134835\n",
       "ACONTb                      11.134835\n",
       "ATPM                         8.390000\n",
       "AKGDH                        9.202990\n",
       "ATPS4r                      86.799726\n",
       "PYK                          2.917853\n",
       "BIOMASS_Ecoli_core_w_GAM     1.790569\n",
       "CO2t                       -43.801442\n",
       "RPE                          5.879034\n",
       "CS                          11.134835\n",
       "RPI                         -4.870108\n",
       "CYTBD                       83.462731\n",
       "ENO                         28.978392\n",
       "SUCDi                        9.202990\n",
       "SUCOAS                      -9.202990\n",
       "TALA                         3.262715\n",
       "TKT1                         3.262715\n",
       "TKT2                         2.616319\n",
       "TPI                         14.635874\n",
       "EX_co2_e                    43.801442\n",
       "EX_glc__D_e                -20.000000\n",
       "EX_h_e                      35.918814\n",
       "EX_h2o_e                    56.844663\n",
       "EX_nh4_e                    -9.763614\n",
       "EX_o2_e                    -41.731365\n",
       "EX_pi_e                     -6.586966\n",
       "FBA                         14.635874\n",
       "FUM                          9.202990\n",
       "G6PDH2r                     10.749142\n",
       "GAPD                        31.657083\n",
       "GLCpts                      20.000000\n",
       "GLNS                         0.457848\n",
       "GLUDy                       -9.305766\n",
       "GND                         10.749142\n",
       "H2Ot                       -56.844663\n",
       "ICDHyr                      11.134835\n",
       "MDH                          9.202990\n",
       "NADH16                      74.259741\n",
       "NH4t                         9.763614\n",
       "O2t                         41.731365\n",
       "PDH                         17.845529\n",
       "Name: fluxes, dtype: float64"
      ]
     },
     "execution_count": 5,
     "metadata": {},
     "output_type": "execute_result"
    }
   ],
   "source": [
    "import pandas as pd\n",
    "import numpy as np\n",
    "df = solution.fluxes\n",
    "df = df.replace(0, np.nan)\n",
    "df = df.dropna(how='all', axis=0)\n",
    "df"
   ]
  },
  {
   "cell_type": "markdown",
   "id": "336953d0",
   "metadata": {},
   "source": [
    "Plotting the fluxes"
   ]
  },
  {
   "cell_type": "code",
   "execution_count": 6,
   "id": "07605e18",
   "metadata": {},
   "outputs": [
    {
     "name": "stdout",
     "output_type": "stream",
     "text": [
      "Downloading Map from https://escher.github.io/1-0-0/6/maps/Escherichia%20coli/e_coli_core.Core%20metabolism.json\n",
      "Downloading Model from https://escher.github.io/1-0-0/6/models/Escherichia%20coli/e_coli_core.json\n"
     ]
    },
    {
     "data": {
      "application/vnd.jupyter.widget-view+json": {
       "model_id": "90e43979970d4d38bdcf26d19fe8bf6f",
       "version_major": 2,
       "version_minor": 0
      },
      "text/plain": [
       "Builder()"
      ]
     },
     "metadata": {},
     "output_type": "display_data"
    }
   ],
   "source": [
    "import escher\n",
    "from escher import Builder\n",
    "builder = Builder(\n",
    "    map_name='e_coli_core.Core metabolism', \n",
    "    model_name='e_coli_core', \n",
    ")\n",
    "builder"
   ]
  },
  {
   "cell_type": "code",
   "execution_count": 7,
   "id": "5d5ea0ae",
   "metadata": {},
   "outputs": [],
   "source": [
    "builder.reaction_data = solution.fluxes"
   ]
  },
  {
   "cell_type": "markdown",
   "id": "22b8484f",
   "metadata": {},
   "source": [
    "## Anaerobic Simulation - E.coli Core Model"
   ]
  },
  {
   "cell_type": "code",
   "execution_count": 8,
   "id": "818f90dc",
   "metadata": {},
   "outputs": [
    {
     "data": {
      "text/html": [
       "<h3>Objective</h3><p>1.0 BIOMASS_Ecoli_core_w_GAM = 0.5162537983863331</p><h4>Uptake</h4><table border=\"1\" class=\"dataframe\">\n",
       "  <thead>\n",
       "    <tr style=\"text-align: right;\">\n",
       "      <th>Metabolite</th>\n",
       "      <th>Reaction</th>\n",
       "      <th>Flux</th>\n",
       "      <th>C-Number</th>\n",
       "      <th>C-Flux</th>\n",
       "    </tr>\n",
       "  </thead>\n",
       "  <tbody>\n",
       "    <tr>\n",
       "      <td>co2_e</td>\n",
       "      <td>EX_co2_e</td>\n",
       "      <td>0.9224</td>\n",
       "      <td>1</td>\n",
       "      <td>0.76%</td>\n",
       "    </tr>\n",
       "    <tr>\n",
       "      <td>glc__D_e</td>\n",
       "      <td>EX_glc__D_e</td>\n",
       "      <td>20</td>\n",
       "      <td>6</td>\n",
       "      <td>99.24%</td>\n",
       "    </tr>\n",
       "    <tr>\n",
       "      <td>h2o_e</td>\n",
       "      <td>EX_h2o_e</td>\n",
       "      <td>12.97</td>\n",
       "      <td>0</td>\n",
       "      <td>0.00%</td>\n",
       "    </tr>\n",
       "    <tr>\n",
       "      <td>nh4_e</td>\n",
       "      <td>EX_nh4_e</td>\n",
       "      <td>2.815</td>\n",
       "      <td>0</td>\n",
       "      <td>0.00%</td>\n",
       "    </tr>\n",
       "    <tr>\n",
       "      <td>pi_e</td>\n",
       "      <td>EX_pi_e</td>\n",
       "      <td>1.899</td>\n",
       "      <td>0</td>\n",
       "      <td>0.00%</td>\n",
       "    </tr>\n",
       "  </tbody>\n",
       "</table><h4>Secretion</h4><table border=\"1\" class=\"dataframe\">\n",
       "  <thead>\n",
       "    <tr style=\"text-align: right;\">\n",
       "      <th>Metabolite</th>\n",
       "      <th>Reaction</th>\n",
       "      <th>Flux</th>\n",
       "      <th>C-Number</th>\n",
       "      <th>C-Flux</th>\n",
       "    </tr>\n",
       "  </thead>\n",
       "  <tbody>\n",
       "    <tr>\n",
       "      <td>ac_e</td>\n",
       "      <td>EX_ac_e</td>\n",
       "      <td>-16.35</td>\n",
       "      <td>2</td>\n",
       "      <td>33.05%</td>\n",
       "    </tr>\n",
       "    <tr>\n",
       "      <td>etoh_e</td>\n",
       "      <td>EX_etoh_e</td>\n",
       "      <td>-15.8</td>\n",
       "      <td>2</td>\n",
       "      <td>31.94%</td>\n",
       "    </tr>\n",
       "    <tr>\n",
       "      <td>for_e</td>\n",
       "      <td>EX_for_e</td>\n",
       "      <td>-34.65</td>\n",
       "      <td>1</td>\n",
       "      <td>35.01%</td>\n",
       "    </tr>\n",
       "    <tr>\n",
       "      <td>h_e</td>\n",
       "      <td>EX_h_e</td>\n",
       "      <td>-61.35</td>\n",
       "      <td>0</td>\n",
       "      <td>0.00%</td>\n",
       "    </tr>\n",
       "  </tbody>\n",
       "</table>"
      ],
      "text/plain": [
       "<cobra.summary.model_summary.ModelSummary at 0x1b1512e0e80>"
      ]
     },
     "execution_count": 8,
     "metadata": {},
     "output_type": "execute_result"
    }
   ],
   "source": [
    "# Load the model\n",
    "from cobrapy_bigg_client import client\n",
    "model = client.download_model('e_coli_core', save=False) # Load model from BIGG database\n",
    "# Set the inputs\n",
    "model.reactions.EX_o2_e.lower_bound = 0 # Anaerobic condition\n",
    "model.reactions.EX_glc__D_e.lower_bound = -20\n",
    "# Optimize\n",
    "solution = model.optimize()\n",
    "model.summary()"
   ]
  },
  {
   "cell_type": "code",
   "execution_count": 9,
   "id": "e09f72b0",
   "metadata": {},
   "outputs": [
    {
     "name": "stdout",
     "output_type": "stream",
     "text": [
      "Downloading Map from https://escher.github.io/1-0-0/6/maps/Escherichia%20coli/e_coli_core.Core%20metabolism.json\n",
      "Downloading Model from https://escher.github.io/1-0-0/6/models/Escherichia%20coli/e_coli_core.json\n"
     ]
    },
    {
     "data": {
      "application/vnd.jupyter.widget-view+json": {
       "model_id": "2fecbfdbc1fc4a08b4d8047914abb2e3",
       "version_major": 2,
       "version_minor": 0
      },
      "text/plain": [
       "Builder()"
      ]
     },
     "metadata": {},
     "output_type": "display_data"
    }
   ],
   "source": [
    "import escher\n",
    "from escher import Builder\n",
    "builder = Builder(\n",
    "    map_name='e_coli_core.Core metabolism', \n",
    "    model_name='e_coli_core', \n",
    ")\n",
    "builder"
   ]
  },
  {
   "cell_type": "code",
   "execution_count": 10,
   "id": "a29ae483",
   "metadata": {},
   "outputs": [],
   "source": [
    "builder.reaction_data = solution.fluxes"
   ]
  },
  {
   "cell_type": "markdown",
   "id": "de534c76",
   "metadata": {},
   "source": [
    "## Non-Glucose Carbon Sources\n",
    "\n",
    "### Aerobic condition\n",
    "\n",
    "In this example, assume D-fructose is the carbon source"
   ]
  },
  {
   "cell_type": "code",
   "execution_count": 11,
   "id": "b2eb2d58",
   "metadata": {},
   "outputs": [
    {
     "data": {
      "text/html": [
       "<h3>Objective</h3><p>1.0 BIOMASS_Ecoli_core_w_GAM = 1.7905689707194787</p><h4>Uptake</h4><table border=\"1\" class=\"dataframe\">\n",
       "  <thead>\n",
       "    <tr style=\"text-align: right;\">\n",
       "      <th>Metabolite</th>\n",
       "      <th>Reaction</th>\n",
       "      <th>Flux</th>\n",
       "      <th>C-Number</th>\n",
       "      <th>C-Flux</th>\n",
       "    </tr>\n",
       "  </thead>\n",
       "  <tbody>\n",
       "    <tr>\n",
       "      <td>fru_e</td>\n",
       "      <td>EX_fru_e</td>\n",
       "      <td>20</td>\n",
       "      <td>6</td>\n",
       "      <td>100.00%</td>\n",
       "    </tr>\n",
       "    <tr>\n",
       "      <td>nh4_e</td>\n",
       "      <td>EX_nh4_e</td>\n",
       "      <td>9.764</td>\n",
       "      <td>0</td>\n",
       "      <td>0.00%</td>\n",
       "    </tr>\n",
       "    <tr>\n",
       "      <td>o2_e</td>\n",
       "      <td>EX_o2_e</td>\n",
       "      <td>41.73</td>\n",
       "      <td>0</td>\n",
       "      <td>0.00%</td>\n",
       "    </tr>\n",
       "    <tr>\n",
       "      <td>pi_e</td>\n",
       "      <td>EX_pi_e</td>\n",
       "      <td>6.587</td>\n",
       "      <td>0</td>\n",
       "      <td>0.00%</td>\n",
       "    </tr>\n",
       "  </tbody>\n",
       "</table><h4>Secretion</h4><table border=\"1\" class=\"dataframe\">\n",
       "  <thead>\n",
       "    <tr style=\"text-align: right;\">\n",
       "      <th>Metabolite</th>\n",
       "      <th>Reaction</th>\n",
       "      <th>Flux</th>\n",
       "      <th>C-Number</th>\n",
       "      <th>C-Flux</th>\n",
       "    </tr>\n",
       "  </thead>\n",
       "  <tbody>\n",
       "    <tr>\n",
       "      <td>co2_e</td>\n",
       "      <td>EX_co2_e</td>\n",
       "      <td>-43.8</td>\n",
       "      <td>1</td>\n",
       "      <td>100.00%</td>\n",
       "    </tr>\n",
       "    <tr>\n",
       "      <td>h2o_e</td>\n",
       "      <td>EX_h2o_e</td>\n",
       "      <td>-56.84</td>\n",
       "      <td>0</td>\n",
       "      <td>0.00%</td>\n",
       "    </tr>\n",
       "    <tr>\n",
       "      <td>h_e</td>\n",
       "      <td>EX_h_e</td>\n",
       "      <td>-35.92</td>\n",
       "      <td>0</td>\n",
       "      <td>0.00%</td>\n",
       "    </tr>\n",
       "  </tbody>\n",
       "</table>"
      ],
      "text/plain": [
       "<cobra.summary.model_summary.ModelSummary at 0x1b1512ee1f0>"
      ]
     },
     "execution_count": 11,
     "metadata": {},
     "output_type": "execute_result"
    }
   ],
   "source": [
    "# Load the model\n",
    "from cobrapy_bigg_client import client\n",
    "model = client.download_model('e_coli_core', save=False) # Load model from BIGG database\n",
    "# Set the inputs\n",
    "model.reactions.EX_o2_e.lower_bound = -1000 # Aerobic\n",
    "model.reactions.EX_glc__D_e.lower_bound = 0 # Must be set to zero if not a carbon source\n",
    "model.reactions.EX_fru_e.lower_bound = -20\n",
    "# Optimize\n",
    "solution = model.optimize()\n",
    "model.summary()"
   ]
  },
  {
   "cell_type": "code",
   "execution_count": 12,
   "id": "6b773433",
   "metadata": {},
   "outputs": [
    {
     "name": "stdout",
     "output_type": "stream",
     "text": [
      "Downloading Map from https://escher.github.io/1-0-0/6/maps/Escherichia%20coli/e_coli_core.Core%20metabolism.json\n",
      "Downloading Model from https://escher.github.io/1-0-0/6/models/Escherichia%20coli/e_coli_core.json\n"
     ]
    },
    {
     "data": {
      "application/vnd.jupyter.widget-view+json": {
       "model_id": "ed8cbd8cfd35462992fb1505f6ac5f14",
       "version_major": 2,
       "version_minor": 0
      },
      "text/plain": [
       "Builder()"
      ]
     },
     "metadata": {},
     "output_type": "display_data"
    }
   ],
   "source": [
    "import escher\n",
    "from escher import Builder\n",
    "builder = Builder(\n",
    "    map_name='e_coli_core.Core metabolism', \n",
    "    model_name='e_coli_core', \n",
    ")\n",
    "builder"
   ]
  },
  {
   "cell_type": "code",
   "execution_count": 13,
   "id": "2d3e98a3",
   "metadata": {},
   "outputs": [],
   "source": [
    "builder.reaction_data = solution.fluxes"
   ]
  },
  {
   "cell_type": "markdown",
   "id": "47129baf",
   "metadata": {},
   "source": [
    "### Anaerobic condition"
   ]
  },
  {
   "cell_type": "code",
   "execution_count": 14,
   "id": "cc9925bc",
   "metadata": {},
   "outputs": [
    {
     "data": {
      "text/html": [
       "<h3>Objective</h3><p>1.0 BIOMASS_Ecoli_core_w_GAM = 0.06554228431717408</p><h4>Uptake</h4><table border=\"1\" class=\"dataframe\">\n",
       "  <thead>\n",
       "    <tr style=\"text-align: right;\">\n",
       "      <th>Metabolite</th>\n",
       "      <th>Reaction</th>\n",
       "      <th>Flux</th>\n",
       "      <th>C-Number</th>\n",
       "      <th>C-Flux</th>\n",
       "    </tr>\n",
       "  </thead>\n",
       "  <tbody>\n",
       "    <tr>\n",
       "      <td>h2o_e</td>\n",
       "      <td>EX_h2o_e</td>\n",
       "      <td>18.57</td>\n",
       "      <td>0</td>\n",
       "      <td>0.00%</td>\n",
       "    </tr>\n",
       "    <tr>\n",
       "      <td>nh4_e</td>\n",
       "      <td>EX_nh4_e</td>\n",
       "      <td>0.3574</td>\n",
       "      <td>0</td>\n",
       "      <td>0.00%</td>\n",
       "    </tr>\n",
       "    <tr>\n",
       "      <td>pi_e</td>\n",
       "      <td>EX_pi_e</td>\n",
       "      <td>0.2411</td>\n",
       "      <td>0</td>\n",
       "      <td>0.00%</td>\n",
       "    </tr>\n",
       "    <tr>\n",
       "      <td>pyr_e</td>\n",
       "      <td>EX_pyr_e</td>\n",
       "      <td>20</td>\n",
       "      <td>3</td>\n",
       "      <td>100.00%</td>\n",
       "    </tr>\n",
       "  </tbody>\n",
       "</table><h4>Secretion</h4><table border=\"1\" class=\"dataframe\">\n",
       "  <thead>\n",
       "    <tr style=\"text-align: right;\">\n",
       "      <th>Metabolite</th>\n",
       "      <th>Reaction</th>\n",
       "      <th>Flux</th>\n",
       "      <th>C-Number</th>\n",
       "      <th>C-Flux</th>\n",
       "    </tr>\n",
       "  </thead>\n",
       "  <tbody>\n",
       "    <tr>\n",
       "      <td>ac_e</td>\n",
       "      <td>EX_ac_e</td>\n",
       "      <td>-19</td>\n",
       "      <td>2</td>\n",
       "      <td>66.43%</td>\n",
       "    </tr>\n",
       "    <tr>\n",
       "      <td>co2_e</td>\n",
       "      <td>EX_co2_e</td>\n",
       "      <td>-0.9484</td>\n",
       "      <td>1</td>\n",
       "      <td>1.66%</td>\n",
       "    </tr>\n",
       "    <tr>\n",
       "      <td>for_e</td>\n",
       "      <td>EX_for_e</td>\n",
       "      <td>-18.25</td>\n",
       "      <td>1</td>\n",
       "      <td>31.91%</td>\n",
       "    </tr>\n",
       "    <tr>\n",
       "      <td>h_e</td>\n",
       "      <td>EX_h_e</td>\n",
       "      <td>-18.57</td>\n",
       "      <td>0</td>\n",
       "      <td>0.00%</td>\n",
       "    </tr>\n",
       "  </tbody>\n",
       "</table>"
      ],
      "text/plain": [
       "<cobra.summary.model_summary.ModelSummary at 0x1b151178b80>"
      ]
     },
     "execution_count": 14,
     "metadata": {},
     "output_type": "execute_result"
    }
   ],
   "source": [
    "# Load the model\n",
    "from cobrapy_bigg_client import client\n",
    "model = client.download_model('e_coli_core', save=False) # Load model from BIGG database\n",
    "# Set the inputs\n",
    "model.reactions.EX_o2_e.lower_bound = 0 # Anaerobic\n",
    "model.reactions.EX_glc__D_e.lower_bound = 0 # Must be set to zero if not a carbon source\n",
    "model.reactions.EX_pyr_e.lower_bound = -20\n",
    "# Optimize\n",
    "solution = model.optimize()\n",
    "model.summary()"
   ]
  },
  {
   "cell_type": "code",
   "execution_count": 15,
   "id": "86e6652f",
   "metadata": {},
   "outputs": [
    {
     "name": "stdout",
     "output_type": "stream",
     "text": [
      "Downloading Map from https://escher.github.io/1-0-0/6/maps/Escherichia%20coli/e_coli_core.Core%20metabolism.json\n",
      "Downloading Model from https://escher.github.io/1-0-0/6/models/Escherichia%20coli/e_coli_core.json\n"
     ]
    },
    {
     "data": {
      "application/vnd.jupyter.widget-view+json": {
       "model_id": "cc9a7ab0ada14bde9699d927876af836",
       "version_major": 2,
       "version_minor": 0
      },
      "text/plain": [
       "Builder()"
      ]
     },
     "metadata": {},
     "output_type": "display_data"
    }
   ],
   "source": [
    "import escher\n",
    "from escher import Builder\n",
    "builder = Builder(\n",
    "    map_name='e_coli_core.Core metabolism', \n",
    "    model_name='e_coli_core', \n",
    ")\n",
    "builder"
   ]
  },
  {
   "cell_type": "code",
   "execution_count": 16,
   "id": "d182b614",
   "metadata": {},
   "outputs": [],
   "source": [
    "builder.reaction_data = solution.fluxes"
   ]
  }
 ],
 "metadata": {
  "kernelspec": {
   "display_name": "Python 3 (ipykernel)",
   "language": "python",
   "name": "python3"
  },
  "language_info": {
   "codemirror_mode": {
    "name": "ipython",
    "version": 3
   },
   "file_extension": ".py",
   "mimetype": "text/x-python",
   "name": "python",
   "nbconvert_exporter": "python",
   "pygments_lexer": "ipython3",
   "version": "3.8.12"
  }
 },
 "nbformat": 4,
 "nbformat_minor": 5
}
