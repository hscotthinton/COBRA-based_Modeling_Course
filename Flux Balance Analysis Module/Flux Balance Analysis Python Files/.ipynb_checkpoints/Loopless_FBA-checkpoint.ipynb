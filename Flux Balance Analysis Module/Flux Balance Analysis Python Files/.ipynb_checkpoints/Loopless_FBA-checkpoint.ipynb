{
 "cells": [
  {
   "cell_type": "markdown",
   "id": "a5ec1d9e",
   "metadata": {},
   "source": [
    "# Loopless Flux Balance Analysis"
   ]
  },
  {
   "cell_type": "markdown",
   "id": "37d1d530",
   "metadata": {},
   "source": [
    "Show the difference between classical FBA and Loopless FBA."
   ]
  },
  {
   "cell_type": "code",
   "execution_count": 1,
   "id": "4d7044ae",
   "metadata": {},
   "outputs": [
    {
     "name": "stdout",
     "output_type": "stream",
     "text": [
      "Set parameter Username\n",
      "Academic license - for non-commercial use only - expires 2022-10-10\n"
     ]
    }
   ],
   "source": [
    "import cobra.test\n",
    "import pandas as pd\n",
    "pd.set_option('display.max_rows', 500)\n",
    "\n",
    "from cobrapy_bigg_client import client\n",
    "model = client.download_model('iJO1366', save=False) # Load model from BIGG database"
   ]
  },
  {
   "cell_type": "markdown",
   "id": "6cf1fe19",
   "metadata": {},
   "source": [
    "Compute the regular FBA and the Loopless FBA"
   ]
  },
  {
   "cell_type": "code",
   "execution_count": 2,
   "id": "0294fe21",
   "metadata": {},
   "outputs": [
    {
     "name": "stdout",
     "output_type": "stream",
     "text": [
      "Wall time: 184 ms\n",
      "Wall time: 497 ms\n"
     ]
    }
   ],
   "source": [
    "from cobra.flux_analysis.loopless import add_loopless, loopless_solution\n",
    "model.objective = 'BIOMASS_Ec_iJO1366_core_53p95M'\n",
    "%time fba_solution = model.optimize()\n",
    "%time loopless_solution = loopless_solution(model)"
   ]
  },
  {
   "cell_type": "markdown",
   "id": "0dc9e153",
   "metadata": {},
   "source": [
    "Note how much more time it takes to remove the loops!\n",
    "\n",
    "Let's create an Escher map showing the regular FBA analysis."
   ]
  },
  {
   "cell_type": "code",
   "execution_count": 3,
   "id": "910d3a15",
   "metadata": {},
   "outputs": [
    {
     "name": "stdout",
     "output_type": "stream",
     "text": [
      "Downloading Map from https://escher.github.io/1-0-0/6/maps/Escherichia%20coli/iJO1366.Central%20metabolism.json\n",
      "Downloading Model from https://escher.github.io/1-0-0/6/models/Escherichia%20coli/iJO1366.json\n"
     ]
    },
    {
     "data": {
      "application/vnd.jupyter.widget-view+json": {
       "model_id": "ca61a3568abe46cc9e22b3fee3cf5247",
       "version_major": 2,
       "version_minor": 0
      },
      "text/plain": [
       "Builder()"
      ]
     },
     "metadata": {},
     "output_type": "display_data"
    }
   ],
   "source": [
    "import escher\n",
    "from escher import Builder\n",
    "builder = Builder(\n",
    "    map_name='iJO1366.Central metabolism',\n",
    "    model_name='iJO1366',\n",
    ")\n",
    "builder"
   ]
  },
  {
   "cell_type": "code",
   "execution_count": 4,
   "id": "b4188443",
   "metadata": {},
   "outputs": [],
   "source": [
    "builder.reaction_data = fba_solution.fluxes"
   ]
  },
  {
   "cell_type": "markdown",
   "id": "f179c85d",
   "metadata": {},
   "source": [
    "Looking at the above map, you can see the loop between FRD2 and SUCDi (brown colored loop).\n",
    "\n",
    "Now let's look at a map based on the loopless solution"
   ]
  },
  {
   "cell_type": "code",
   "execution_count": 5,
   "id": "3486e2dc",
   "metadata": {},
   "outputs": [
    {
     "name": "stdout",
     "output_type": "stream",
     "text": [
      "Downloading Map from https://escher.github.io/1-0-0/6/maps/Escherichia%20coli/iJO1366.Central%20metabolism.json\n",
      "Downloading Model from https://escher.github.io/1-0-0/6/models/Escherichia%20coli/iJO1366.json\n"
     ]
    },
    {
     "data": {
      "application/vnd.jupyter.widget-view+json": {
       "model_id": "6e24a2699d15443f9a412740a76abf2b",
       "version_major": 2,
       "version_minor": 0
      },
      "text/plain": [
       "Builder()"
      ]
     },
     "metadata": {},
     "output_type": "display_data"
    }
   ],
   "source": [
    "builder2 = Builder(\n",
    "    map_name='iJO1366.Central metabolism',\n",
    "    model_name='iJO1366',\n",
    ")\n",
    "builder2"
   ]
  },
  {
   "cell_type": "code",
   "execution_count": 6,
   "id": "9b8d6b03",
   "metadata": {},
   "outputs": [],
   "source": [
    "builder2.reaction_data = loopless_solution.fluxes"
   ]
  },
  {
   "cell_type": "markdown",
   "id": "feca7638",
   "metadata": {},
   "source": [
    "Note that the loop is gone! The cost is computational time!"
   ]
  },
  {
   "cell_type": "code",
   "execution_count": null,
   "id": "0678c676",
   "metadata": {},
   "outputs": [],
   "source": []
  }
 ],
 "metadata": {
  "kernelspec": {
   "display_name": "Python 3 (ipykernel)",
   "language": "python",
   "name": "python3"
  },
  "language_info": {
   "codemirror_mode": {
    "name": "ipython",
    "version": 3
   },
   "file_extension": ".py",
   "mimetype": "text/x-python",
   "name": "python",
   "nbconvert_exporter": "python",
   "pygments_lexer": "ipython3",
   "version": "3.8.12"
  }
 },
 "nbformat": 4,
 "nbformat_minor": 5
}
