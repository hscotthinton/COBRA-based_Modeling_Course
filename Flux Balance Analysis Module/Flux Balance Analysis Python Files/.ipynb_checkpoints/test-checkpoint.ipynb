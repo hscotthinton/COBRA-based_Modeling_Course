{
 "cells": [
  {
   "cell_type": "code",
   "execution_count": 2,
   "id": "1a85d232",
   "metadata": {},
   "outputs": [
    {
     "ename": "SyntaxError",
     "evalue": "invalid syntax (Temp/ipykernel_20516/894396888.py, line 8)",
     "output_type": "error",
     "traceback": [
      "\u001b[1;36m  File \u001b[1;32m\"C:\\Users\\hinton\\AppData\\Local\\Temp/ipykernel_20516/894396888.py\"\u001b[1;36m, line \u001b[1;32m8\u001b[0m\n\u001b[1;33m    model_orig = client.download_model('e_coli_core', save=False) # Loading the model to the simulation\u001b[0m\n\u001b[1;37m    ^\u001b[0m\n\u001b[1;31mSyntaxError\u001b[0m\u001b[1;31m:\u001b[0m invalid syntax\n"
     ]
    }
   ],
   "source": [
    "import cobra.test\n",
    "import numpy as np\n",
    "import pandas as pd\n",
    "from cobrapy_bigg_client import client\n",
    "import matplotlib.pyplot as plt\n",
    "pd.set_option('display.max_rows', 500\n",
    "              \n",
    "model_orig = client.download_model('e_coli_core', save=False) # Loading the model to the simulation\n",
    "model_orig.solver = 'glpk'"
   ]
  },
  {
   "cell_type": "code",
   "execution_count": null,
   "id": "2a01599b",
   "metadata": {},
   "outputs": [],
   "source": [
    "from cameo import fba\n",
    "%time fba_result = fba(model)"
   ]
  },
  {
   "cell_type": "code",
   "execution_count": null,
   "id": "340ce9ef",
   "metadata": {},
   "outputs": [],
   "source": [
    "solution = model.optimize()\n",
    "solution_frame = solution.to_frame()\n",
    "solution_frame.sort_index().round(5)"
   ]
  },
  {
   "cell_type": "code",
   "execution_count": null,
   "id": "545c4a41",
   "metadata": {},
   "outputs": [],
   "source": []
  }
 ],
 "metadata": {
  "kernelspec": {
   "display_name": "Python 3 (ipykernel)",
   "language": "python",
   "name": "python3"
  },
  "language_info": {
   "codemirror_mode": {
    "name": "ipython",
    "version": 3
   },
   "file_extension": ".py",
   "mimetype": "text/x-python",
   "name": "python",
   "nbconvert_exporter": "python",
   "pygments_lexer": "ipython3",
   "version": "3.8.12"
  }
 },
 "nbformat": 4,
 "nbformat_minor": 5
}
