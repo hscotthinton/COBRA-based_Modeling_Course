{
 "cells": [
  {
   "cell_type": "markdown",
   "id": "b3ddfcdf",
   "metadata": {},
   "source": [
    "# Anaerobic Respiration with a Glucose Carbon Source\n",
    "\n",
    "Set initital COBRApy conditions"
   ]
  },
  {
   "cell_type": "code",
   "execution_count": 1,
   "id": "3af65999",
   "metadata": {},
   "outputs": [],
   "source": [
    "import cobra\n",
    "import pandas as pd\n",
    "import escher\n",
    "from escher import Builder\n",
    "import numpy as np\n",
    "pd.set_option('display.max_rows', 500) # Display all the rows in Panda Dataframes"
   ]
  },
  {
   "cell_type": "markdown",
   "id": "48362512",
   "metadata": {},
   "source": [
    "Set inital conditions of simulation"
   ]
  },
  {
   "cell_type": "code",
   "execution_count": 2,
   "id": "3385e483",
   "metadata": {},
   "outputs": [
    {
     "data": {
      "text/html": [
       "<h3>Objective</h3><p>1.0 Biomass_Ecoli_core = 0.4705651710886732</p><h4>Uptake</h4><table border=\"1\" class=\"dataframe\">\n",
       "  <thead>\n",
       "    <tr style=\"text-align: right;\">\n",
       "      <th>Metabolite</th>\n",
       "      <th>Reaction</th>\n",
       "      <th>Flux</th>\n",
       "      <th>C-Number</th>\n",
       "      <th>C-Flux</th>\n",
       "    </tr>\n",
       "  </thead>\n",
       "  <tbody>\n",
       "    <tr>\n",
       "      <td>co2_e</td>\n",
       "      <td>EX_co2_e</td>\n",
       "      <td>0.8408</td>\n",
       "      <td>1</td>\n",
       "      <td>0.75%</td>\n",
       "    </tr>\n",
       "    <tr>\n",
       "      <td>glc__D_e</td>\n",
       "      <td>EX_glc__D_e</td>\n",
       "      <td>18.5</td>\n",
       "      <td>6</td>\n",
       "      <td>99.25%</td>\n",
       "    </tr>\n",
       "    <tr>\n",
       "      <td>h2o_e</td>\n",
       "      <td>EX_h2o_e</td>\n",
       "      <td>12.09</td>\n",
       "      <td>0</td>\n",
       "      <td>0.00%</td>\n",
       "    </tr>\n",
       "    <tr>\n",
       "      <td>nh4_e</td>\n",
       "      <td>EX_nh4_e</td>\n",
       "      <td>2.566</td>\n",
       "      <td>0</td>\n",
       "      <td>0.00%</td>\n",
       "    </tr>\n",
       "    <tr>\n",
       "      <td>pi_e</td>\n",
       "      <td>EX_pi_e</td>\n",
       "      <td>1.731</td>\n",
       "      <td>0</td>\n",
       "      <td>0.00%</td>\n",
       "    </tr>\n",
       "  </tbody>\n",
       "</table><h4>Secretion</h4><table border=\"1\" class=\"dataframe\">\n",
       "  <thead>\n",
       "    <tr style=\"text-align: right;\">\n",
       "      <th>Metabolite</th>\n",
       "      <th>Reaction</th>\n",
       "      <th>Flux</th>\n",
       "      <th>C-Number</th>\n",
       "      <th>C-Flux</th>\n",
       "    </tr>\n",
       "  </thead>\n",
       "  <tbody>\n",
       "    <tr>\n",
       "      <td>ac_e</td>\n",
       "      <td>EX_ac_e</td>\n",
       "      <td>-15.17</td>\n",
       "      <td>2</td>\n",
       "      <td>33.05%</td>\n",
       "    </tr>\n",
       "    <tr>\n",
       "      <td>etoh_e</td>\n",
       "      <td>EX_etoh_e</td>\n",
       "      <td>-14.67</td>\n",
       "      <td>2</td>\n",
       "      <td>31.97%</td>\n",
       "    </tr>\n",
       "    <tr>\n",
       "      <td>for_e</td>\n",
       "      <td>EX_for_e</td>\n",
       "      <td>-32.12</td>\n",
       "      <td>1</td>\n",
       "      <td>34.98%</td>\n",
       "    </tr>\n",
       "    <tr>\n",
       "      <td>h_e</td>\n",
       "      <td>EX_h_e</td>\n",
       "      <td>-56.73</td>\n",
       "      <td>0</td>\n",
       "      <td>0.00%</td>\n",
       "    </tr>\n",
       "  </tbody>\n",
       "</table>"
      ],
      "text/plain": [
       "<cobra.summary.model_summary.ModelSummary at 0x1cc7be6c340>"
      ]
     },
     "execution_count": 2,
     "metadata": {},
     "output_type": "execute_result"
    }
   ],
   "source": [
    "model = cobra.io.load_model(\"textbook\") \n",
    "\n",
    "model.reactions.EX_o2_e.lower_bound = -0\n",
    "model.reactions.EX_glc__D_e.lower_bound = -18.5\n",
    "\n",
    "solution = model.optimize()\n",
    "model.summary()"
   ]
  },
  {
   "cell_type": "markdown",
   "id": "753ec76c",
   "metadata": {},
   "source": [
    "Print non-zero fluxes"
   ]
  },
  {
   "cell_type": "code",
   "execution_count": 3,
   "id": "a0c8fe98",
   "metadata": {
    "scrolled": true
   },
   "outputs": [
    {
     "data": {
      "text/plain": [
       "ACALD                -1.467492e+01\n",
       "ACKr                 -1.517320e+01\n",
       "ACONTa                5.076928e-01\n",
       "ACONTb                5.076928e-01\n",
       "ACt2r                -1.517320e+01\n",
       "AKGt2r                1.065814e-14\n",
       "ALCD2x               -1.467492e+01\n",
       "ATPM                  8.390000e+00\n",
       "ATPS4r               -1.118795e+01\n",
       "Biomass_Ecoli_core    4.705652e-01\n",
       "CO2t                  8.407588e-01\n",
       "CS                    5.076928e-01\n",
       "CYTBD                -1.847411e-13\n",
       "ENO                   3.504513e+01\n",
       "ETOHt2r              -1.467492e+01\n",
       "EX_ac_e               1.517320e+01\n",
       "EX_co2_e             -8.407588e-01\n",
       "EX_etoh_e             1.467492e+01\n",
       "EX_for_e              3.211939e+01\n",
       "EX_glc__D_e          -1.850000e+01\n",
       "EX_h_e                5.673213e+01\n",
       "EX_h2o_e             -1.208789e+01\n",
       "EX_nh4_e             -2.565898e+00\n",
       "EX_pi_e              -1.731068e+00\n",
       "EX_succ_e             1.030287e-13\n",
       "FBA                   1.803193e+01\n",
       "FORti                 3.211939e+01\n",
       "FRD7                 -2.631995e-14\n",
       "FUM                   2.631995e-14\n",
       "FUMt2_2               6.310887e-30\n",
       "G6PDH2r               2.220446e-16\n",
       "GAPD                  3.574910e+01\n",
       "GLCpts                1.850000e+01\n",
       "GLNS                  1.203235e-01\n",
       "GLUDy                -2.445574e+00\n",
       "H2Ot                  1.208789e+01\n",
       "ICDHyr                5.076928e-01\n",
       "MDH                   1.776357e-14\n",
       "NH4t                  2.565898e+00\n",
       "PFK                   1.803193e+01\n",
       "PFL                   3.211939e+01\n",
       "PGI                   1.840353e+01\n",
       "PGK                  -3.574910e+01\n",
       "PGL                   2.220446e-16\n",
       "PGM                  -3.504513e+01\n",
       "PIt2r                 1.731068e+00\n",
       "PPC                   1.348452e+00\n",
       "PTAr                  1.517320e+01\n",
       "PYK                   1.495241e+01\n",
       "RPE                  -3.382422e-01\n",
       "RPI                  -3.382422e-01\n",
       "SUCCt3                1.030287e-13\n",
       "TALA                 -8.418411e-02\n",
       "THD2                  8.068357e+00\n",
       "TKT1                 -8.418411e-02\n",
       "TKT2                 -2.540581e-01\n",
       "TPI                   1.803193e+01\n",
       "Name: fluxes, dtype: float64"
      ]
     },
     "execution_count": 3,
     "metadata": {},
     "output_type": "execute_result"
    }
   ],
   "source": [
    "df = solution.fluxes\n",
    "df = df.replace(0, np.nan)\n",
    "df = df.dropna(how='all', axis=0)\n",
    "df"
   ]
  },
  {
   "cell_type": "markdown",
   "id": "db5f5acc",
   "metadata": {},
   "source": [
    "Plot the fluxes on an Escher map"
   ]
  },
  {
   "cell_type": "code",
   "execution_count": 4,
   "id": "3e90ed85",
   "metadata": {},
   "outputs": [
    {
     "name": "stdout",
     "output_type": "stream",
     "text": [
      "Downloading Map from https://escher.github.io/1-0-0/6/maps/Escherichia%20coli/e_coli_core.Core%20metabolism.json\n",
      "Downloading Model from https://escher.github.io/1-0-0/6/models/Escherichia%20coli/e_coli_core.json\n"
     ]
    },
    {
     "data": {
      "application/vnd.jupyter.widget-view+json": {
       "model_id": "f09fe11d5fdd40cbabe17b93fc568149",
       "version_major": 2,
       "version_minor": 0
      },
      "text/plain": [
       "Builder()"
      ]
     },
     "metadata": {},
     "output_type": "display_data"
    }
   ],
   "source": [
    "import escher\n",
    "from escher import Builder\n",
    "builder = Builder(\n",
    "    map_name='e_coli_core.Core metabolism', \n",
    "    model_name='e_coli_core', \n",
    ")\n",
    "builder"
   ]
  },
  {
   "cell_type": "code",
   "execution_count": 5,
   "id": "2d8fdeef",
   "metadata": {},
   "outputs": [],
   "source": [
    "builder.reaction_data = solution.fluxes"
   ]
  },
  {
   "cell_type": "code",
   "execution_count": null,
   "id": "6579c6b6",
   "metadata": {},
   "outputs": [],
   "source": []
  }
 ],
 "metadata": {
  "kernelspec": {
   "display_name": "Python 3 (ipykernel)",
   "language": "python",
   "name": "python3"
  },
  "language_info": {
   "codemirror_mode": {
    "name": "ipython",
    "version": 3
   },
   "file_extension": ".py",
   "mimetype": "text/x-python",
   "name": "python",
   "nbconvert_exporter": "python",
   "pygments_lexer": "ipython3",
   "version": "3.9.12"
  }
 },
 "nbformat": 4,
 "nbformat_minor": 5
}
