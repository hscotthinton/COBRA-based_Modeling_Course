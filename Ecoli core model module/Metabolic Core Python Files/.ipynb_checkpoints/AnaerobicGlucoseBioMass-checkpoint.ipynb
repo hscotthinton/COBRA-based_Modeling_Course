{
 "cells": [
  {
   "cell_type": "markdown",
   "id": "b3ddfcdf",
   "metadata": {},
   "source": [
    "# Anaerobic Respiration with a Glucose Carbon Source\n",
    "\n",
    "Set initital COBRApy conditions"
   ]
  },
  {
   "cell_type": "code",
   "execution_count": 1,
   "id": "3af65999",
   "metadata": {},
   "outputs": [],
   "source": [
    "import cobra\n",
    "import cobra.test\n",
    "import pandas as pd\n",
    "import escher\n",
    "from escher import Builder\n",
    "import numpy as np\n",
    "pd.set_option('display.max_rows', 500) # Display all the rows in Panda Dataframes"
   ]
  },
  {
   "cell_type": "markdown",
   "id": "48362512",
   "metadata": {},
   "source": [
    "Set inital conditions of simulation"
   ]
  },
  {
   "cell_type": "code",
   "execution_count": 2,
   "id": "3385e483",
   "metadata": {},
   "outputs": [
    {
     "name": "stdout",
     "output_type": "stream",
     "text": [
      "Academic license - for non-commercial use only - expires 2022-10-10\n",
      "Using license file C:\\Users\\hinton\\gurobi.lic\n"
     ]
    },
    {
     "data": {
      "text/html": [
       "<h3>Objective</h3><p>1.0 Biomass_Ecoli_core = 0.47056517108867973</p><h4>Uptake</h4><table border=\"1\" class=\"dataframe\">\n",
       "  <thead>\n",
       "    <tr style=\"text-align: right;\">\n",
       "      <th>Metabolite</th>\n",
       "      <th>Reaction</th>\n",
       "      <th>Flux</th>\n",
       "      <th>C-Number</th>\n",
       "      <th>C-Flux</th>\n",
       "    </tr>\n",
       "  </thead>\n",
       "  <tbody>\n",
       "    <tr>\n",
       "      <td>co2_e</td>\n",
       "      <td>EX_co2_e</td>\n",
       "      <td>0.8408</td>\n",
       "      <td>1</td>\n",
       "      <td>0.75%</td>\n",
       "    </tr>\n",
       "    <tr>\n",
       "      <td>glc__D_e</td>\n",
       "      <td>EX_glc__D_e</td>\n",
       "      <td>18.5</td>\n",
       "      <td>6</td>\n",
       "      <td>99.25%</td>\n",
       "    </tr>\n",
       "    <tr>\n",
       "      <td>h2o_e</td>\n",
       "      <td>EX_h2o_e</td>\n",
       "      <td>12.09</td>\n",
       "      <td>0</td>\n",
       "      <td>0.00%</td>\n",
       "    </tr>\n",
       "    <tr>\n",
       "      <td>nh4_e</td>\n",
       "      <td>EX_nh4_e</td>\n",
       "      <td>2.566</td>\n",
       "      <td>0</td>\n",
       "      <td>0.00%</td>\n",
       "    </tr>\n",
       "    <tr>\n",
       "      <td>pi_e</td>\n",
       "      <td>EX_pi_e</td>\n",
       "      <td>1.731</td>\n",
       "      <td>0</td>\n",
       "      <td>0.00%</td>\n",
       "    </tr>\n",
       "  </tbody>\n",
       "</table><h4>Secretion</h4><table border=\"1\" class=\"dataframe\">\n",
       "  <thead>\n",
       "    <tr style=\"text-align: right;\">\n",
       "      <th>Metabolite</th>\n",
       "      <th>Reaction</th>\n",
       "      <th>Flux</th>\n",
       "      <th>C-Number</th>\n",
       "      <th>C-Flux</th>\n",
       "    </tr>\n",
       "  </thead>\n",
       "  <tbody>\n",
       "    <tr>\n",
       "      <td>ac_e</td>\n",
       "      <td>EX_ac_e</td>\n",
       "      <td>-15.17</td>\n",
       "      <td>2</td>\n",
       "      <td>33.05%</td>\n",
       "    </tr>\n",
       "    <tr>\n",
       "      <td>etoh_e</td>\n",
       "      <td>EX_etoh_e</td>\n",
       "      <td>-14.67</td>\n",
       "      <td>2</td>\n",
       "      <td>31.97%</td>\n",
       "    </tr>\n",
       "    <tr>\n",
       "      <td>for_e</td>\n",
       "      <td>EX_for_e</td>\n",
       "      <td>-32.12</td>\n",
       "      <td>1</td>\n",
       "      <td>34.98%</td>\n",
       "    </tr>\n",
       "    <tr>\n",
       "      <td>h_e</td>\n",
       "      <td>EX_h_e</td>\n",
       "      <td>-56.73</td>\n",
       "      <td>0</td>\n",
       "      <td>0.00%</td>\n",
       "    </tr>\n",
       "  </tbody>\n",
       "</table>"
      ],
      "text/plain": [
       "<cobra.summary.model_summary.ModelSummary at 0x19d84d152e0>"
      ]
     },
     "execution_count": 2,
     "metadata": {},
     "output_type": "execute_result"
    }
   ],
   "source": [
    "model = cobra.test.create_test_model(\"textbook\") \n",
    "\n",
    "model.reactions.EX_o2_e.lower_bound = -0\n",
    "model.reactions.EX_glc__D_e.lower_bound = -18.5\n",
    "\n",
    "solution = model.optimize()\n",
    "model.summary()"
   ]
  },
  {
   "cell_type": "markdown",
   "id": "753ec76c",
   "metadata": {},
   "source": [
    "Print non-zero fluxes"
   ]
  },
  {
   "cell_type": "code",
   "execution_count": 3,
   "id": "a0c8fe98",
   "metadata": {
    "scrolled": true
   },
   "outputs": [
    {
     "data": {
      "text/plain": [
       "ACALD                -14.674917\n",
       "ACKr                 -15.173198\n",
       "ACONTa                 0.507693\n",
       "ACONTb                 0.507693\n",
       "ACt2r                -15.173198\n",
       "ALCD2x               -14.674917\n",
       "ATPM                   8.390000\n",
       "ATPS4r               -11.187949\n",
       "Biomass_Ecoli_core     0.470565\n",
       "CO2t                   0.840759\n",
       "CS                     0.507693\n",
       "ENO                   35.045131\n",
       "ETOHt2r              -14.674917\n",
       "EX_ac_e               15.173198\n",
       "EX_co2_e              -0.840759\n",
       "EX_etoh_e             14.674917\n",
       "EX_for_e              32.119392\n",
       "EX_glc__D_e          -18.500000\n",
       "EX_h_e                56.732128\n",
       "EX_h2o_e             -12.087891\n",
       "EX_nh4_e              -2.565898\n",
       "EX_pi_e               -1.731068\n",
       "FBA                   18.031929\n",
       "FORti                 32.119392\n",
       "GAPD                  35.749097\n",
       "GLCpts                18.500000\n",
       "GLNS                   0.120324\n",
       "GLUDy                 -2.445574\n",
       "H2Ot                  12.087891\n",
       "ICDHyr                 0.507693\n",
       "NH4t                   2.565898\n",
       "PFK                   18.031929\n",
       "PFL                   32.119392\n",
       "PGI                   18.403534\n",
       "PGK                  -35.749097\n",
       "PGM                  -35.045131\n",
       "PIt2r                  1.731068\n",
       "PPC                    1.348452\n",
       "PTAr                  15.173198\n",
       "PYK                   14.952409\n",
       "RPE                   -0.338242\n",
       "RPI                   -0.338242\n",
       "TALA                  -0.084184\n",
       "THD2                   8.068357\n",
       "TKT1                  -0.084184\n",
       "TKT2                  -0.254058\n",
       "TPI                   18.031929\n",
       "Name: fluxes, dtype: float64"
      ]
     },
     "execution_count": 3,
     "metadata": {},
     "output_type": "execute_result"
    }
   ],
   "source": [
    "df = solution.fluxes\n",
    "df = df.replace(0, np.nan)\n",
    "df = df.dropna(how='all', axis=0)\n",
    "df"
   ]
  },
  {
   "cell_type": "markdown",
   "id": "db5f5acc",
   "metadata": {},
   "source": [
    "Plot the fluxes on an Escher map"
   ]
  },
  {
   "cell_type": "code",
   "execution_count": 4,
   "id": "3e90ed85",
   "metadata": {},
   "outputs": [
    {
     "name": "stdout",
     "output_type": "stream",
     "text": [
      "Downloading Map from https://escher.github.io/1-0-0/6/maps/Escherichia%20coli/e_coli_core.Core%20metabolism.json\n",
      "Downloading Model from https://escher.github.io/1-0-0/6/models/Escherichia%20coli/e_coli_core.json\n"
     ]
    },
    {
     "data": {
      "application/vnd.jupyter.widget-view+json": {
       "model_id": "8917d76a21a84395b5e03b1690a917d6",
       "version_major": 2,
       "version_minor": 0
      },
      "text/plain": [
       "Builder()"
      ]
     },
     "metadata": {},
     "output_type": "display_data"
    }
   ],
   "source": [
    "import escher\n",
    "from escher import Builder\n",
    "builder = Builder(\n",
    "    map_name='e_coli_core.Core metabolism', \n",
    "    model_name='e_coli_core', \n",
    ")\n",
    "builder"
   ]
  },
  {
   "cell_type": "code",
   "execution_count": 5,
   "id": "2d8fdeef",
   "metadata": {},
   "outputs": [],
   "source": [
    "builder.reaction_data = solution.fluxes"
   ]
  },
  {
   "cell_type": "code",
   "execution_count": null,
   "id": "6579c6b6",
   "metadata": {},
   "outputs": [],
   "source": []
  }
 ],
 "metadata": {
  "kernelspec": {
   "display_name": "Python 3 (ipykernel)",
   "language": "python",
   "name": "python3"
  },
  "language_info": {
   "codemirror_mode": {
    "name": "ipython",
    "version": 3
   },
   "file_extension": ".py",
   "mimetype": "text/x-python",
   "name": "python",
   "nbconvert_exporter": "python",
   "pygments_lexer": "ipython3",
   "version": "3.8.12"
  }
 },
 "nbformat": 4,
 "nbformat_minor": 5
}
