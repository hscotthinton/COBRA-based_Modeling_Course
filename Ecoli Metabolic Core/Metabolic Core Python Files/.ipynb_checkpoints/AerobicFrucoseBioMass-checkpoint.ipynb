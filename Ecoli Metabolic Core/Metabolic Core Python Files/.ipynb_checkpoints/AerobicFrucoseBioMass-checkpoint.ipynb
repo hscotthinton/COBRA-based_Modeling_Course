{
 "cells": [
  {
   "cell_type": "markdown",
   "id": "b3ddfcdf",
   "metadata": {},
   "source": [
    "# Aerobic Respiration with a Frucose Carbon Source\n",
    "\n",
    "Set initital COBRApy conditions"
   ]
  },
  {
   "cell_type": "code",
   "execution_count": 1,
   "id": "3af65999",
   "metadata": {},
   "outputs": [],
   "source": [
    "import cobra\n",
    "import pandas as pd\n",
    "import escher\n",
    "from escher import Builder\n",
    "import numpy as np\n",
    "pd.set_option('display.max_rows', 500) # Display all the rows in Panda Dataframes"
   ]
  },
  {
   "cell_type": "markdown",
   "id": "48362512",
   "metadata": {},
   "source": [
    "Set inital conditions of simulation"
   ]
  },
  {
   "cell_type": "code",
   "execution_count": 2,
   "id": "3385e483",
   "metadata": {},
   "outputs": [
    {
     "data": {
      "text/html": [
       "<h3>Objective</h3><p>1.0 Biomass_Ecoli_core = 0.8739215069684323</p><h4>Uptake</h4><table border=\"1\" class=\"dataframe\">\n",
       "  <thead>\n",
       "    <tr style=\"text-align: right;\">\n",
       "      <th>Metabolite</th>\n",
       "      <th>Reaction</th>\n",
       "      <th>Flux</th>\n",
       "      <th>C-Number</th>\n",
       "      <th>C-Flux</th>\n",
       "    </tr>\n",
       "  </thead>\n",
       "  <tbody>\n",
       "    <tr>\n",
       "      <td>fru_e</td>\n",
       "      <td>EX_fru_e</td>\n",
       "      <td>10</td>\n",
       "      <td>6</td>\n",
       "      <td>100.00%</td>\n",
       "    </tr>\n",
       "    <tr>\n",
       "      <td>nh4_e</td>\n",
       "      <td>EX_nh4_e</td>\n",
       "      <td>4.765</td>\n",
       "      <td>0</td>\n",
       "      <td>0.00%</td>\n",
       "    </tr>\n",
       "    <tr>\n",
       "      <td>o2_e</td>\n",
       "      <td>EX_o2_e</td>\n",
       "      <td>21.8</td>\n",
       "      <td>0</td>\n",
       "      <td>0.00%</td>\n",
       "    </tr>\n",
       "    <tr>\n",
       "      <td>pi_e</td>\n",
       "      <td>EX_pi_e</td>\n",
       "      <td>3.215</td>\n",
       "      <td>0</td>\n",
       "      <td>0.00%</td>\n",
       "    </tr>\n",
       "  </tbody>\n",
       "</table><h4>Secretion</h4><table border=\"1\" class=\"dataframe\">\n",
       "  <thead>\n",
       "    <tr style=\"text-align: right;\">\n",
       "      <th>Metabolite</th>\n",
       "      <th>Reaction</th>\n",
       "      <th>Flux</th>\n",
       "      <th>C-Number</th>\n",
       "      <th>C-Flux</th>\n",
       "    </tr>\n",
       "  </thead>\n",
       "  <tbody>\n",
       "    <tr>\n",
       "      <td>co2_e</td>\n",
       "      <td>EX_co2_e</td>\n",
       "      <td>-22.81</td>\n",
       "      <td>1</td>\n",
       "      <td>100.00%</td>\n",
       "    </tr>\n",
       "    <tr>\n",
       "      <td>h2o_e</td>\n",
       "      <td>EX_h2o_e</td>\n",
       "      <td>-29.18</td>\n",
       "      <td>0</td>\n",
       "      <td>0.00%</td>\n",
       "    </tr>\n",
       "    <tr>\n",
       "      <td>h_e</td>\n",
       "      <td>EX_h_e</td>\n",
       "      <td>-17.53</td>\n",
       "      <td>0</td>\n",
       "      <td>0.00%</td>\n",
       "    </tr>\n",
       "  </tbody>\n",
       "</table>"
      ],
      "text/plain": [
       "<cobra.summary.model_summary.ModelSummary at 0x1df10909040>"
      ]
     },
     "execution_count": 2,
     "metadata": {},
     "output_type": "execute_result"
    }
   ],
   "source": [
    "model = cobra.io.load_model(\"textbook\") \n",
    "\n",
    "model.reactions.EX_o2_e.lower_bound = -1000\n",
    "model.reactions.EX_glc__D_e.lower_bound = -0 # Need to set glucose uptake to zero\n",
    "model.reactions.EX_fru_e.lower_bound = -10\n",
    "\n",
    "solution = model.optimize()\n",
    "model.summary()"
   ]
  },
  {
   "cell_type": "markdown",
   "id": "753ec76c",
   "metadata": {},
   "source": [
    "Print non-zero fluxes"
   ]
  },
  {
   "cell_type": "code",
   "execution_count": 3,
   "id": "a0c8fe98",
   "metadata": {
    "scrolled": true
   },
   "outputs": [
    {
     "data": {
      "text/plain": [
       "ACONTa                6.007250e+00\n",
       "ACONTb                6.007250e+00\n",
       "AKGDH                 5.064376e+00\n",
       "ATPM                  8.390000e+00\n",
       "ATPS4r                4.551401e+01\n",
       "Biomass_Ecoli_core    8.739215e-01\n",
       "CO2t                 -2.280983e+01\n",
       "CS                    6.007250e+00\n",
       "CYTBD                 4.359899e+01\n",
       "ENO                   1.471614e+01\n",
       "EX_co2_e              2.280983e+01\n",
       "EX_fru_e             -1.000000e+01\n",
       "EX_h_e                1.753087e+01\n",
       "EX_h2o_e              2.917583e+01\n",
       "EX_nh4_e             -4.765319e+00\n",
       "EX_o2_e              -2.179949e+01\n",
       "EX_pi_e              -3.214895e+00\n",
       "FBA                   7.477382e+00\n",
       "FRUpts2               1.000000e+01\n",
       "FUM                   5.064376e+00\n",
       "FUMt2_2              -1.663907e-15\n",
       "G6PDH2r               4.959985e+00\n",
       "GAPD                  1.602353e+01\n",
       "GLNS                  2.234617e-01\n",
       "GLNabc                5.444821e-16\n",
       "GLUDy                -4.541857e+00\n",
       "GND                   4.959985e+00\n",
       "H2Ot                 -2.917583e+01\n",
       "ICDHyr                6.007250e+00\n",
       "MDH                   5.064376e+00\n",
       "NADH16                3.853461e+01\n",
       "NH4t                  4.765319e+00\n",
       "O2t                   2.179949e+01\n",
       "PDH                   9.282533e+00\n",
       "PFK                   7.477382e+00\n",
       "PGI                  -5.139139e+00\n",
       "PGK                  -1.602353e+01\n",
       "PGL                   4.959985e+00\n",
       "PGM                  -1.471614e+01\n",
       "PIt2r                 3.214895e+00\n",
       "PPC                   2.504309e+00\n",
       "PYK                   1.758177e+00\n",
       "RPE                   2.678482e+00\n",
       "RPI                  -2.281503e+00\n",
       "SUCDi                 5.064376e+00\n",
       "SUCOAS               -5.064376e+00\n",
       "TALA                  1.496984e+00\n",
       "TKT1                  1.496984e+00\n",
       "TKT2                  1.181498e+00\n",
       "TPI                   7.477382e+00\n",
       "Name: fluxes, dtype: float64"
      ]
     },
     "execution_count": 3,
     "metadata": {},
     "output_type": "execute_result"
    }
   ],
   "source": [
    "df = solution.fluxes\n",
    "df = df.replace(0, np.nan)\n",
    "df = df.dropna(how='all', axis=0)\n",
    "df"
   ]
  },
  {
   "cell_type": "markdown",
   "id": "db5f5acc",
   "metadata": {},
   "source": [
    "Plot the fluxes on an Escher map"
   ]
  },
  {
   "cell_type": "code",
   "execution_count": 4,
   "id": "3e90ed85",
   "metadata": {},
   "outputs": [
    {
     "name": "stdout",
     "output_type": "stream",
     "text": [
      "Downloading Map from https://escher.github.io/1-0-0/6/maps/Escherichia%20coli/e_coli_core.Core%20metabolism.json\n",
      "Downloading Model from https://escher.github.io/1-0-0/6/models/Escherichia%20coli/e_coli_core.json\n"
     ]
    },
    {
     "data": {
      "application/vnd.jupyter.widget-view+json": {
       "model_id": "25e40f4015de42ea900c07641ac84bd2",
       "version_major": 2,
       "version_minor": 0
      },
      "text/plain": [
       "Builder()"
      ]
     },
     "metadata": {},
     "output_type": "display_data"
    }
   ],
   "source": [
    "import escher\n",
    "from escher import Builder\n",
    "builder = Builder(\n",
    "    map_name='e_coli_core.Core metabolism', \n",
    "    model_name='e_coli_core', \n",
    ")\n",
    "builder"
   ]
  },
  {
   "cell_type": "code",
   "execution_count": 5,
   "id": "2d8fdeef",
   "metadata": {},
   "outputs": [],
   "source": [
    "builder.reaction_data = solution.fluxes"
   ]
  },
  {
   "cell_type": "code",
   "execution_count": null,
   "id": "6579c6b6",
   "metadata": {},
   "outputs": [],
   "source": []
  }
 ],
 "metadata": {
  "kernelspec": {
   "display_name": "Python 3 (ipykernel)",
   "language": "python",
   "name": "python3"
  },
  "language_info": {
   "codemirror_mode": {
    "name": "ipython",
    "version": 3
   },
   "file_extension": ".py",
   "mimetype": "text/x-python",
   "name": "python",
   "nbconvert_exporter": "python",
   "pygments_lexer": "ipython3",
   "version": "3.9.12"
  }
 },
 "nbformat": 4,
 "nbformat_minor": 5
}
