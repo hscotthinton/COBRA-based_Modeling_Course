{
 "cells": [
  {
   "cell_type": "markdown",
   "id": "deee27e7",
   "metadata": {},
   "source": [
    "# Carbon Sources in the Heterotrophic iJN678 Model"
   ]
  },
  {
   "cell_type": "code",
   "execution_count": 1,
   "id": "2550cb96",
   "metadata": {},
   "outputs": [],
   "source": [
    "import cobra.test\n",
    "from cobra.test import create_test_model\n",
    "import escher\n",
    "from escher import Builder\n",
    "import numpy as np\n",
    "import pandas as pd\n",
    "from cobrapy_bigg_client import client\n",
    "pd.set_option('display.max_rows', None)\n",
    "pd.set_option('display.max_columns', 200)"
   ]
  },
  {
   "cell_type": "markdown",
   "id": "8b9cd044",
   "metadata": {},
   "source": [
    "Setting the heterotrophic conditions"
   ]
  },
  {
   "cell_type": "code",
   "execution_count": 2,
   "id": "8e0a8a5a",
   "metadata": {},
   "outputs": [
    {
     "name": "stdout",
     "output_type": "stream",
     "text": [
      "Set parameter Username\n",
      "Academic license - for non-commercial use only - expires 2022-10-10\n",
      "Read LP format model from file C:\\Users\\hinton\\AppData\\Local\\Temp\\tmpmhw47gdc.lp\n",
      "Reading time = 0.01 seconds\n",
      ": 795 rows, 1726 columns, 8316 nonzeros\n"
     ]
    }
   ],
   "source": [
    "model = client.download_model('iJN678', save=False)\n",
    "\n",
    "model.objective = 'BIOMASS_Ec_SynHetero'\n",
    "model.reactions.BIOMASS_Ec_SynAuto.bounds = [-0,0]\n",
    "model.reactions.BIOMASS_Ec_SynMixo.bounds = [-0,0]\n",
    "\n",
    "#model.reactions.EX_glc__D_e.bounds=[-0.85,0]\n",
    "#model.reactions.HCO3E.bounds=[-0,0]\n",
    "\n",
    "model_orig = model.copy()"
   ]
  },
  {
   "cell_type": "markdown",
   "id": "1ea11c73",
   "metadata": {},
   "source": [
    "## Exchange Reactions (Carbon Sources) that Allow Aerobic Growth\n",
    "\n",
    "Find the exchange reactions that allow growth in an aerobic environment."
   ]
  },
  {
   "cell_type": "code",
   "execution_count": 3,
   "id": "9d8147a6",
   "metadata": {},
   "outputs": [
    {
     "name": "stdout",
     "output_type": "stream",
     "text": [
      "Read LP format model from file C:\\Users\\hinton\\AppData\\Local\\Temp\\tmp_pvfbwax.lp\n",
      "Reading time = 0.01 seconds\n",
      ": 795 rows, 1726 columns, 8316 nonzeros\n"
     ]
    }
   ],
   "source": [
    "model = model_orig.copy()\n",
    "exchange_ids = []\n",
    "growth_rate = []\n",
    "exchange_ids = [r.id for r in model.exchanges]\n",
    "model.reactions.EX_o2_e.lower_bound = -1000\n",
    "model.reactions.EX_glc__D_e.lower_bound = -0\n",
    "for i in range(len(exchange_ids)):\n",
    "    temp = model.reactions.get_by_id(exchange_ids[i]).lower_bound \n",
    "    model.reactions.get_by_id(exchange_ids[i]).lower_bound = -20\n",
    "    x = model.slim_optimize()\n",
    "    growth_rate.append(x)\n",
    "    model.reactions.get_by_id(exchange_ids[i]).lower_bound = temp\n",
    "    #print(exchange_ids[i], growth_rate[i])"
   ]
  },
  {
   "cell_type": "code",
   "execution_count": 4,
   "id": "203b42fc",
   "metadata": {},
   "outputs": [
    {
     "data": {
      "text/html": [
       "<div>\n",
       "<style scoped>\n",
       "    .dataframe tbody tr th:only-of-type {\n",
       "        vertical-align: middle;\n",
       "    }\n",
       "\n",
       "    .dataframe tbody tr th {\n",
       "        vertical-align: top;\n",
       "    }\n",
       "\n",
       "    .dataframe thead th {\n",
       "        text-align: right;\n",
       "    }\n",
       "</style>\n",
       "<table border=\"1\" class=\"dataframe\">\n",
       "  <thead>\n",
       "    <tr style=\"text-align: right;\">\n",
       "      <th></th>\n",
       "      <th>Exchange Reaction</th>\n",
       "      <th>Aerobic Growth Rate</th>\n",
       "    </tr>\n",
       "  </thead>\n",
       "  <tbody>\n",
       "    <tr>\n",
       "      <th>0</th>\n",
       "      <td>EX_ac_e</td>\n",
       "      <td>0.3030</td>\n",
       "    </tr>\n",
       "    <tr>\n",
       "      <th>1</th>\n",
       "      <td>EX_pyr_e</td>\n",
       "      <td>0.5501</td>\n",
       "    </tr>\n",
       "    <tr>\n",
       "      <th>2</th>\n",
       "      <td>EX_fum_e</td>\n",
       "      <td>0.6931</td>\n",
       "    </tr>\n",
       "    <tr>\n",
       "      <th>3</th>\n",
       "      <td>EX_succ_e</td>\n",
       "      <td>0.7731</td>\n",
       "    </tr>\n",
       "    <tr>\n",
       "      <th>4</th>\n",
       "      <td>EX_cit_e</td>\n",
       "      <td>1.0264</td>\n",
       "    </tr>\n",
       "    <tr>\n",
       "      <th>5</th>\n",
       "      <td>EX_glc__D_e</td>\n",
       "      <td>1.4859</td>\n",
       "    </tr>\n",
       "    <tr>\n",
       "      <th>6</th>\n",
       "      <td>EX_fru_e</td>\n",
       "      <td>1.4859</td>\n",
       "    </tr>\n",
       "    <tr>\n",
       "      <th>7</th>\n",
       "      <td>EX_glu__L_e</td>\n",
       "      <td>0.9750</td>\n",
       "    </tr>\n",
       "    <tr>\n",
       "      <th>8</th>\n",
       "      <td>EX_gln__L_e</td>\n",
       "      <td>0.0371</td>\n",
       "    </tr>\n",
       "    <tr>\n",
       "      <th>9</th>\n",
       "      <td>EX_akg_e</td>\n",
       "      <td>0.8931</td>\n",
       "    </tr>\n",
       "    <tr>\n",
       "      <th>10</th>\n",
       "      <td>EX_mal__L_e</td>\n",
       "      <td>0.6931</td>\n",
       "    </tr>\n",
       "  </tbody>\n",
       "</table>\n",
       "</div>"
      ],
      "text/plain": [
       "   Exchange Reaction  Aerobic Growth Rate\n",
       "0            EX_ac_e               0.3030\n",
       "1           EX_pyr_e               0.5501\n",
       "2           EX_fum_e               0.6931\n",
       "3          EX_succ_e               0.7731\n",
       "4           EX_cit_e               1.0264\n",
       "5        EX_glc__D_e               1.4859\n",
       "6           EX_fru_e               1.4859\n",
       "7        EX_glu__L_e               0.9750\n",
       "8        EX_gln__L_e               0.0371\n",
       "9           EX_akg_e               0.8931\n",
       "10       EX_mal__L_e               0.6931"
      ]
     },
     "execution_count": 4,
     "metadata": {},
     "output_type": "execute_result"
    }
   ],
   "source": [
    "Aerobic_carbon_growth_rate = {'Exchange Reaction': exchange_ids,\n",
    "                     'Aerobic Growth Rate': growth_rate}\n",
    "Aerobic_df = pd.DataFrame(Aerobic_carbon_growth_rate, columns = ['Exchange Reaction','Aerobic Growth Rate'])\n",
    "df1 = Aerobic_df\n",
    "df1 = df1.round(4) # Round to 4 digits\n",
    "df1 = df1.replace(0, np.nan) # Replace zeros with NaN\n",
    "df1 = df1.dropna() # Remove rows with NaN values\n",
    "df1 = df1.reset_index(drop=True)\n",
    "df1"
   ]
  },
  {
   "cell_type": "markdown",
   "id": "a53543d1",
   "metadata": {},
   "source": [
    "The total number of metabolites (exhange reactions) that can grow in aerobic conditions is 11."
   ]
  },
  {
   "cell_type": "markdown",
   "id": "cfc57fcb",
   "metadata": {},
   "source": [
    "A histogram of the aerobic growth rates from the different exchange reactions"
   ]
  },
  {
   "cell_type": "code",
   "execution_count": 5,
   "id": "f13b9eff",
   "metadata": {},
   "outputs": [
    {
     "data": {
      "text/plain": [
       "array([[<AxesSubplot:title={'center':'Aerobic Growth Rate'}>]],\n",
       "      dtype=object)"
      ]
     },
     "execution_count": 5,
     "metadata": {},
     "output_type": "execute_result"
    },
    {
     "data": {
      "image/png": "[encoded data removed]",
      "text/plain": [
       "<Figure size 432x288 with 1 Axes>"
      ]
     },
     "metadata": {
      "needs_background": "light"
     },
     "output_type": "display_data"
    }
   ],
   "source": [
    "df1.hist(bins=100)"
   ]
  },
  {
   "cell_type": "markdown",
   "id": "bba73ed1",
   "metadata": {},
   "source": [
    "## Exchange Reactions (Carbon Sources) that Allow Anaerobic Growth\n",
    "\n",
    "Find the exchange reactions that allow growth in an anaerobic environment."
   ]
  },
  {
   "cell_type": "code",
   "execution_count": 6,
   "id": "61e66241",
   "metadata": {},
   "outputs": [
    {
     "name": "stdout",
     "output_type": "stream",
     "text": [
      "Read LP format model from file C:\\Users\\hinton\\AppData\\Local\\Temp\\tmpmerqq25z.lp\n",
      "Reading time = 0.01 seconds\n",
      ": 795 rows, 1726 columns, 8316 nonzeros\n"
     ]
    }
   ],
   "source": [
    "model = model_orig.copy()\n",
    "exchange_ids = []\n",
    "growth_rate = []\n",
    "exchange_ids = [r.id for r in model.exchanges]\n",
    "model.reactions.EX_o2_e.lower_bound = 0\n",
    "model.reactions.EX_glc__D_e.lower_bound = -0\n",
    "for i in range(len(exchange_ids)):\n",
    "    temp = model.reactions.get_by_id(exchange_ids[i]).lower_bound \n",
    "    model.reactions.get_by_id(exchange_ids[i]).lower_bound = -20\n",
    "    x = model.slim_optimize()\n",
    "    growth_rate.append(x)\n",
    "    model.reactions.get_by_id(exchange_ids[i]).lower_bound = temp"
   ]
  },
  {
   "cell_type": "code",
   "execution_count": 7,
   "id": "00667e77",
   "metadata": {},
   "outputs": [
    {
     "data": {
      "text/html": [
       "<div>\n",
       "<style scoped>\n",
       "    .dataframe tbody tr th:only-of-type {\n",
       "        vertical-align: middle;\n",
       "    }\n",
       "\n",
       "    .dataframe tbody tr th {\n",
       "        vertical-align: top;\n",
       "    }\n",
       "\n",
       "    .dataframe thead th {\n",
       "        text-align: right;\n",
       "    }\n",
       "</style>\n",
       "<table border=\"1\" class=\"dataframe\">\n",
       "  <thead>\n",
       "    <tr style=\"text-align: right;\">\n",
       "      <th></th>\n",
       "      <th>Exchange Reaction</th>\n",
       "      <th>Anaerobic Growth Rate</th>\n",
       "    </tr>\n",
       "  </thead>\n",
       "  <tbody>\n",
       "  </tbody>\n",
       "</table>\n",
       "</div>"
      ],
      "text/plain": [
       "Empty DataFrame\n",
       "Columns: [Exchange Reaction, Anaerobic Growth Rate]\n",
       "Index: []"
      ]
     },
     "execution_count": 7,
     "metadata": {},
     "output_type": "execute_result"
    }
   ],
   "source": [
    "Anaerobic_carbon_growth_rate = {'Exchange Reaction': exchange_ids,\n",
    "                     'Anaerobic Growth Rate': growth_rate}\n",
    "Anaerobic_df = pd.DataFrame(Anaerobic_carbon_growth_rate, columns = ['Exchange Reaction','Anaerobic Growth Rate'])\n",
    "df2 = Anaerobic_df\n",
    "df2 = df2.round(4) # Round to 4 digits\n",
    "df2 = df2.replace(0, np.nan) # Replace zero with NaN\n",
    "df2 = df2.dropna() # Remove rows with NaN\n",
    "df2 = df2.reset_index(drop=True)\n",
    "df2"
   ]
  },
  {
   "cell_type": "markdown",
   "id": "a3e012b9",
   "metadata": {},
   "source": [
    "The total number of metabolites (exhange reactions) that can grow in anaerobic conditions is zero"
   ]
  },
  {
   "cell_type": "markdown",
   "id": "b9db20ea",
   "metadata": {},
   "source": [
    "A histogram of the anaerobic growth rates from the different exchange reactions"
   ]
  },
  {
   "cell_type": "code",
   "execution_count": 9,
   "id": "0e7ce4c1",
   "metadata": {},
   "outputs": [
    {
     "data": {
      "text/plain": [
       "array([[<AxesSubplot:title={'center':'Anaerobic Growth Rate'}>]],\n",
       "      dtype=object)"
      ]
     },
     "execution_count": 9,
     "metadata": {},
     "output_type": "execute_result"
    },
    {
     "data": {
      "image/png": "[encoded data removed]",
      "text/plain": [
       "<Figure size 432x288 with 1 Axes>"
      ]
     },
     "metadata": {
      "needs_background": "light"
     },
     "output_type": "display_data"
    }
   ],
   "source": [
    "df2.hist(bins=100)"
   ]
  },
  {
   "cell_type": "markdown",
   "id": "cc3a9a3d",
   "metadata": {},
   "source": [
    "## Growth Rate Table for Exchange Reactions\n",
    "Create a table showing the growth rates of the exchange reactions in both aerobic and anaerobic conditions."
   ]
  },
  {
   "cell_type": "code",
   "execution_count": 10,
   "id": "641268e7",
   "metadata": {},
   "outputs": [
    {
     "data": {
      "text/html": [
       "<div>\n",
       "<style scoped>\n",
       "    .dataframe tbody tr th:only-of-type {\n",
       "        vertical-align: middle;\n",
       "    }\n",
       "\n",
       "    .dataframe tbody tr th {\n",
       "        vertical-align: top;\n",
       "    }\n",
       "\n",
       "    .dataframe thead th {\n",
       "        text-align: right;\n",
       "    }\n",
       "</style>\n",
       "<table border=\"1\" class=\"dataframe\">\n",
       "  <thead>\n",
       "    <tr style=\"text-align: right;\">\n",
       "      <th></th>\n",
       "      <th>Exchange Reaction</th>\n",
       "      <th>Aerobic Growth Rate</th>\n",
       "      <th>Anaerobic Growth Rate</th>\n",
       "    </tr>\n",
       "  </thead>\n",
       "  <tbody>\n",
       "    <tr>\n",
       "      <th>0</th>\n",
       "      <td>EX_ac_e</td>\n",
       "      <td>0.3030</td>\n",
       "      <td>0.0</td>\n",
       "    </tr>\n",
       "    <tr>\n",
       "      <th>1</th>\n",
       "      <td>EX_pyr_e</td>\n",
       "      <td>0.5501</td>\n",
       "      <td>0.0</td>\n",
       "    </tr>\n",
       "    <tr>\n",
       "      <th>2</th>\n",
       "      <td>EX_fum_e</td>\n",
       "      <td>0.6931</td>\n",
       "      <td>0.0</td>\n",
       "    </tr>\n",
       "    <tr>\n",
       "      <th>3</th>\n",
       "      <td>EX_succ_e</td>\n",
       "      <td>0.7731</td>\n",
       "      <td>0.0</td>\n",
       "    </tr>\n",
       "    <tr>\n",
       "      <th>4</th>\n",
       "      <td>EX_cit_e</td>\n",
       "      <td>1.0264</td>\n",
       "      <td>0.0</td>\n",
       "    </tr>\n",
       "    <tr>\n",
       "      <th>5</th>\n",
       "      <td>EX_glc__D_e</td>\n",
       "      <td>1.4859</td>\n",
       "      <td>0.0</td>\n",
       "    </tr>\n",
       "    <tr>\n",
       "      <th>6</th>\n",
       "      <td>EX_fru_e</td>\n",
       "      <td>1.4859</td>\n",
       "      <td>0.0</td>\n",
       "    </tr>\n",
       "    <tr>\n",
       "      <th>7</th>\n",
       "      <td>EX_glu__L_e</td>\n",
       "      <td>0.9750</td>\n",
       "      <td>0.0</td>\n",
       "    </tr>\n",
       "    <tr>\n",
       "      <th>8</th>\n",
       "      <td>EX_gln__L_e</td>\n",
       "      <td>0.0371</td>\n",
       "      <td>0.0</td>\n",
       "    </tr>\n",
       "    <tr>\n",
       "      <th>9</th>\n",
       "      <td>EX_akg_e</td>\n",
       "      <td>0.8931</td>\n",
       "      <td>0.0</td>\n",
       "    </tr>\n",
       "    <tr>\n",
       "      <th>10</th>\n",
       "      <td>EX_mal__L_e</td>\n",
       "      <td>0.6931</td>\n",
       "      <td>0.0</td>\n",
       "    </tr>\n",
       "  </tbody>\n",
       "</table>\n",
       "</div>"
      ],
      "text/plain": [
       "   Exchange Reaction  Aerobic Growth Rate  Anaerobic Growth Rate\n",
       "0            EX_ac_e               0.3030                    0.0\n",
       "1           EX_pyr_e               0.5501                    0.0\n",
       "2           EX_fum_e               0.6931                    0.0\n",
       "3          EX_succ_e               0.7731                    0.0\n",
       "4           EX_cit_e               1.0264                    0.0\n",
       "5        EX_glc__D_e               1.4859                    0.0\n",
       "6           EX_fru_e               1.4859                    0.0\n",
       "7        EX_glu__L_e               0.9750                    0.0\n",
       "8        EX_gln__L_e               0.0371                    0.0\n",
       "9           EX_akg_e               0.8931                    0.0\n",
       "10       EX_mal__L_e               0.6931                    0.0"
      ]
     },
     "execution_count": 10,
     "metadata": {},
     "output_type": "execute_result"
    }
   ],
   "source": [
    "df3 = Aerobic_df.join(Anaerobic_df.set_index('Exchange Reaction'), on='Exchange Reaction')\n",
    "df3 = df3.round(4) # Round to four digits\n",
    "df3 = df3.replace(0, np.nan) # Replace zero with NaN\n",
    "df3 = df3.dropna(how = 'all', subset=['Aerobic Growth Rate', 'Anaerobic Growth Rate']) # Remove NaN's found in both columns\n",
    "df3 = df3.replace(np.nan, 0)\n",
    "df3 = df3.reset_index(drop=True)\n",
    "df3"
   ]
  }
 ],
 "metadata": {
  "kernelspec": {
   "display_name": "Python 3 (ipykernel)",
   "language": "python",
   "name": "python3"
  },
  "language_info": {
   "codemirror_mode": {
    "name": "ipython",
    "version": 3
   },
   "file_extension": ".py",
   "mimetype": "text/x-python",
   "name": "python",
   "nbconvert_exporter": "python",
   "pygments_lexer": "ipython3",
   "version": "3.8.12"
  }
 },
 "nbformat": 4,
 "nbformat_minor": 5
}
