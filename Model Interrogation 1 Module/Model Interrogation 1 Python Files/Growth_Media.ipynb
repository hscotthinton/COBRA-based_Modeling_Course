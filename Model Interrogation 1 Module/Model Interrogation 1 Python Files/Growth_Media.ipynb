{
 "cells": [
  {
   "cell_type": "markdown",
   "metadata": {},
   "source": [
    "# Growth Media\n",
    "\n",
    "The availability of nutrients from the extracellular space has a major impact on the metabolic fluxes within the cell. COBRApy can be used to manage the exchanges between the external environment and your metabolic model. In experimental settings the \"environment\" is usually referred to as the growth medium, this implies all the concentrations of metabolites and co-factors available to the modeled organism. Unfortuantely, constraint-based metabolic models are based on fluxes, not concentrations. As a reminder, fluxes have the unit mmol/[gDW * h] (concentration (mmol) divided by grams dry weight of cells (gDW) times the time in hours (h)). \n",
    "\n",
    "Also, constraint-based modeling sets an upper bound for the particular import flux and not the flux itself. There are some crude approximations. As an examaple, if you supply 1 mol of glucose every 24h to 1 gram of bacteria you could set the upper exchange flux for glucose to 1 mol/[1 gDW * 24 h] since that is the nominal maximum that can be imported. There is no guarantee that all the glucose will be consumed with that flux. The preferred data for exchange fluxes are direct flux measurements obtained from timecourse exa-metabolome measurements. "
   ]
  },
  {
   "cell_type": "markdown",
   "metadata": {},
   "source": [
    "Setting the COBRApy environment"
   ]
  },
  {
   "cell_type": "code",
   "execution_count": 1,
   "metadata": {},
   "outputs": [
    {
     "name": "stdout",
     "output_type": "stream",
     "text": [
      "Set parameter Username\n",
      "Academic license - for non-commercial use only - expires 2022-10-10\n"
     ]
    }
   ],
   "source": [
    "from pandas import DataFrame\n",
    "import pandas as pd\n",
    "pd.set_option('display.max_rows', 1000)\n",
    "\n",
    "from cobrapy_bigg_client import client\n",
    "model_orig = client.download_model('e_coli_core', save=False) # Download model from the BIGG database"
   ]
  },
  {
   "cell_type": "markdown",
   "metadata": {},
   "source": [
    "## Nutrient Uptake\n",
    "\n",
    "Let's start by looking at the exchanges that are open allowing flux to enter the cell."
   ]
  },
  {
   "cell_type": "code",
   "execution_count": 2,
   "metadata": {},
   "outputs": [
    {
     "name": "stdout",
     "output_type": "stream",
     "text": [
      "Read LP format model from file C:\\Users\\hinton\\AppData\\Local\\Temp\\tmpfbrplvt_.lp\n",
      "Reading time = 0.01 seconds\n",
      ": 72 rows, 190 columns, 720 nonzeros\n"
     ]
    },
    {
     "data": {
      "text/html": [
       "<div>\n",
       "<style scoped>\n",
       "    .dataframe tbody tr th:only-of-type {\n",
       "        vertical-align: middle;\n",
       "    }\n",
       "\n",
       "    .dataframe tbody tr th {\n",
       "        vertical-align: top;\n",
       "    }\n",
       "\n",
       "    .dataframe thead th {\n",
       "        text-align: right;\n",
       "    }\n",
       "</style>\n",
       "<table border=\"1\" class=\"dataframe\">\n",
       "  <thead>\n",
       "    <tr style=\"text-align: right;\">\n",
       "      <th></th>\n",
       "      <th>Reaction ID</th>\n",
       "      <th>Reaction Name</th>\n",
       "      <th>Reaction Formula</th>\n",
       "      <th>Reaction Lower Bound</th>\n",
       "      <th>Reaction Upper Bound</th>\n",
       "    </tr>\n",
       "  </thead>\n",
       "  <tbody>\n",
       "    <tr>\n",
       "      <th>0</th>\n",
       "      <td>EX_co2_e</td>\n",
       "      <td>CO2 exchange</td>\n",
       "      <td>co2_e &lt;=&gt;</td>\n",
       "      <td>-1000.0</td>\n",
       "      <td>1000.0</td>\n",
       "    </tr>\n",
       "    <tr>\n",
       "      <th>1</th>\n",
       "      <td>EX_glc__D_e</td>\n",
       "      <td>D-Glucose exchange</td>\n",
       "      <td>glc__D_e &lt;=&gt;</td>\n",
       "      <td>-10.0</td>\n",
       "      <td>1000.0</td>\n",
       "    </tr>\n",
       "    <tr>\n",
       "      <th>2</th>\n",
       "      <td>EX_h_e</td>\n",
       "      <td>H+ exchange</td>\n",
       "      <td>h_e &lt;=&gt;</td>\n",
       "      <td>-1000.0</td>\n",
       "      <td>1000.0</td>\n",
       "    </tr>\n",
       "    <tr>\n",
       "      <th>3</th>\n",
       "      <td>EX_h2o_e</td>\n",
       "      <td>H2O exchange</td>\n",
       "      <td>h2o_e &lt;=&gt;</td>\n",
       "      <td>-1000.0</td>\n",
       "      <td>1000.0</td>\n",
       "    </tr>\n",
       "    <tr>\n",
       "      <th>4</th>\n",
       "      <td>EX_nh4_e</td>\n",
       "      <td>Ammonia exchange</td>\n",
       "      <td>nh4_e &lt;=&gt;</td>\n",
       "      <td>-1000.0</td>\n",
       "      <td>1000.0</td>\n",
       "    </tr>\n",
       "    <tr>\n",
       "      <th>5</th>\n",
       "      <td>EX_o2_e</td>\n",
       "      <td>O2 exchange</td>\n",
       "      <td>o2_e &lt;=&gt;</td>\n",
       "      <td>-1000.0</td>\n",
       "      <td>1000.0</td>\n",
       "    </tr>\n",
       "    <tr>\n",
       "      <th>6</th>\n",
       "      <td>EX_pi_e</td>\n",
       "      <td>Phosphate exchange</td>\n",
       "      <td>pi_e &lt;=&gt;</td>\n",
       "      <td>-1000.0</td>\n",
       "      <td>1000.0</td>\n",
       "    </tr>\n",
       "  </tbody>\n",
       "</table>\n",
       "</div>"
      ],
      "text/plain": [
       "   Reaction ID       Reaction Name Reaction Formula  Reaction Lower Bound  \\\n",
       "0     EX_co2_e        CO2 exchange       co2_e <=>                -1000.0   \n",
       "1  EX_glc__D_e  D-Glucose exchange    glc__D_e <=>                  -10.0   \n",
       "2       EX_h_e         H+ exchange         h_e <=>                -1000.0   \n",
       "3     EX_h2o_e        H2O exchange       h2o_e <=>                -1000.0   \n",
       "4     EX_nh4_e    Ammonia exchange       nh4_e <=>                -1000.0   \n",
       "5      EX_o2_e         O2 exchange        o2_e <=>                -1000.0   \n",
       "6      EX_pi_e  Phosphate exchange        pi_e <=>                -1000.0   \n",
       "\n",
       "   Reaction Upper Bound  \n",
       "0                1000.0  \n",
       "1                1000.0  \n",
       "2                1000.0  \n",
       "3                1000.0  \n",
       "4                1000.0  \n",
       "5                1000.0  \n",
       "6                1000.0  "
      ]
     },
     "execution_count": 2,
     "metadata": {},
     "output_type": "execute_result"
    }
   ],
   "source": [
    "model = model_orig.copy()\n",
    "exchange_ids = [r.id for r in model.exchanges]\n",
    "exchange_names = [r.name for r in model.exchanges]\n",
    "exchange_formula = [r.reaction for r in model.exchanges]\n",
    "exchange_lb = [r.lower_bound for r in model.exchanges]\n",
    "exchange_ub = [r.upper_bound for r in model.exchanges]\n",
    "exchangeList = {'Reaction ID': exchange_ids,\n",
    "                'Reaction Name': exchange_names,\n",
    "                'Reaction Formula': exchange_formula,\n",
    "                'Reaction Lower Bound': exchange_lb,\n",
    "                'Reaction Upper Bound': exchange_ub,\n",
    "               }\n",
    "exchange_df = pd.DataFrame(exchangeList, columns= ['Reaction ID','Reaction Name','Reaction Formula',\n",
    "                                                   'Reaction Lower Bound','Reaction Upper Bound'])\n",
    "open_exchanges = exchange_df[exchange_df['Reaction Lower Bound'] != 0] # removing reactions with lowerbound equal to zero\n",
    "open_exchanges = open_exchanges.reset_index(drop=True) # renumbering the index\n",
    "open_exchanges"
   ]
  },
  {
   "cell_type": "markdown",
   "metadata": {},
   "source": [
    "A simpler way of getting the minimum info is to use the \"medium\" method. Note that the lower bounds are positive instead of negative."
   ]
  },
  {
   "cell_type": "code",
   "execution_count": 3,
   "metadata": {},
   "outputs": [
    {
     "data": {
      "text/plain": [
       "{'EX_co2_e': 1000.0,\n",
       " 'EX_glc__D_e': 10.0,\n",
       " 'EX_h_e': 1000.0,\n",
       " 'EX_h2o_e': 1000.0,\n",
       " 'EX_nh4_e': 1000.0,\n",
       " 'EX_o2_e': 1000.0,\n",
       " 'EX_pi_e': 1000.0}"
      ]
     },
     "execution_count": 3,
     "metadata": {},
     "output_type": "execute_result"
    }
   ],
   "source": [
    "model.medium"
   ]
  },
  {
   "cell_type": "markdown",
   "metadata": {},
   "source": [
    "Put into a panda dataframe"
   ]
  },
  {
   "cell_type": "code",
   "execution_count": 4,
   "metadata": {},
   "outputs": [
    {
     "data": {
      "text/html": [
       "<div>\n",
       "<style scoped>\n",
       "    .dataframe tbody tr th:only-of-type {\n",
       "        vertical-align: middle;\n",
       "    }\n",
       "\n",
       "    .dataframe tbody tr th {\n",
       "        vertical-align: top;\n",
       "    }\n",
       "\n",
       "    .dataframe thead th {\n",
       "        text-align: right;\n",
       "    }\n",
       "</style>\n",
       "<table border=\"1\" class=\"dataframe\">\n",
       "  <thead>\n",
       "    <tr style=\"text-align: right;\">\n",
       "      <th></th>\n",
       "      <th>Exchange Reaction</th>\n",
       "      <th>Lower Bound</th>\n",
       "    </tr>\n",
       "  </thead>\n",
       "  <tbody>\n",
       "    <tr>\n",
       "      <th>0</th>\n",
       "      <td>EX_co2_e</td>\n",
       "      <td>1000.0</td>\n",
       "    </tr>\n",
       "    <tr>\n",
       "      <th>1</th>\n",
       "      <td>EX_glc__D_e</td>\n",
       "      <td>10.0</td>\n",
       "    </tr>\n",
       "    <tr>\n",
       "      <th>2</th>\n",
       "      <td>EX_h_e</td>\n",
       "      <td>1000.0</td>\n",
       "    </tr>\n",
       "    <tr>\n",
       "      <th>3</th>\n",
       "      <td>EX_h2o_e</td>\n",
       "      <td>1000.0</td>\n",
       "    </tr>\n",
       "    <tr>\n",
       "      <th>4</th>\n",
       "      <td>EX_nh4_e</td>\n",
       "      <td>1000.0</td>\n",
       "    </tr>\n",
       "    <tr>\n",
       "      <th>5</th>\n",
       "      <td>EX_o2_e</td>\n",
       "      <td>1000.0</td>\n",
       "    </tr>\n",
       "    <tr>\n",
       "      <th>6</th>\n",
       "      <td>EX_pi_e</td>\n",
       "      <td>1000.0</td>\n",
       "    </tr>\n",
       "  </tbody>\n",
       "</table>\n",
       "</div>"
      ],
      "text/plain": [
       "  Exchange Reaction  Lower Bound\n",
       "0          EX_co2_e       1000.0\n",
       "1       EX_glc__D_e         10.0\n",
       "2            EX_h_e       1000.0\n",
       "3          EX_h2o_e       1000.0\n",
       "4          EX_nh4_e       1000.0\n",
       "5           EX_o2_e       1000.0\n",
       "6           EX_pi_e       1000.0"
      ]
     },
     "execution_count": 4,
     "metadata": {},
     "output_type": "execute_result"
    }
   ],
   "source": [
    "open_exchanges = pd.DataFrame(list(model.medium.items()), columns = ['Exchange Reaction','Lower Bound'])\n",
    "open_exchanges"
   ]
  },
  {
   "cell_type": "markdown",
   "metadata": {},
   "source": [
    "If you want to block one of the open exchange reactions from allowing flux to enter the cell, you can do the following."
   ]
  },
  {
   "cell_type": "code",
   "execution_count": 5,
   "metadata": {},
   "outputs": [
    {
     "data": {
      "text/plain": [
       "{'EX_co2_e': 1000.0,\n",
       " 'EX_glc__D_e': 10.0,\n",
       " 'EX_h_e': 1000.0,\n",
       " 'EX_h2o_e': 1000.0,\n",
       " 'EX_nh4_e': 1000.0,\n",
       " 'EX_pi_e': 1000.0}"
      ]
     },
     "execution_count": 5,
     "metadata": {},
     "output_type": "execute_result"
    }
   ],
   "source": [
    "medium = model.medium\n",
    "medium[\"EX_o2_e\"] = 0.0\n",
    "model.medium = medium\n",
    "\n",
    "model.medium"
   ]
  },
  {
   "cell_type": "markdown",
   "metadata": {},
   "source": [
    "As we can see oxygen import is now removed from the list of active exchanges and we can verify that this also leads to a lower growth rate."
   ]
  },
  {
   "cell_type": "code",
   "execution_count": 6,
   "metadata": {},
   "outputs": [
    {
     "data": {
      "text/plain": [
       "0.21166294973531055"
      ]
     },
     "execution_count": 6,
     "metadata": {},
     "output_type": "execute_result"
    }
   ],
   "source": [
    "model.slim_optimize()"
   ]
  },
  {
   "cell_type": "markdown",
   "metadata": {},
   "source": [
    "There is a small trap here. model.medium can not be assigned to directly. So the following will not work:"
   ]
  },
  {
   "cell_type": "code",
   "execution_count": 7,
   "metadata": {},
   "outputs": [
    {
     "data": {
      "text/plain": [
       "{'EX_co2_e': 1000.0,\n",
       " 'EX_glc__D_e': 10.0,\n",
       " 'EX_h_e': 1000.0,\n",
       " 'EX_h2o_e': 1000.0,\n",
       " 'EX_nh4_e': 1000.0,\n",
       " 'EX_pi_e': 1000.0}"
      ]
     },
     "execution_count": 7,
     "metadata": {},
     "output_type": "execute_result"
    }
   ],
   "source": [
    "model.medium[\"EX_co2_e\"] = 0.0\n",
    "model.medium"
   ]
  },
  {
   "cell_type": "markdown",
   "metadata": {},
   "source": [
    "As you can see EX_co2_e is not set to zero. This is because model.medium is just a copy of the current exchange fluxes. Assigning to it directly with model.medium[..] = ... will not change the model. You have to assign an entire dictionary with the changed import flux upper bounds. It is always safer to use the traditional method shown below."
   ]
  },
  {
   "cell_type": "code",
   "execution_count": 8,
   "metadata": {},
   "outputs": [
    {
     "data": {
      "text/plain": [
       "{'EX_glc__D_e': 10.0,\n",
       " 'EX_h_e': 1000.0,\n",
       " 'EX_h2o_e': 1000.0,\n",
       " 'EX_nh4_e': 1000.0,\n",
       " 'EX_pi_e': 1000.0}"
      ]
     },
     "execution_count": 8,
     "metadata": {},
     "output_type": "execute_result"
    }
   ],
   "source": [
    "model.reactions.EX_co2_e.lower_bound = 0\n",
    "model.medium"
   ]
  },
  {
   "cell_type": "markdown",
   "metadata": {},
   "source": [
    "Setting the growth medium also connects to the context manager, so you can set a specific growth medium in a reversible manner."
   ]
  },
  {
   "cell_type": "code",
   "execution_count": 9,
   "metadata": {},
   "outputs": [
    {
     "name": "stdout",
     "output_type": "stream",
     "text": [
      "Read LP format model from file C:\\Users\\hinton\\AppData\\Local\\Temp\\tmpoauj4et5.lp\n",
      "Reading time = 0.01 seconds\n",
      ": 72 rows, 190 columns, 720 nonzeros\n",
      "0.21166294973531055\n",
      "0.8739215069684302\n"
     ]
    },
    {
     "data": {
      "text/plain": [
       "{'EX_co2_e': 1000.0,\n",
       " 'EX_glc__D_e': 10.0,\n",
       " 'EX_h_e': 1000.0,\n",
       " 'EX_h2o_e': 1000.0,\n",
       " 'EX_nh4_e': 1000.0,\n",
       " 'EX_o2_e': 1000.0,\n",
       " 'EX_pi_e': 1000.0}"
      ]
     },
     "execution_count": 9,
     "metadata": {},
     "output_type": "execute_result"
    }
   ],
   "source": [
    "model = model_orig.copy()\n",
    "\n",
    "with model:\n",
    "    medium = model.medium\n",
    "    medium[\"EX_o2_e\"] = 0.0\n",
    "    model.medium = medium\n",
    "    print(model.slim_optimize())\n",
    "print(model.slim_optimize())\n",
    "model.medium"
   ]
  },
  {
   "cell_type": "markdown",
   "metadata": {},
   "source": [
    "So the medium change is only applied within the with block and reverted automatically."
   ]
  },
  {
   "cell_type": "markdown",
   "metadata": {},
   "source": [
    "## Secretion\n",
    "\n",
    "Now let's look at the exchange reactions that will allow secretion into the extracellular space"
   ]
  },
  {
   "cell_type": "code",
   "execution_count": 10,
   "metadata": {},
   "outputs": [
    {
     "name": "stdout",
     "output_type": "stream",
     "text": [
      "Read LP format model from file C:\\Users\\hinton\\AppData\\Local\\Temp\\tmp9be9_lgb.lp\n",
      "Reading time = 0.01 seconds\n",
      ": 72 rows, 190 columns, 720 nonzeros\n"
     ]
    },
    {
     "data": {
      "text/html": [
       "<div>\n",
       "<style scoped>\n",
       "    .dataframe tbody tr th:only-of-type {\n",
       "        vertical-align: middle;\n",
       "    }\n",
       "\n",
       "    .dataframe tbody tr th {\n",
       "        vertical-align: top;\n",
       "    }\n",
       "\n",
       "    .dataframe thead th {\n",
       "        text-align: right;\n",
       "    }\n",
       "</style>\n",
       "<table border=\"1\" class=\"dataframe\">\n",
       "  <thead>\n",
       "    <tr style=\"text-align: right;\">\n",
       "      <th></th>\n",
       "      <th>Reaction ID</th>\n",
       "      <th>Reaction Name</th>\n",
       "      <th>Reaction Formula</th>\n",
       "      <th>Reaction Lower Bound</th>\n",
       "      <th>Reaction Upper Bound</th>\n",
       "    </tr>\n",
       "  </thead>\n",
       "  <tbody>\n",
       "    <tr>\n",
       "      <th>0</th>\n",
       "      <td>EX_ac_e</td>\n",
       "      <td>Acetate exchange</td>\n",
       "      <td>ac_e --&gt;</td>\n",
       "      <td>0.0</td>\n",
       "      <td>1000.0</td>\n",
       "    </tr>\n",
       "    <tr>\n",
       "      <th>1</th>\n",
       "      <td>EX_acald_e</td>\n",
       "      <td>Acetaldehyde exchange</td>\n",
       "      <td>acald_e --&gt;</td>\n",
       "      <td>0.0</td>\n",
       "      <td>1000.0</td>\n",
       "    </tr>\n",
       "    <tr>\n",
       "      <th>2</th>\n",
       "      <td>EX_akg_e</td>\n",
       "      <td>2-Oxoglutarate exchange</td>\n",
       "      <td>akg_e --&gt;</td>\n",
       "      <td>0.0</td>\n",
       "      <td>1000.0</td>\n",
       "    </tr>\n",
       "    <tr>\n",
       "      <th>3</th>\n",
       "      <td>EX_co2_e</td>\n",
       "      <td>CO2 exchange</td>\n",
       "      <td>co2_e &lt;=&gt;</td>\n",
       "      <td>-1000.0</td>\n",
       "      <td>1000.0</td>\n",
       "    </tr>\n",
       "    <tr>\n",
       "      <th>4</th>\n",
       "      <td>EX_etoh_e</td>\n",
       "      <td>Ethanol exchange</td>\n",
       "      <td>etoh_e --&gt;</td>\n",
       "      <td>0.0</td>\n",
       "      <td>1000.0</td>\n",
       "    </tr>\n",
       "    <tr>\n",
       "      <th>5</th>\n",
       "      <td>EX_for_e</td>\n",
       "      <td>Formate exchange</td>\n",
       "      <td>for_e --&gt;</td>\n",
       "      <td>0.0</td>\n",
       "      <td>1000.0</td>\n",
       "    </tr>\n",
       "    <tr>\n",
       "      <th>6</th>\n",
       "      <td>EX_fru_e</td>\n",
       "      <td>D-Fructose exchange</td>\n",
       "      <td>fru_e --&gt;</td>\n",
       "      <td>0.0</td>\n",
       "      <td>1000.0</td>\n",
       "    </tr>\n",
       "    <tr>\n",
       "      <th>7</th>\n",
       "      <td>EX_fum_e</td>\n",
       "      <td>Fumarate exchange</td>\n",
       "      <td>fum_e --&gt;</td>\n",
       "      <td>0.0</td>\n",
       "      <td>1000.0</td>\n",
       "    </tr>\n",
       "    <tr>\n",
       "      <th>8</th>\n",
       "      <td>EX_glc__D_e</td>\n",
       "      <td>D-Glucose exchange</td>\n",
       "      <td>glc__D_e &lt;=&gt;</td>\n",
       "      <td>-10.0</td>\n",
       "      <td>1000.0</td>\n",
       "    </tr>\n",
       "    <tr>\n",
       "      <th>9</th>\n",
       "      <td>EX_gln__L_e</td>\n",
       "      <td>L-Glutamine exchange</td>\n",
       "      <td>gln__L_e --&gt;</td>\n",
       "      <td>0.0</td>\n",
       "      <td>1000.0</td>\n",
       "    </tr>\n",
       "    <tr>\n",
       "      <th>10</th>\n",
       "      <td>EX_glu__L_e</td>\n",
       "      <td>L-Glutamate exchange</td>\n",
       "      <td>glu__L_e --&gt;</td>\n",
       "      <td>0.0</td>\n",
       "      <td>1000.0</td>\n",
       "    </tr>\n",
       "    <tr>\n",
       "      <th>11</th>\n",
       "      <td>EX_h_e</td>\n",
       "      <td>H+ exchange</td>\n",
       "      <td>h_e &lt;=&gt;</td>\n",
       "      <td>-1000.0</td>\n",
       "      <td>1000.0</td>\n",
       "    </tr>\n",
       "    <tr>\n",
       "      <th>12</th>\n",
       "      <td>EX_h2o_e</td>\n",
       "      <td>H2O exchange</td>\n",
       "      <td>h2o_e &lt;=&gt;</td>\n",
       "      <td>-1000.0</td>\n",
       "      <td>1000.0</td>\n",
       "    </tr>\n",
       "    <tr>\n",
       "      <th>13</th>\n",
       "      <td>EX_lac__D_e</td>\n",
       "      <td>D-lactate exchange</td>\n",
       "      <td>lac__D_e --&gt;</td>\n",
       "      <td>0.0</td>\n",
       "      <td>1000.0</td>\n",
       "    </tr>\n",
       "    <tr>\n",
       "      <th>14</th>\n",
       "      <td>EX_mal__L_e</td>\n",
       "      <td>L-Malate exchange</td>\n",
       "      <td>mal__L_e --&gt;</td>\n",
       "      <td>0.0</td>\n",
       "      <td>1000.0</td>\n",
       "    </tr>\n",
       "    <tr>\n",
       "      <th>15</th>\n",
       "      <td>EX_nh4_e</td>\n",
       "      <td>Ammonia exchange</td>\n",
       "      <td>nh4_e &lt;=&gt;</td>\n",
       "      <td>-1000.0</td>\n",
       "      <td>1000.0</td>\n",
       "    </tr>\n",
       "    <tr>\n",
       "      <th>16</th>\n",
       "      <td>EX_o2_e</td>\n",
       "      <td>O2 exchange</td>\n",
       "      <td>o2_e &lt;=&gt;</td>\n",
       "      <td>-1000.0</td>\n",
       "      <td>1000.0</td>\n",
       "    </tr>\n",
       "    <tr>\n",
       "      <th>17</th>\n",
       "      <td>EX_pi_e</td>\n",
       "      <td>Phosphate exchange</td>\n",
       "      <td>pi_e &lt;=&gt;</td>\n",
       "      <td>-1000.0</td>\n",
       "      <td>1000.0</td>\n",
       "    </tr>\n",
       "    <tr>\n",
       "      <th>18</th>\n",
       "      <td>EX_pyr_e</td>\n",
       "      <td>Pyruvate exchange</td>\n",
       "      <td>pyr_e --&gt;</td>\n",
       "      <td>0.0</td>\n",
       "      <td>1000.0</td>\n",
       "    </tr>\n",
       "    <tr>\n",
       "      <th>19</th>\n",
       "      <td>EX_succ_e</td>\n",
       "      <td>Succinate exchange</td>\n",
       "      <td>succ_e --&gt;</td>\n",
       "      <td>0.0</td>\n",
       "      <td>1000.0</td>\n",
       "    </tr>\n",
       "  </tbody>\n",
       "</table>\n",
       "</div>"
      ],
      "text/plain": [
       "    Reaction ID            Reaction Name Reaction Formula  \\\n",
       "0       EX_ac_e         Acetate exchange        ac_e -->    \n",
       "1    EX_acald_e    Acetaldehyde exchange     acald_e -->    \n",
       "2      EX_akg_e  2-Oxoglutarate exchange       akg_e -->    \n",
       "3      EX_co2_e             CO2 exchange       co2_e <=>    \n",
       "4     EX_etoh_e         Ethanol exchange      etoh_e -->    \n",
       "5      EX_for_e         Formate exchange       for_e -->    \n",
       "6      EX_fru_e      D-Fructose exchange       fru_e -->    \n",
       "7      EX_fum_e        Fumarate exchange       fum_e -->    \n",
       "8   EX_glc__D_e       D-Glucose exchange    glc__D_e <=>    \n",
       "9   EX_gln__L_e     L-Glutamine exchange    gln__L_e -->    \n",
       "10  EX_glu__L_e     L-Glutamate exchange    glu__L_e -->    \n",
       "11       EX_h_e              H+ exchange         h_e <=>    \n",
       "12     EX_h2o_e             H2O exchange       h2o_e <=>    \n",
       "13  EX_lac__D_e       D-lactate exchange    lac__D_e -->    \n",
       "14  EX_mal__L_e        L-Malate exchange    mal__L_e -->    \n",
       "15     EX_nh4_e         Ammonia exchange       nh4_e <=>    \n",
       "16      EX_o2_e              O2 exchange        o2_e <=>    \n",
       "17      EX_pi_e       Phosphate exchange        pi_e <=>    \n",
       "18     EX_pyr_e        Pyruvate exchange       pyr_e -->    \n",
       "19    EX_succ_e       Succinate exchange      succ_e -->    \n",
       "\n",
       "    Reaction Lower Bound  Reaction Upper Bound  \n",
       "0                    0.0                1000.0  \n",
       "1                    0.0                1000.0  \n",
       "2                    0.0                1000.0  \n",
       "3                -1000.0                1000.0  \n",
       "4                    0.0                1000.0  \n",
       "5                    0.0                1000.0  \n",
       "6                    0.0                1000.0  \n",
       "7                    0.0                1000.0  \n",
       "8                  -10.0                1000.0  \n",
       "9                    0.0                1000.0  \n",
       "10                   0.0                1000.0  \n",
       "11               -1000.0                1000.0  \n",
       "12               -1000.0                1000.0  \n",
       "13                   0.0                1000.0  \n",
       "14                   0.0                1000.0  \n",
       "15               -1000.0                1000.0  \n",
       "16               -1000.0                1000.0  \n",
       "17               -1000.0                1000.0  \n",
       "18                   0.0                1000.0  \n",
       "19                   0.0                1000.0  "
      ]
     },
     "execution_count": 10,
     "metadata": {},
     "output_type": "execute_result"
    }
   ],
   "source": [
    "model = model_orig.copy()\n",
    "secreting_exchanges = exchange_df[exchange_df['Reaction Upper Bound'] != 0] # removing reactions with upper bound equal to zero\n",
    "secreting_exchanges = secreting_exchanges.reset_index(drop=True) # renumbering the index\n",
    "secreting_exchanges"
   ]
  },
  {
   "cell_type": "markdown",
   "metadata": {},
   "source": [
    "## Minimal Media\n",
    "\n",
    "There are times when the smallest growth medium that can maintain a specific growth rate is needed, the so called \"minimal medium\". For this the function *minimal_medium* which by default obtains the medium with the lowest total import flux. This function needs two arguments: the model and the minimum growth rate (or other objective) the model has to achieve."
   ]
  },
  {
   "cell_type": "code",
   "execution_count": 11,
   "metadata": {},
   "outputs": [
    {
     "data": {
      "text/plain": [
       "EX_glc__D_e    10.000000\n",
       "EX_nh4_e        4.765319\n",
       "EX_o2_e        21.799493\n",
       "EX_pi_e         3.214895\n",
       "dtype: float64"
      ]
     },
     "execution_count": 11,
     "metadata": {},
     "output_type": "execute_result"
    }
   ],
   "source": [
    "from cobra.medium import minimal_medium\n",
    "\n",
    "max_growth = model.slim_optimize()\n",
    "minimal_medium(model, max_growth)"
   ]
  },
  {
   "cell_type": "markdown",
   "metadata": {},
   "source": [
    "In this case the growth is limited by the glucose import.\n",
    "\n",
    "Alternatively, a minimal medium with the smallest number of active imports is required. This can be achieved by using the *minimize_components* argument (this uses a MIP formulation and will therefore be much slower). The second argument of the method is the minimum value of the objective value that will be allowed. In the following case growth, the objective function, has to be greater that 0.1."
   ]
  },
  {
   "cell_type": "code",
   "execution_count": 12,
   "metadata": {},
   "outputs": [
    {
     "data": {
      "text/plain": [
       "EX_glc__D_e    6.874849\n",
       "EX_nh4_e       0.545280\n",
       "EX_pi_e        0.367870\n",
       "dtype: float64"
      ]
     },
     "execution_count": 12,
     "metadata": {},
     "output_type": "execute_result"
    }
   ],
   "source": [
    "minimal_medium(model, 0.1, minimize_components=True)"
   ]
  },
  {
   "cell_type": "markdown",
   "metadata": {},
   "source": [
    "When minimizing the number of import fluxes there may be many alternative solutions. To obtain several of those you can also pass a positive integer to *minimize_components* which will give you at most that many alternative solutions. Let us try that with our model and also use the *open_exchanges* argument which will assign a large upper bound to all import reactions in the model. The return type will be a pandas.DataFrame."
   ]
  },
  {
   "cell_type": "code",
   "execution_count": 13,
   "metadata": {},
   "outputs": [
    {
     "data": {
      "text/html": [
       "<div>\n",
       "<style scoped>\n",
       "    .dataframe tbody tr th:only-of-type {\n",
       "        vertical-align: middle;\n",
       "    }\n",
       "\n",
       "    .dataframe tbody tr th {\n",
       "        vertical-align: top;\n",
       "    }\n",
       "\n",
       "    .dataframe thead th {\n",
       "        text-align: right;\n",
       "    }\n",
       "</style>\n",
       "<table border=\"1\" class=\"dataframe\">\n",
       "  <thead>\n",
       "    <tr style=\"text-align: right;\">\n",
       "      <th></th>\n",
       "      <th>0</th>\n",
       "      <th>1</th>\n",
       "      <th>2</th>\n",
       "      <th>3</th>\n",
       "      <th>4</th>\n",
       "      <th>5</th>\n",
       "    </tr>\n",
       "  </thead>\n",
       "  <tbody>\n",
       "    <tr>\n",
       "      <th>EX_fru_e</th>\n",
       "      <td>38.12664</td>\n",
       "      <td>0.00000</td>\n",
       "      <td>0.000000</td>\n",
       "      <td>496.362947</td>\n",
       "      <td>0.000000</td>\n",
       "      <td>0.00000</td>\n",
       "    </tr>\n",
       "    <tr>\n",
       "      <th>EX_glc__D_e</th>\n",
       "      <td>0.00000</td>\n",
       "      <td>496.83904</td>\n",
       "      <td>30.293984</td>\n",
       "      <td>0.000000</td>\n",
       "      <td>0.000000</td>\n",
       "      <td>0.00000</td>\n",
       "    </tr>\n",
       "    <tr>\n",
       "      <th>EX_gln__L_e</th>\n",
       "      <td>2.18112</td>\n",
       "      <td>2.18112</td>\n",
       "      <td>0.000000</td>\n",
       "      <td>0.000000</td>\n",
       "      <td>0.000000</td>\n",
       "      <td>0.00000</td>\n",
       "    </tr>\n",
       "    <tr>\n",
       "      <th>EX_glu__L_e</th>\n",
       "      <td>0.00000</td>\n",
       "      <td>0.00000</td>\n",
       "      <td>6.108400</td>\n",
       "      <td>0.000000</td>\n",
       "      <td>23.468185</td>\n",
       "      <td>496.52308</td>\n",
       "    </tr>\n",
       "    <tr>\n",
       "      <th>EX_mal__L_e</th>\n",
       "      <td>0.00000</td>\n",
       "      <td>0.00000</td>\n",
       "      <td>0.000000</td>\n",
       "      <td>0.000000</td>\n",
       "      <td>1000.000000</td>\n",
       "      <td>0.00000</td>\n",
       "    </tr>\n",
       "    <tr>\n",
       "      <th>EX_nh4_e</th>\n",
       "      <td>0.00000</td>\n",
       "      <td>0.00000</td>\n",
       "      <td>0.000000</td>\n",
       "      <td>4.362240</td>\n",
       "      <td>0.000000</td>\n",
       "      <td>0.00000</td>\n",
       "    </tr>\n",
       "    <tr>\n",
       "      <th>EX_o2_e</th>\n",
       "      <td>0.00000</td>\n",
       "      <td>0.00000</td>\n",
       "      <td>0.000000</td>\n",
       "      <td>0.000000</td>\n",
       "      <td>0.000000</td>\n",
       "      <td>500.00000</td>\n",
       "    </tr>\n",
       "    <tr>\n",
       "      <th>EX_pi_e</th>\n",
       "      <td>2.94296</td>\n",
       "      <td>2.94296</td>\n",
       "      <td>2.942960</td>\n",
       "      <td>2.942960</td>\n",
       "      <td>15.667461</td>\n",
       "      <td>2.94296</td>\n",
       "    </tr>\n",
       "  </tbody>\n",
       "</table>\n",
       "</div>"
      ],
      "text/plain": [
       "                    0          1          2           3            4  \\\n",
       "EX_fru_e     38.12664    0.00000   0.000000  496.362947     0.000000   \n",
       "EX_glc__D_e   0.00000  496.83904  30.293984    0.000000     0.000000   \n",
       "EX_gln__L_e   2.18112    2.18112   0.000000    0.000000     0.000000   \n",
       "EX_glu__L_e   0.00000    0.00000   6.108400    0.000000    23.468185   \n",
       "EX_mal__L_e   0.00000    0.00000   0.000000    0.000000  1000.000000   \n",
       "EX_nh4_e      0.00000    0.00000   0.000000    4.362240     0.000000   \n",
       "EX_o2_e       0.00000    0.00000   0.000000    0.000000     0.000000   \n",
       "EX_pi_e       2.94296    2.94296   2.942960    2.942960    15.667461   \n",
       "\n",
       "                     5  \n",
       "EX_fru_e       0.00000  \n",
       "EX_glc__D_e    0.00000  \n",
       "EX_gln__L_e    0.00000  \n",
       "EX_glu__L_e  496.52308  \n",
       "EX_mal__L_e    0.00000  \n",
       "EX_nh4_e       0.00000  \n",
       "EX_o2_e      500.00000  \n",
       "EX_pi_e        2.94296  "
      ]
     },
     "execution_count": 13,
     "metadata": {},
     "output_type": "execute_result"
    }
   ],
   "source": [
    "minimal_medium(model, 0.8, minimize_components=8, open_exchanges=True)"
   ]
  },
  {
   "cell_type": "markdown",
   "metadata": {},
   "source": [
    "So there are 6 alternative solutions in total. One aerobic and five anaerobic solutions using different carbon sources."
   ]
  },
  {
   "cell_type": "code",
   "execution_count": null,
   "metadata": {},
   "outputs": [],
   "source": []
  }
 ],
 "metadata": {
  "kernelspec": {
   "display_name": "Python 3 (ipykernel)",
   "language": "python",
   "name": "python3"
  },
  "language_info": {
   "codemirror_mode": {
    "name": "ipython",
    "version": 3
   },
   "file_extension": ".py",
   "mimetype": "text/x-python",
   "name": "python",
   "nbconvert_exporter": "python",
   "pygments_lexer": "ipython3",
   "version": "3.8.12"
  }
 },
 "nbformat": 4,
 "nbformat_minor": 2
}
