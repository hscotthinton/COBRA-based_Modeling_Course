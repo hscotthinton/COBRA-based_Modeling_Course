{
 "cells": [
  {
   "cell_type": "markdown",
   "id": "428b61ce",
   "metadata": {},
   "source": [
    "# Escher Introduction"
   ]
  },
  {
   "cell_type": "markdown",
   "id": "f70bd5f9",
   "metadata": {},
   "source": [
    "Load the Escher COBRApy package"
   ]
  },
  {
   "cell_type": "code",
   "execution_count": 1,
   "id": "204fcda3",
   "metadata": {},
   "outputs": [],
   "source": [
    "import cobra\n",
    "import escher\n",
    "from escher import Builder"
   ]
  },
  {
   "cell_type": "markdown",
   "id": "88fc1c44",
   "metadata": {},
   "source": [
    "## Default Models\n",
    "\n",
    "Load a model and an Escher map. The standard models available from Escher include"
   ]
  },
  {
   "cell_type": "code",
   "execution_count": 2,
   "id": "89652e6d",
   "metadata": {},
   "outputs": [
    {
     "data": {
      "text/plain": [
       "[{'organism': 'Saccharomyces cerevisiae', 'model_name': 'iMM904'},\n",
       " {'organism': 'Homo sapiens', 'model_name': 'RECON1'},\n",
       " {'organism': 'Escherichia coli', 'model_name': 'e_coli_core'},\n",
       " {'organism': 'Escherichia coli', 'model_name': 'iJO1366'}]"
      ]
     },
     "execution_count": 2,
     "metadata": {},
     "output_type": "execute_result"
    }
   ],
   "source": [
    "escher.list_available_models()"
   ]
  },
  {
   "cell_type": "markdown",
   "id": "a84540ab",
   "metadata": {},
   "source": [
    "Other models can be used but that will be discussed in a later tutorial. The Escher maps available from Escher are list below."
   ]
  },
  {
   "cell_type": "code",
   "execution_count": 3,
   "id": "7b3d3fad",
   "metadata": {},
   "outputs": [
    {
     "data": {
      "text/plain": [
       "[{'organism': 'Saccharomyces cerevisiae',\n",
       "  'map_name': 'iMM904.Central carbon metabolism'},\n",
       " {'organism': 'Homo sapiens',\n",
       "  'map_name': 'RECON1.Inositol retinol metabolism'},\n",
       " {'organism': 'Homo sapiens', 'map_name': 'RECON1.Glycolysis TCA PPP'},\n",
       " {'organism': 'Homo sapiens', 'map_name': 'RECON1.Tryptophan metabolism'},\n",
       " {'organism': 'Homo sapiens', 'map_name': 'RECON1.Carbohydrate metabolism'},\n",
       " {'organism': 'Homo sapiens',\n",
       "  'map_name': 'RECON1.Amino acid metabolism (partial)'},\n",
       " {'organism': 'Escherichia coli', 'map_name': 'iJO1366.Nucleotide metabolism'},\n",
       " {'organism': 'Escherichia coli',\n",
       "  'map_name': 'iJO1366.Fatty acid biosynthesis (saturated)'},\n",
       " {'organism': 'Escherichia coli',\n",
       "  'map_name': 'iJO1366.Nucleotide and histidine biosynthesis'},\n",
       " {'organism': 'Escherichia coli', 'map_name': 'e_coli_core.Core metabolism'},\n",
       " {'organism': 'Escherichia coli', 'map_name': 'iJO1366.Central metabolism'},\n",
       " {'organism': 'Escherichia coli',\n",
       "  'map_name': 'iJO1366.Fatty acid beta-oxidation'}]"
      ]
     },
     "execution_count": 3,
     "metadata": {},
     "output_type": "execute_result"
    }
   ],
   "source": [
    "escher.list_available_maps()"
   ]
  },
  {
   "cell_type": "markdown",
   "id": "0400ab47",
   "metadata": {},
   "source": [
    "Downloading the *E.coli* core map and model into the Jupyter widget \"builder\""
   ]
  },
  {
   "cell_type": "code",
   "execution_count": 4,
   "id": "41eaf43a",
   "metadata": {},
   "outputs": [
    {
     "name": "stdout",
     "output_type": "stream",
     "text": [
      "Downloading Map from https://escher.github.io/1-0-0/6/maps/Escherichia%20coli/e_coli_core.Core%20metabolism.json\n",
      "Downloading Model from https://escher.github.io/1-0-0/6/models/Escherichia%20coli/e_coli_core.json\n"
     ]
    }
   ],
   "source": [
    "builder = Builder(\n",
    "    map_name='e_coli_core.Core metabolism',\n",
    "    model_name='e_coli_core',\n",
    ")"
   ]
  },
  {
   "cell_type": "code",
   "execution_count": 5,
   "id": "35483eb1",
   "metadata": {},
   "outputs": [
    {
     "data": {
      "application/vnd.jupyter.widget-view+json": {
       "model_id": "b4700c5d5fa64e2e8844213a54740273",
       "version_major": 2,
       "version_minor": 0
      },
      "text/plain": [
       "Builder()"
      ]
     },
     "metadata": {},
     "output_type": "display_data"
    }
   ],
   "source": [
    "builder"
   ]
  },
  {
   "cell_type": "markdown",
   "id": "c10a8444",
   "metadata": {},
   "source": [
    "Download the map and model for the iJO1366 central metabolism"
   ]
  },
  {
   "cell_type": "code",
   "execution_count": 6,
   "id": "7b5b0e8d",
   "metadata": {},
   "outputs": [
    {
     "name": "stdout",
     "output_type": "stream",
     "text": [
      "Downloading Map from https://escher.github.io/1-0-0/6/maps/Escherichia%20coli/iJO1366.Central%20metabolism.json\n",
      "Downloading Model from https://escher.github.io/1-0-0/6/models/Escherichia%20coli/iJO1366.json\n"
     ]
    },
    {
     "data": {
      "application/vnd.jupyter.widget-view+json": {
       "model_id": "f46bef8486e94ce1a6fa8ffd4c082a83",
       "version_major": 2,
       "version_minor": 0
      },
      "text/plain": [
       "Builder()"
      ]
     },
     "metadata": {},
     "output_type": "display_data"
    }
   ],
   "source": [
    "builder = Builder(\n",
    "    map_name='iJO1366.Central metabolism',\n",
    "    model_name='iJO1366',\n",
    ")\n",
    "builder"
   ]
  },
  {
   "cell_type": "markdown",
   "id": "7a39b32c",
   "metadata": {},
   "source": [
    "Download the map and model for the ''Saccharomyces cerevisiae (iMM904)' central metabolism"
   ]
  },
  {
   "cell_type": "code",
   "execution_count": 7,
   "id": "d8f9caf4",
   "metadata": {},
   "outputs": [
    {
     "name": "stdout",
     "output_type": "stream",
     "text": [
      "Downloading Map from https://escher.github.io/1-0-0/6/maps/Saccharomyces%20cerevisiae/iMM904.Central%20carbon%20metabolism.json\n",
      "Downloading Model from https://escher.github.io/1-0-0/6/models/Saccharomyces%20cerevisiae/iMM904.json\n"
     ]
    },
    {
     "data": {
      "application/vnd.jupyter.widget-view+json": {
       "model_id": "fbbbdc4cb4c5413eaa7a092a367f7661",
       "version_major": 2,
       "version_minor": 0
      },
      "text/plain": [
       "Builder()"
      ]
     },
     "metadata": {},
     "output_type": "display_data"
    }
   ],
   "source": [
    "builder = Builder(\n",
    "    map_name='iMM904.Central carbon metabolism',\n",
    "    model_name='iMM904',\n",
    ")\n",
    "builder"
   ]
  },
  {
   "cell_type": "markdown",
   "id": "f234d394",
   "metadata": {},
   "source": [
    "Download the map and model for the 'RECON1.Carbohydrate metabolism' central metabolism"
   ]
  },
  {
   "cell_type": "code",
   "execution_count": 8,
   "id": "77ffce98",
   "metadata": {},
   "outputs": [
    {
     "name": "stdout",
     "output_type": "stream",
     "text": [
      "Downloading Map from https://escher.github.io/1-0-0/6/maps/Homo%20sapiens/RECON1.Carbohydrate%20metabolism.json\n",
      "Downloading Model from https://escher.github.io/1-0-0/6/models/Homo%20sapiens/RECON1.json\n"
     ]
    },
    {
     "data": {
      "application/vnd.jupyter.widget-view+json": {
       "model_id": "58d74cb85f824db78d70df6b2ec55588",
       "version_major": 2,
       "version_minor": 0
      },
      "text/plain": [
       "Builder()"
      ]
     },
     "metadata": {},
     "output_type": "display_data"
    }
   ],
   "source": [
    "builder = Builder(\n",
    "    map_name='RECON1.Carbohydrate metabolism',\n",
    "    model_name='RECON1',\n",
    ")\n",
    "builder"
   ]
  },
  {
   "cell_type": "markdown",
   "id": "03ddb974",
   "metadata": {},
   "source": [
    "## External Models\n",
    "\n",
    "Loading a json model and map that are not part of the Escher package"
   ]
  },
  {
   "cell_type": "code",
   "execution_count": 9,
   "id": "b6275491",
   "metadata": {},
   "outputs": [
    {
     "data": {
      "application/vnd.jupyter.widget-view+json": {
       "model_id": "912999bb5d4443a69e26f0c1bf40f5e7",
       "version_major": 2,
       "version_minor": 0
      },
      "text/plain": [
       "Builder()"
      ]
     },
     "metadata": {},
     "output_type": "display_data"
    }
   ],
   "source": [
    "builder = Builder( model_json='iAB_RBC_283.json')\n",
    "builder.map_json = 'iAB_RBC_283.metabolism.json' # File needs to be in the current directory\n",
    "builder"
   ]
  },
  {
   "cell_type": "code",
   "execution_count": 10,
   "id": "16ce33fe",
   "metadata": {},
   "outputs": [
    {
     "name": "stdout",
     "output_type": "stream",
     "text": [
      "Using license file c:\\gurobi910\\gurobi.lic\n",
      "Academic license - for non-commercial use only - expires 2022-11-21\n"
     ]
    }
   ],
   "source": [
    "from cobrapy_bigg_client import client\n",
    "model = client.download_model('iAB_RBC_283', save=False) # Loading the model to the simulation\n",
    "solution = model.optimize()\n",
    "builder.reaction_data = solution.fluxes"
   ]
  },
  {
   "cell_type": "code",
   "execution_count": null,
   "id": "fb85d7a5",
   "metadata": {},
   "outputs": [],
   "source": []
  }
 ],
 "metadata": {
  "kernelspec": {
   "display_name": "Python 3 (ipykernel)",
   "language": "python",
   "name": "python3"
  },
  "language_info": {
   "codemirror_mode": {
    "name": "ipython",
    "version": 3
   },
   "file_extension": ".py",
   "mimetype": "text/x-python",
   "name": "python",
   "nbconvert_exporter": "python",
   "pygments_lexer": "ipython3",
   "version": "3.8.12"
  }
 },
 "nbformat": 4,
 "nbformat_minor": 5
}
