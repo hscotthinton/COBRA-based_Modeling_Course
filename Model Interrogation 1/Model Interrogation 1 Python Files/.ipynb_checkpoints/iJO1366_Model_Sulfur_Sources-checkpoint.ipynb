{
 "cells": [
  {
   "cell_type": "markdown",
   "id": "deee27e7",
   "metadata": {},
   "source": [
    "# Sulfur Sources in the iJO1366 Core Model"
   ]
  },
  {
   "cell_type": "code",
   "execution_count": 1,
   "id": "2550cb96",
   "metadata": {},
   "outputs": [
    {
     "name": "stdout",
     "output_type": "stream",
     "text": [
      "Scaling...\n",
      " A: min|aij| =  1.000e+00  max|aij| =  1.000e+00  ratio =  1.000e+00\n",
      "Problem data seem to be well scaled\n"
     ]
    }
   ],
   "source": [
    "import cobra.test\n",
    "from cobra.test import create_test_model\n",
    "import escher\n",
    "from escher import Builder\n",
    "import numpy as np\n",
    "import pandas as pd\n",
    "from cobrapy_bigg_client import client\n",
    "pd.set_option('display.max_rows', None)\n",
    "pd.set_option('display.max_columns', 200)\n",
    "\n",
    "model_orig = client.download_model('iJO1366', save=False) # Download model from the BIGG database"
   ]
  },
  {
   "cell_type": "markdown",
   "id": "1ea11c73",
   "metadata": {},
   "source": [
    "## Exchange Reactions (Potential Sulfur Sources) that Allow Aerobic Growth\n",
    "\n",
    "Find the exchange reactions that allow growth in an aerobic environment."
   ]
  },
  {
   "cell_type": "code",
   "execution_count": 2,
   "id": "9d8147a6",
   "metadata": {},
   "outputs": [],
   "source": [
    "model = model_orig.copy()\n",
    "exchange_ids = []\n",
    "growth_rate = []\n",
    "exchange_ids = [r.id for r in model.exchanges]\n",
    "model.reactions.EX_o2_e.lower_bound = -1000\n",
    "model.reactions.EX_so4_e.lower_bound = -0\n",
    "for i in range(len(exchange_ids)):\n",
    "    temp = model.reactions.get_by_id(exchange_ids[i]).lower_bound \n",
    "    model.reactions.get_by_id(exchange_ids[i]).lower_bound = -20\n",
    "    x = model.slim_optimize()\n",
    "    growth_rate.append(x)\n",
    "    model.reactions.get_by_id(exchange_ids[i]).lower_bound = temp"
   ]
  },
  {
   "cell_type": "code",
   "execution_count": 3,
   "id": "203b42fc",
   "metadata": {},
   "outputs": [
    {
     "data": {
      "text/html": [
       "<div>\n",
       "<style scoped>\n",
       "    .dataframe tbody tr th:only-of-type {\n",
       "        vertical-align: middle;\n",
       "    }\n",
       "\n",
       "    .dataframe tbody tr th {\n",
       "        vertical-align: top;\n",
       "    }\n",
       "\n",
       "    .dataframe thead th {\n",
       "        text-align: right;\n",
       "    }\n",
       "</style>\n",
       "<table border=\"1\" class=\"dataframe\">\n",
       "  <thead>\n",
       "    <tr style=\"text-align: right;\">\n",
       "      <th></th>\n",
       "      <th>Exchange Reaction</th>\n",
       "      <th>Aerobic Growth Rate</th>\n",
       "    </tr>\n",
       "  </thead>\n",
       "  <tbody>\n",
       "    <tr>\n",
       "      <th>0</th>\n",
       "      <td>EX_gthrd_e</td>\n",
       "      <td>3.6986</td>\n",
       "    </tr>\n",
       "    <tr>\n",
       "      <th>1</th>\n",
       "      <td>EX_isetac_e</td>\n",
       "      <td>0.9920</td>\n",
       "    </tr>\n",
       "    <tr>\n",
       "      <th>2</th>\n",
       "      <td>EX_cys__D_e</td>\n",
       "      <td>1.7017</td>\n",
       "    </tr>\n",
       "    <tr>\n",
       "      <th>3</th>\n",
       "      <td>EX_cys__L_e</td>\n",
       "      <td>1.7062</td>\n",
       "    </tr>\n",
       "    <tr>\n",
       "      <th>4</th>\n",
       "      <td>EX_mso3_e</td>\n",
       "      <td>0.9877</td>\n",
       "    </tr>\n",
       "    <tr>\n",
       "      <th>5</th>\n",
       "      <td>EX_butso3_e</td>\n",
       "      <td>1.6336</td>\n",
       "    </tr>\n",
       "    <tr>\n",
       "      <th>6</th>\n",
       "      <td>EX_cgly_e</td>\n",
       "      <td>2.2061</td>\n",
       "    </tr>\n",
       "    <tr>\n",
       "      <th>7</th>\n",
       "      <td>EX_so4_e</td>\n",
       "      <td>0.9824</td>\n",
       "    </tr>\n",
       "    <tr>\n",
       "      <th>8</th>\n",
       "      <td>EX_sulfac_e</td>\n",
       "      <td>0.9894</td>\n",
       "    </tr>\n",
       "    <tr>\n",
       "      <th>9</th>\n",
       "      <td>EX_taur_e</td>\n",
       "      <td>0.9835</td>\n",
       "    </tr>\n",
       "    <tr>\n",
       "      <th>10</th>\n",
       "      <td>EX_ethso3_e</td>\n",
       "      <td>1.0459</td>\n",
       "    </tr>\n",
       "  </tbody>\n",
       "</table>\n",
       "</div>"
      ],
      "text/plain": [
       "   Exchange Reaction  Aerobic Growth Rate\n",
       "0         EX_gthrd_e               3.6986\n",
       "1        EX_isetac_e               0.9920\n",
       "2        EX_cys__D_e               1.7017\n",
       "3        EX_cys__L_e               1.7062\n",
       "4          EX_mso3_e               0.9877\n",
       "5        EX_butso3_e               1.6336\n",
       "6          EX_cgly_e               2.2061\n",
       "7           EX_so4_e               0.9824\n",
       "8        EX_sulfac_e               0.9894\n",
       "9          EX_taur_e               0.9835\n",
       "10       EX_ethso3_e               1.0459"
      ]
     },
     "execution_count": 3,
     "metadata": {},
     "output_type": "execute_result"
    }
   ],
   "source": [
    "Aerobic_sulfur_growth_rate = {'Exchange Reaction': exchange_ids,\n",
    "                     'Aerobic Growth Rate': growth_rate}\n",
    "Aerobic_df = pd.DataFrame(Aerobic_sulfur_growth_rate, columns = ['Exchange Reaction','Aerobic Growth Rate'])\n",
    "df1 = Aerobic_df\n",
    "df1 = df1.round(4) # Round to 4 digits\n",
    "df1 = df1.replace(0, np.nan) # Replace zeros with NaN\n",
    "df1 = df1.dropna() # Remove rows with NaN values\n",
    "df1 = df1.reset_index(drop=True)\n",
    "df1"
   ]
  },
  {
   "cell_type": "markdown",
   "id": "a53543d1",
   "metadata": {},
   "source": [
    "The total number of metabolites (exhange reactions) that can grow in aerobic conditions"
   ]
  },
  {
   "cell_type": "code",
   "execution_count": 4,
   "id": "d9153374",
   "metadata": {},
   "outputs": [
    {
     "name": "stdout",
     "output_type": "stream",
     "text": [
      "<class 'pandas.core.frame.DataFrame'>\n",
      "RangeIndex: 11 entries, 0 to 10\n",
      "Data columns (total 2 columns):\n",
      " #   Column               Non-Null Count  Dtype  \n",
      "---  ------               --------------  -----  \n",
      " 0   Exchange Reaction    11 non-null     object \n",
      " 1   Aerobic Growth Rate  11 non-null     float64\n",
      "dtypes: float64(1), object(1)\n",
      "memory usage: 304.0+ bytes\n"
     ]
    }
   ],
   "source": [
    "df1.info()"
   ]
  },
  {
   "cell_type": "markdown",
   "id": "cfc57fcb",
   "metadata": {},
   "source": [
    "A histogram of the aerobic growth rates from the different exchange reactions"
   ]
  },
  {
   "cell_type": "code",
   "execution_count": 5,
   "id": "f13b9eff",
   "metadata": {},
   "outputs": [
    {
     "data": {
      "text/plain": [
       "array([[<AxesSubplot:title={'center':'Aerobic Growth Rate'}>]],\n",
       "      dtype=object)"
      ]
     },
     "execution_count": 5,
     "metadata": {},
     "output_type": "execute_result"
    },
    {
     "data": {
      "image/png": "[encoded data removed]",
      "text/plain": [
       "<Figure size 432x288 with 1 Axes>"
      ]
     },
     "metadata": {
      "needs_background": "light"
     },
     "output_type": "display_data"
    }
   ],
   "source": [
    "df1.hist(bins=100)"
   ]
  },
  {
   "cell_type": "markdown",
   "id": "bba73ed1",
   "metadata": {},
   "source": [
    "## Exchange Reactions (Potential Sulfur Sources) that Allow Anaerobic Growth\n",
    "\n",
    "Find the exchange reactions that allow growth in an anaerobic environment."
   ]
  },
  {
   "cell_type": "code",
   "execution_count": 6,
   "id": "61e66241",
   "metadata": {},
   "outputs": [],
   "source": [
    "model = model_orig.copy()\n",
    "exchange_ids = []\n",
    "growth_rate = []\n",
    "exchange_ids = [r.id for r in model.exchanges]\n",
    "model.reactions.EX_o2_e.lower_bound = 0\n",
    "model.reactions.EX_so4_e.lower_bound = -0\n",
    "for i in range(len(exchange_ids)):\n",
    "    temp = model.reactions.get_by_id(exchange_ids[i]).lower_bound \n",
    "    model.reactions.get_by_id(exchange_ids[i]).lower_bound = -20\n",
    "    x = model.slim_optimize()\n",
    "    growth_rate.append(x)\n",
    "    model.reactions.get_by_id(exchange_ids[i]).lower_bound = temp"
   ]
  },
  {
   "cell_type": "code",
   "execution_count": 7,
   "id": "00667e77",
   "metadata": {},
   "outputs": [
    {
     "data": {
      "text/html": [
       "<div>\n",
       "<style scoped>\n",
       "    .dataframe tbody tr th:only-of-type {\n",
       "        vertical-align: middle;\n",
       "    }\n",
       "\n",
       "    .dataframe tbody tr th {\n",
       "        vertical-align: top;\n",
       "    }\n",
       "\n",
       "    .dataframe thead th {\n",
       "        text-align: right;\n",
       "    }\n",
       "</style>\n",
       "<table border=\"1\" class=\"dataframe\">\n",
       "  <thead>\n",
       "    <tr style=\"text-align: right;\">\n",
       "      <th></th>\n",
       "      <th>Exchange Reaction</th>\n",
       "      <th>Anaerobic Growth Rate</th>\n",
       "    </tr>\n",
       "  </thead>\n",
       "  <tbody>\n",
       "    <tr>\n",
       "      <th>0</th>\n",
       "      <td>EX_so4_e</td>\n",
       "      <td>0.2415</td>\n",
       "    </tr>\n",
       "  </tbody>\n",
       "</table>\n",
       "</div>"
      ],
      "text/plain": [
       "  Exchange Reaction  Anaerobic Growth Rate\n",
       "0          EX_so4_e                 0.2415"
      ]
     },
     "execution_count": 7,
     "metadata": {},
     "output_type": "execute_result"
    }
   ],
   "source": [
    "Anaerobic_sulfur_growth_rate = {'Exchange Reaction': exchange_ids,\n",
    "                     'Anaerobic Growth Rate': growth_rate}\n",
    "Anaerobic_df = pd.DataFrame(Anaerobic_sulfur_growth_rate, columns = ['Exchange Reaction','Anaerobic Growth Rate'])\n",
    "df2 = Anaerobic_df\n",
    "df2 = df2.round(4) # Round to 4 digits\n",
    "df2 = df2.replace(0, np.nan) # Replace zero with NaN\n",
    "df2 = df2.dropna() # Remove rows with NaN\n",
    "df2 = df2.reset_index(drop=True)\n",
    "df2"
   ]
  },
  {
   "cell_type": "markdown",
   "id": "a3e012b9",
   "metadata": {},
   "source": [
    "The total number of metabolites (exhange reactions) that can grow in anaerobic conditions"
   ]
  },
  {
   "cell_type": "code",
   "execution_count": 8,
   "id": "91e1088a",
   "metadata": {},
   "outputs": [
    {
     "name": "stdout",
     "output_type": "stream",
     "text": [
      "<class 'pandas.core.frame.DataFrame'>\n",
      "RangeIndex: 1 entries, 0 to 0\n",
      "Data columns (total 2 columns):\n",
      " #   Column                 Non-Null Count  Dtype  \n",
      "---  ------                 --------------  -----  \n",
      " 0   Exchange Reaction      1 non-null      object \n",
      " 1   Anaerobic Growth Rate  1 non-null      float64\n",
      "dtypes: float64(1), object(1)\n",
      "memory usage: 144.0+ bytes\n"
     ]
    }
   ],
   "source": [
    "df2.info()"
   ]
  },
  {
   "cell_type": "markdown",
   "id": "b9db20ea",
   "metadata": {},
   "source": [
    "A histogram of the anaerobic growth rates from the different exchange reactions"
   ]
  },
  {
   "cell_type": "code",
   "execution_count": 9,
   "id": "0e7ce4c1",
   "metadata": {},
   "outputs": [
    {
     "data": {
      "text/plain": [
       "array([[<AxesSubplot:title={'center':'Anaerobic Growth Rate'}>]],\n",
       "      dtype=object)"
      ]
     },
     "execution_count": 9,
     "metadata": {},
     "output_type": "execute_result"
    },
    {
     "data": {
      "image/png": "[encoded data removed]",
      "text/plain": [
       "<Figure size 432x288 with 1 Axes>"
      ]
     },
     "metadata": {
      "needs_background": "light"
     },
     "output_type": "display_data"
    }
   ],
   "source": [
    "df2.hist(bins=100)"
   ]
  },
  {
   "cell_type": "markdown",
   "id": "cc3a9a3d",
   "metadata": {},
   "source": [
    "## Growth Rate Table for Exchange Reactions\n",
    "Create a table showing the growth rates of the exchange reactions in both aerobic and anaerobic conditions."
   ]
  },
  {
   "cell_type": "code",
   "execution_count": 10,
   "id": "641268e7",
   "metadata": {},
   "outputs": [
    {
     "data": {
      "text/html": [
       "<div>\n",
       "<style scoped>\n",
       "    .dataframe tbody tr th:only-of-type {\n",
       "        vertical-align: middle;\n",
       "    }\n",
       "\n",
       "    .dataframe tbody tr th {\n",
       "        vertical-align: top;\n",
       "    }\n",
       "\n",
       "    .dataframe thead th {\n",
       "        text-align: right;\n",
       "    }\n",
       "</style>\n",
       "<table border=\"1\" class=\"dataframe\">\n",
       "  <thead>\n",
       "    <tr style=\"text-align: right;\">\n",
       "      <th></th>\n",
       "      <th>Exchange Reaction</th>\n",
       "      <th>Aerobic Growth Rate</th>\n",
       "      <th>Anaerobic Growth Rate</th>\n",
       "    </tr>\n",
       "  </thead>\n",
       "  <tbody>\n",
       "    <tr>\n",
       "      <th>0</th>\n",
       "      <td>EX_gthrd_e</td>\n",
       "      <td>3.6986</td>\n",
       "      <td>0.0000</td>\n",
       "    </tr>\n",
       "    <tr>\n",
       "      <th>1</th>\n",
       "      <td>EX_isetac_e</td>\n",
       "      <td>0.9920</td>\n",
       "      <td>0.0000</td>\n",
       "    </tr>\n",
       "    <tr>\n",
       "      <th>2</th>\n",
       "      <td>EX_cys__D_e</td>\n",
       "      <td>1.7017</td>\n",
       "      <td>0.0000</td>\n",
       "    </tr>\n",
       "    <tr>\n",
       "      <th>3</th>\n",
       "      <td>EX_cys__L_e</td>\n",
       "      <td>1.7062</td>\n",
       "      <td>0.0000</td>\n",
       "    </tr>\n",
       "    <tr>\n",
       "      <th>4</th>\n",
       "      <td>EX_mso3_e</td>\n",
       "      <td>0.9877</td>\n",
       "      <td>0.0000</td>\n",
       "    </tr>\n",
       "    <tr>\n",
       "      <th>5</th>\n",
       "      <td>EX_butso3_e</td>\n",
       "      <td>1.6336</td>\n",
       "      <td>0.0000</td>\n",
       "    </tr>\n",
       "    <tr>\n",
       "      <th>6</th>\n",
       "      <td>EX_cgly_e</td>\n",
       "      <td>2.2061</td>\n",
       "      <td>0.0000</td>\n",
       "    </tr>\n",
       "    <tr>\n",
       "      <th>7</th>\n",
       "      <td>EX_so4_e</td>\n",
       "      <td>0.9824</td>\n",
       "      <td>0.2415</td>\n",
       "    </tr>\n",
       "    <tr>\n",
       "      <th>8</th>\n",
       "      <td>EX_sulfac_e</td>\n",
       "      <td>0.9894</td>\n",
       "      <td>0.0000</td>\n",
       "    </tr>\n",
       "    <tr>\n",
       "      <th>9</th>\n",
       "      <td>EX_taur_e</td>\n",
       "      <td>0.9835</td>\n",
       "      <td>0.0000</td>\n",
       "    </tr>\n",
       "    <tr>\n",
       "      <th>10</th>\n",
       "      <td>EX_ethso3_e</td>\n",
       "      <td>1.0459</td>\n",
       "      <td>0.0000</td>\n",
       "    </tr>\n",
       "  </tbody>\n",
       "</table>\n",
       "</div>"
      ],
      "text/plain": [
       "   Exchange Reaction  Aerobic Growth Rate  Anaerobic Growth Rate\n",
       "0         EX_gthrd_e               3.6986                 0.0000\n",
       "1        EX_isetac_e               0.9920                 0.0000\n",
       "2        EX_cys__D_e               1.7017                 0.0000\n",
       "3        EX_cys__L_e               1.7062                 0.0000\n",
       "4          EX_mso3_e               0.9877                 0.0000\n",
       "5        EX_butso3_e               1.6336                 0.0000\n",
       "6          EX_cgly_e               2.2061                 0.0000\n",
       "7           EX_so4_e               0.9824                 0.2415\n",
       "8        EX_sulfac_e               0.9894                 0.0000\n",
       "9          EX_taur_e               0.9835                 0.0000\n",
       "10       EX_ethso3_e               1.0459                 0.0000"
      ]
     },
     "execution_count": 10,
     "metadata": {},
     "output_type": "execute_result"
    }
   ],
   "source": [
    "df3 = Aerobic_df.join(Anaerobic_df.set_index('Exchange Reaction'), on='Exchange Reaction')\n",
    "df3 = df3.round(4) # Round to four digits\n",
    "df3 = df3.replace(0, np.nan) # Replace zero with NaN\n",
    "df3 = df3.dropna(how = 'all', subset=['Aerobic Growth Rate', 'Anaerobic Growth Rate']) # Remove NaN's found in both columns\n",
    "df3 = df3.replace(np.nan, 0)\n",
    "df3 = df3.reset_index(drop=True)\n",
    "df3"
   ]
  },
  {
   "cell_type": "markdown",
   "id": "7eb79447",
   "metadata": {},
   "source": [
    "The total number of metabolites (exhange reactions) that can grow in either aerobic or anaerobic conditions"
   ]
  },
  {
   "cell_type": "code",
   "execution_count": 11,
   "id": "cd684c4f",
   "metadata": {},
   "outputs": [
    {
     "name": "stdout",
     "output_type": "stream",
     "text": [
      "<class 'pandas.core.frame.DataFrame'>\n",
      "RangeIndex: 11 entries, 0 to 10\n",
      "Data columns (total 3 columns):\n",
      " #   Column                 Non-Null Count  Dtype  \n",
      "---  ------                 --------------  -----  \n",
      " 0   Exchange Reaction      11 non-null     object \n",
      " 1   Aerobic Growth Rate    11 non-null     float64\n",
      " 2   Anaerobic Growth Rate  11 non-null     float64\n",
      "dtypes: float64(2), object(1)\n",
      "memory usage: 392.0+ bytes\n"
     ]
    }
   ],
   "source": [
    "df3.info()"
   ]
  },
  {
   "cell_type": "code",
   "execution_count": null,
   "id": "b9a2f132",
   "metadata": {},
   "outputs": [],
   "source": []
  }
 ],
 "metadata": {
  "kernelspec": {
   "display_name": "Python 3 (ipykernel)",
   "language": "python",
   "name": "python3"
  },
  "language_info": {
   "codemirror_mode": {
    "name": "ipython",
    "version": 3
   },
   "file_extension": ".py",
   "mimetype": "text/x-python",
   "name": "python",
   "nbconvert_exporter": "python",
   "pygments_lexer": "ipython3",
   "version": "3.8.12"
  }
 },
 "nbformat": 4,
 "nbformat_minor": 5
}
