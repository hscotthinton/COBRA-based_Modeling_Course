{
 "cells": [
  {
   "cell_type": "markdown",
   "metadata": {},
   "source": [
    "# Calculating Theoretical Yields\n",
    "\n",
    "This notebook will demonstrate the calculation of \n",
    "- molar yield, \n",
    "- mass yield, \n",
    "- carbon yield, \n",
    "- biomass yield.\n",
    "\n",
    "Loading the needed python packages"
   ]
  },
  {
   "cell_type": "code",
   "execution_count": 1,
   "metadata": {},
   "outputs": [],
   "source": [
    "import cobra.test\n",
    "from cobrapy_bigg_client import client\n",
    "from cobra.flux_analysis import production_envelope"
   ]
  },
  {
   "cell_type": "markdown",
   "metadata": {},
   "source": [
    "Loading the model and creating a clean copy"
   ]
  },
  {
   "cell_type": "code",
   "execution_count": 2,
   "metadata": {},
   "outputs": [
    {
     "name": "stdout",
     "output_type": "stream",
     "text": [
      "Set parameter Username\n",
      "Academic license - for non-commercial use only - expires 2022-10-10\n"
     ]
    }
   ],
   "source": [
    "model_original = client.download_model('e_coli_core', save=False) # Download model from the BIGG database\n",
    "model_original.solver = 'glpk'\n",
    "model = model_original.copy()"
   ]
  },
  {
   "cell_type": "markdown",
   "metadata": {},
   "source": [
    "## Molar Yield\n",
    "\n",
    "**Dividing the production flux by the uptake flux of the carbon source** (in this case glucose) yields the theoretical maximum molar yield (mol product / mol carbon source)."
   ]
  },
  {
   "cell_type": "markdown",
   "metadata": {},
   "source": [
    "Calculating the maximum yield of a model designed to produce acetate. First, set the exchange reaction associated with the desired bioproduct ('EX_ac_e') as the new objective function of the model. By making acetate the objective function will force the cell to produce the maximum amount of acetate."
   ]
  },
  {
   "cell_type": "code",
   "execution_count": 3,
   "metadata": {},
   "outputs": [],
   "source": [
    "model.objective = model.reactions.EX_ac_e"
   ]
  },
  {
   "cell_type": "markdown",
   "metadata": {},
   "source": [
    "The maximum production of acetate flux (mmol/gDW-hr) is found by."
   ]
  },
  {
   "cell_type": "code",
   "execution_count": 4,
   "metadata": {},
   "outputs": [
    {
     "data": {
      "text/plain": [
       "20.000000000000004"
      ]
     },
     "execution_count": 4,
     "metadata": {},
     "output_type": "execute_result"
    }
   ],
   "source": [
    "solution = model.optimize()\n",
    "solution.fluxes['EX_ac_e']"
   ]
  },
  {
   "cell_type": "markdown",
   "metadata": {},
   "source": [
    "The **molar yield** calculation \n",
    "\n",
    "    (mol product / mol carbon source) = (product flux / carbon source flux)"
   ]
  },
  {
   "cell_type": "code",
   "execution_count": 5,
   "metadata": {},
   "outputs": [
    {
     "name": "stdout",
     "output_type": "stream",
     "text": [
      "Theoretical maximum molar yield =  2.0\n"
     ]
    }
   ],
   "source": [
    "myield = solution.fluxes['EX_ac_e'] / (-1. * solution.fluxes['EX_glc__D_e'])\n",
    "print('Theoretical maximum molar yield = ',myield.round(4))"
   ]
  },
  {
   "cell_type": "markdown",
   "metadata": {},
   "source": [
    "## Mass Yield\n",
    "\n",
    "**Dividing the production flux times it's molecular weight by the uptake flux of the carbon source times it's molecular weight** yields the theoretical maximum mass yield \n",
    "\n",
    "    (mol product * MW / mol glucose * MW) = (product flux * MW / (-1) * carbon source flux * MW)."
   ]
  },
  {
   "cell_type": "code",
   "execution_count": 6,
   "metadata": {},
   "outputs": [
    {
     "name": "stdout",
     "output_type": "stream",
     "text": [
      "Mass yield =  0.6554770235642602\n"
     ]
    }
   ],
   "source": [
    "MW_ac = model.metabolites.ac_e.formula_weight # Molecular weight of acetate\n",
    "MW_glc = model.metabolites.glc__D_e.formula_weight # Molecular weight of glucose\n",
    "gyield = MW_ac*solution.fluxes['EX_ac_e'] / (-1. * solution.fluxes['EX_glc__D_e']*MW_glc)\n",
    "print('Mass yield = ',gyield)"
   ]
  },
  {
   "cell_type": "markdown",
   "metadata": {},
   "source": [
    "## Carbon Yield\n",
    "\n",
    "The carbon yield is found by the product of the number of carbon atoms in the product times the product flux divided by the product of the number of carbon atoms in the carbon source times the carbon source flux. \n",
    "\n",
    "    (Np * mol product / (-1) * Nc * mol carbon source) = (Np * product flux / (-1) * Nc * carbon source flux)"
   ]
  },
  {
   "cell_type": "code",
   "execution_count": 7,
   "metadata": {},
   "outputs": [
    {
     "name": "stdout",
     "output_type": "stream",
     "text": [
      "Theoretical maximum carbon yield =  0.6667\n"
     ]
    }
   ],
   "source": [
    "Nc = model.metabolites.glc__D_e.elements['C'] # Number of carbon atoms in glucose\n",
    "Np = model.metabolites.ac_e.elements['C'] # Number of carbon atoms in acetate\n",
    "cyield = Np*solution.fluxes['EX_ac_e'] / (-1. * Nc*solution.fluxes['EX_glc__D_e'])\n",
    "print('Theoretical maximum carbon yield = ',cyield.round(4))"
   ]
  },
  {
   "cell_type": "markdown",
   "metadata": {},
   "source": [
    "## Biomass Yield\n",
    "\n",
    "Dividing the biomass flux by the uptake flux of the carbon source yields the theoretical maximum biomass yield \n",
    "\n",
    "    (mol biomass / mol carbon source) = (biomass flux / carbon source flux)\n"
   ]
  },
  {
   "cell_type": "code",
   "execution_count": 8,
   "metadata": {},
   "outputs": [
    {
     "name": "stdout",
     "output_type": "stream",
     "text": [
      "Maximum biomass yield =  0.08739215069684295\n"
     ]
    }
   ],
   "source": [
    "model2 = model_original.copy()\n",
    "model2.objective = model2.reactions.BIOMASS_Ecoli_core_w_GAM\n",
    "solution2 = model2.optimize()\n",
    "byield = solution2.objective_value / (-1. * solution2.fluxes['EX_glc__D_e'])\n",
    "print('Maximum biomass yield = ',byield)"
   ]
  },
  {
   "cell_type": "markdown",
   "metadata": {},
   "source": [
    "## Molar and Carbon Yield Examples\n",
    "\n",
    "Let's look at an example where we have a single glucose carbon source with secretions of acetate, formate and carbon dioxide."
   ]
  },
  {
   "cell_type": "code",
   "execution_count": 9,
   "metadata": {},
   "outputs": [
    {
     "data": {
      "text/html": [
       "<h3>Objective</h3><p>1.0 BIOMASS_Ecoli_core_w_GAM = 0.5590505997120275</p><h4>Uptake</h4><table border=\"1\" class=\"dataframe\">\n",
       "  <thead>\n",
       "    <tr style=\"text-align: right;\">\n",
       "      <th>Metabolite</th>\n",
       "      <th>Reaction</th>\n",
       "      <th>Flux</th>\n",
       "      <th>C-Number</th>\n",
       "      <th>C-Flux</th>\n",
       "    </tr>\n",
       "  </thead>\n",
       "  <tbody>\n",
       "    <tr>\n",
       "      <td>glc__D_e</td>\n",
       "      <td>EX_glc__D_e</td>\n",
       "      <td>10</td>\n",
       "      <td>6</td>\n",
       "      <td>100.00%</td>\n",
       "    </tr>\n",
       "    <tr>\n",
       "      <td>nh4_e</td>\n",
       "      <td>EX_nh4_e</td>\n",
       "      <td>3.048</td>\n",
       "      <td>0</td>\n",
       "      <td>0.00%</td>\n",
       "    </tr>\n",
       "    <tr>\n",
       "      <td>o2_e</td>\n",
       "      <td>EX_o2_e</td>\n",
       "      <td>10</td>\n",
       "      <td>0</td>\n",
       "      <td>0.00%</td>\n",
       "    </tr>\n",
       "    <tr>\n",
       "      <td>pi_e</td>\n",
       "      <td>EX_pi_e</td>\n",
       "      <td>2.057</td>\n",
       "      <td>0</td>\n",
       "      <td>0.00%</td>\n",
       "    </tr>\n",
       "  </tbody>\n",
       "</table><h4>Secretion</h4><table border=\"1\" class=\"dataframe\">\n",
       "  <thead>\n",
       "    <tr style=\"text-align: right;\">\n",
       "      <th>Metabolite</th>\n",
       "      <th>Reaction</th>\n",
       "      <th>Flux</th>\n",
       "      <th>C-Number</th>\n",
       "      <th>C-Flux</th>\n",
       "    </tr>\n",
       "  </thead>\n",
       "  <tbody>\n",
       "    <tr>\n",
       "      <td>ac_e</td>\n",
       "      <td>EX_ac_e</td>\n",
       "      <td>-9.906</td>\n",
       "      <td>2</td>\n",
       "      <td>54.71%</td>\n",
       "    </tr>\n",
       "    <tr>\n",
       "      <td>co2_e</td>\n",
       "      <td>EX_co2_e</td>\n",
       "      <td>-4.895</td>\n",
       "      <td>1</td>\n",
       "      <td>13.52%</td>\n",
       "    </tr>\n",
       "    <tr>\n",
       "      <td>for_e</td>\n",
       "      <td>EX_for_e</td>\n",
       "      <td>-11.5</td>\n",
       "      <td>1</td>\n",
       "      <td>31.77%</td>\n",
       "    </tr>\n",
       "    <tr>\n",
       "      <td>h2o_e</td>\n",
       "      <td>EX_h2o_e</td>\n",
       "      <td>-8.967</td>\n",
       "      <td>0</td>\n",
       "      <td>0.00%</td>\n",
       "    </tr>\n",
       "    <tr>\n",
       "      <td>h_e</td>\n",
       "      <td>EX_h_e</td>\n",
       "      <td>-32.62</td>\n",
       "      <td>0</td>\n",
       "      <td>0.00%</td>\n",
       "    </tr>\n",
       "  </tbody>\n",
       "</table>"
      ],
      "text/plain": [
       "<cobra.summary.model_summary.ModelSummary at 0x1aabb4639a0>"
      ]
     },
     "execution_count": 9,
     "metadata": {},
     "output_type": "execute_result"
    }
   ],
   "source": [
    "model3 = model_original.copy()\n",
    "model3.reactions.EX_o2_e.lower_bound = -10\n",
    "solution3 = model3.optimize()\n",
    "model3.summary()"
   ]
  },
  {
   "cell_type": "markdown",
   "metadata": {},
   "source": [
    "Notice we have the simulated conditions of a single glucose carbon source with secretions of acetate, formate and carbon dioxide. The carbon flux percentage is found by creating a demoninator of the sum of the carbon fluxes fluxes with a C-number) times the carbon number associated with that flux. The numerator for each flux is the flux times the C-Number.\n",
    "\n",
    "    flux_i_percent = 100 * (flux_i * flux_i_C_num)/(flux_i * flux_i_C_num + ... + flux_n * flux_n_C_num)\n",
    "\n",
    "Now let's look at the data produced by a production envelope"
   ]
  },
  {
   "cell_type": "code",
   "execution_count": 10,
   "metadata": {},
   "outputs": [
    {
     "data": {
      "text/html": [
       "<div>\n",
       "<style scoped>\n",
       "    .dataframe tbody tr th:only-of-type {\n",
       "        vertical-align: middle;\n",
       "    }\n",
       "\n",
       "    .dataframe tbody tr th {\n",
       "        vertical-align: top;\n",
       "    }\n",
       "\n",
       "    .dataframe thead th {\n",
       "        text-align: right;\n",
       "    }\n",
       "</style>\n",
       "<table border=\"1\" class=\"dataframe\">\n",
       "  <thead>\n",
       "    <tr style=\"text-align: right;\">\n",
       "      <th></th>\n",
       "      <th>carbon_source</th>\n",
       "      <th>flux_minimum</th>\n",
       "      <th>carbon_yield_minimum</th>\n",
       "      <th>mass_yield_minimum</th>\n",
       "      <th>flux_maximum</th>\n",
       "      <th>carbon_yield_maximum</th>\n",
       "      <th>mass_yield_maximum</th>\n",
       "      <th>EX_o2_e</th>\n",
       "    </tr>\n",
       "  </thead>\n",
       "  <tbody>\n",
       "    <tr>\n",
       "      <th>0</th>\n",
       "      <td>EX_glc__D_e</td>\n",
       "      <td>0.0</td>\n",
       "      <td>0.0</td>\n",
       "      <td>0.0</td>\n",
       "      <td>20.000000</td>\n",
       "      <td>0.666667</td>\n",
       "      <td>0.655477</td>\n",
       "      <td>-10.000000</td>\n",
       "    </tr>\n",
       "    <tr>\n",
       "      <th>1</th>\n",
       "      <td>EX_glc__D_e</td>\n",
       "      <td>0.0</td>\n",
       "      <td>0.0</td>\n",
       "      <td>0.0</td>\n",
       "      <td>19.473684</td>\n",
       "      <td>0.649123</td>\n",
       "      <td>0.638228</td>\n",
       "      <td>-9.473684</td>\n",
       "    </tr>\n",
       "    <tr>\n",
       "      <th>2</th>\n",
       "      <td>EX_glc__D_e</td>\n",
       "      <td>0.0</td>\n",
       "      <td>0.0</td>\n",
       "      <td>0.0</td>\n",
       "      <td>18.947368</td>\n",
       "      <td>0.631579</td>\n",
       "      <td>0.620978</td>\n",
       "      <td>-8.947368</td>\n",
       "    </tr>\n",
       "    <tr>\n",
       "      <th>3</th>\n",
       "      <td>EX_glc__D_e</td>\n",
       "      <td>0.0</td>\n",
       "      <td>0.0</td>\n",
       "      <td>0.0</td>\n",
       "      <td>18.421053</td>\n",
       "      <td>0.614035</td>\n",
       "      <td>0.603729</td>\n",
       "      <td>-8.421053</td>\n",
       "    </tr>\n",
       "    <tr>\n",
       "      <th>4</th>\n",
       "      <td>EX_glc__D_e</td>\n",
       "      <td>0.0</td>\n",
       "      <td>0.0</td>\n",
       "      <td>0.0</td>\n",
       "      <td>17.894737</td>\n",
       "      <td>0.596491</td>\n",
       "      <td>0.586479</td>\n",
       "      <td>-7.894737</td>\n",
       "    </tr>\n",
       "    <tr>\n",
       "      <th>5</th>\n",
       "      <td>EX_glc__D_e</td>\n",
       "      <td>0.0</td>\n",
       "      <td>0.0</td>\n",
       "      <td>0.0</td>\n",
       "      <td>17.368421</td>\n",
       "      <td>0.578947</td>\n",
       "      <td>0.569230</td>\n",
       "      <td>-7.368421</td>\n",
       "    </tr>\n",
       "    <tr>\n",
       "      <th>6</th>\n",
       "      <td>EX_glc__D_e</td>\n",
       "      <td>0.0</td>\n",
       "      <td>0.0</td>\n",
       "      <td>0.0</td>\n",
       "      <td>16.842105</td>\n",
       "      <td>0.561404</td>\n",
       "      <td>0.551981</td>\n",
       "      <td>-6.842105</td>\n",
       "    </tr>\n",
       "    <tr>\n",
       "      <th>7</th>\n",
       "      <td>EX_glc__D_e</td>\n",
       "      <td>0.0</td>\n",
       "      <td>0.0</td>\n",
       "      <td>0.0</td>\n",
       "      <td>16.315789</td>\n",
       "      <td>0.543860</td>\n",
       "      <td>0.534731</td>\n",
       "      <td>-6.315789</td>\n",
       "    </tr>\n",
       "    <tr>\n",
       "      <th>8</th>\n",
       "      <td>EX_glc__D_e</td>\n",
       "      <td>0.0</td>\n",
       "      <td>0.0</td>\n",
       "      <td>0.0</td>\n",
       "      <td>15.789474</td>\n",
       "      <td>0.526316</td>\n",
       "      <td>0.517482</td>\n",
       "      <td>-5.789474</td>\n",
       "    </tr>\n",
       "    <tr>\n",
       "      <th>9</th>\n",
       "      <td>EX_glc__D_e</td>\n",
       "      <td>0.0</td>\n",
       "      <td>0.0</td>\n",
       "      <td>0.0</td>\n",
       "      <td>15.263158</td>\n",
       "      <td>0.508772</td>\n",
       "      <td>0.500232</td>\n",
       "      <td>-5.263158</td>\n",
       "    </tr>\n",
       "    <tr>\n",
       "      <th>10</th>\n",
       "      <td>EX_glc__D_e</td>\n",
       "      <td>0.0</td>\n",
       "      <td>0.0</td>\n",
       "      <td>0.0</td>\n",
       "      <td>14.736842</td>\n",
       "      <td>0.491228</td>\n",
       "      <td>0.482983</td>\n",
       "      <td>-4.736842</td>\n",
       "    </tr>\n",
       "    <tr>\n",
       "      <th>11</th>\n",
       "      <td>EX_glc__D_e</td>\n",
       "      <td>0.0</td>\n",
       "      <td>0.0</td>\n",
       "      <td>0.0</td>\n",
       "      <td>14.210526</td>\n",
       "      <td>0.473684</td>\n",
       "      <td>0.465734</td>\n",
       "      <td>-4.210526</td>\n",
       "    </tr>\n",
       "    <tr>\n",
       "      <th>12</th>\n",
       "      <td>EX_glc__D_e</td>\n",
       "      <td>0.0</td>\n",
       "      <td>0.0</td>\n",
       "      <td>0.0</td>\n",
       "      <td>13.684211</td>\n",
       "      <td>0.456140</td>\n",
       "      <td>0.448484</td>\n",
       "      <td>-3.684211</td>\n",
       "    </tr>\n",
       "    <tr>\n",
       "      <th>13</th>\n",
       "      <td>EX_glc__D_e</td>\n",
       "      <td>0.0</td>\n",
       "      <td>0.0</td>\n",
       "      <td>0.0</td>\n",
       "      <td>13.157895</td>\n",
       "      <td>0.438596</td>\n",
       "      <td>0.431235</td>\n",
       "      <td>-3.157895</td>\n",
       "    </tr>\n",
       "    <tr>\n",
       "      <th>14</th>\n",
       "      <td>EX_glc__D_e</td>\n",
       "      <td>0.0</td>\n",
       "      <td>0.0</td>\n",
       "      <td>0.0</td>\n",
       "      <td>12.631579</td>\n",
       "      <td>0.421053</td>\n",
       "      <td>0.413985</td>\n",
       "      <td>-2.631579</td>\n",
       "    </tr>\n",
       "    <tr>\n",
       "      <th>15</th>\n",
       "      <td>EX_glc__D_e</td>\n",
       "      <td>0.0</td>\n",
       "      <td>0.0</td>\n",
       "      <td>0.0</td>\n",
       "      <td>12.105263</td>\n",
       "      <td>0.403509</td>\n",
       "      <td>0.396736</td>\n",
       "      <td>-2.105263</td>\n",
       "    </tr>\n",
       "    <tr>\n",
       "      <th>16</th>\n",
       "      <td>EX_glc__D_e</td>\n",
       "      <td>0.0</td>\n",
       "      <td>0.0</td>\n",
       "      <td>0.0</td>\n",
       "      <td>11.578947</td>\n",
       "      <td>0.385965</td>\n",
       "      <td>0.379487</td>\n",
       "      <td>-1.578947</td>\n",
       "    </tr>\n",
       "    <tr>\n",
       "      <th>17</th>\n",
       "      <td>EX_glc__D_e</td>\n",
       "      <td>0.0</td>\n",
       "      <td>0.0</td>\n",
       "      <td>0.0</td>\n",
       "      <td>11.052632</td>\n",
       "      <td>0.368421</td>\n",
       "      <td>0.362237</td>\n",
       "      <td>-1.052632</td>\n",
       "    </tr>\n",
       "    <tr>\n",
       "      <th>18</th>\n",
       "      <td>EX_glc__D_e</td>\n",
       "      <td>0.0</td>\n",
       "      <td>0.0</td>\n",
       "      <td>0.0</td>\n",
       "      <td>10.526316</td>\n",
       "      <td>0.350877</td>\n",
       "      <td>0.344988</td>\n",
       "      <td>-0.526316</td>\n",
       "    </tr>\n",
       "    <tr>\n",
       "      <th>19</th>\n",
       "      <td>EX_glc__D_e</td>\n",
       "      <td>0.0</td>\n",
       "      <td>0.0</td>\n",
       "      <td>0.0</td>\n",
       "      <td>10.000000</td>\n",
       "      <td>0.333333</td>\n",
       "      <td>0.327739</td>\n",
       "      <td>0.000000</td>\n",
       "    </tr>\n",
       "  </tbody>\n",
       "</table>\n",
       "</div>"
      ],
      "text/plain": [
       "   carbon_source  flux_minimum  carbon_yield_minimum  mass_yield_minimum  \\\n",
       "0    EX_glc__D_e           0.0                   0.0                 0.0   \n",
       "1    EX_glc__D_e           0.0                   0.0                 0.0   \n",
       "2    EX_glc__D_e           0.0                   0.0                 0.0   \n",
       "3    EX_glc__D_e           0.0                   0.0                 0.0   \n",
       "4    EX_glc__D_e           0.0                   0.0                 0.0   \n",
       "5    EX_glc__D_e           0.0                   0.0                 0.0   \n",
       "6    EX_glc__D_e           0.0                   0.0                 0.0   \n",
       "7    EX_glc__D_e           0.0                   0.0                 0.0   \n",
       "8    EX_glc__D_e           0.0                   0.0                 0.0   \n",
       "9    EX_glc__D_e           0.0                   0.0                 0.0   \n",
       "10   EX_glc__D_e           0.0                   0.0                 0.0   \n",
       "11   EX_glc__D_e           0.0                   0.0                 0.0   \n",
       "12   EX_glc__D_e           0.0                   0.0                 0.0   \n",
       "13   EX_glc__D_e           0.0                   0.0                 0.0   \n",
       "14   EX_glc__D_e           0.0                   0.0                 0.0   \n",
       "15   EX_glc__D_e           0.0                   0.0                 0.0   \n",
       "16   EX_glc__D_e           0.0                   0.0                 0.0   \n",
       "17   EX_glc__D_e           0.0                   0.0                 0.0   \n",
       "18   EX_glc__D_e           0.0                   0.0                 0.0   \n",
       "19   EX_glc__D_e           0.0                   0.0                 0.0   \n",
       "\n",
       "    flux_maximum  carbon_yield_maximum  mass_yield_maximum    EX_o2_e  \n",
       "0      20.000000              0.666667            0.655477 -10.000000  \n",
       "1      19.473684              0.649123            0.638228  -9.473684  \n",
       "2      18.947368              0.631579            0.620978  -8.947368  \n",
       "3      18.421053              0.614035            0.603729  -8.421053  \n",
       "4      17.894737              0.596491            0.586479  -7.894737  \n",
       "5      17.368421              0.578947            0.569230  -7.368421  \n",
       "6      16.842105              0.561404            0.551981  -6.842105  \n",
       "7      16.315789              0.543860            0.534731  -6.315789  \n",
       "8      15.789474              0.526316            0.517482  -5.789474  \n",
       "9      15.263158              0.508772            0.500232  -5.263158  \n",
       "10     14.736842              0.491228            0.482983  -4.736842  \n",
       "11     14.210526              0.473684            0.465734  -4.210526  \n",
       "12     13.684211              0.456140            0.448484  -3.684211  \n",
       "13     13.157895              0.438596            0.431235  -3.157895  \n",
       "14     12.631579              0.421053            0.413985  -2.631579  \n",
       "15     12.105263              0.403509            0.396736  -2.105263  \n",
       "16     11.578947              0.385965            0.379487  -1.578947  \n",
       "17     11.052632              0.368421            0.362237  -1.052632  \n",
       "18     10.526316              0.350877            0.344988  -0.526316  \n",
       "19     10.000000              0.333333            0.327739   0.000000  "
      ]
     },
     "execution_count": 10,
     "metadata": {},
     "output_type": "execute_result"
    }
   ],
   "source": [
    "prod_env = production_envelope(\n",
    "    model3, [\"EX_o2_e\"], objective=\"EX_ac_e\", carbon_sources=\"EX_glc__D_e\")\n",
    "prod_env"
   ]
  },
  {
   "cell_type": "markdown",
   "metadata": {},
   "source": [
    "The carbon yield is calculated by\n",
    "\n",
    "    cyield = solution.fluxes['Product'] / (-1. * solution.fluxes['Carbon Source'])\n",
    "    \n",
    "For each row the carbon yield is found by\n",
    "\n",
    "        cyield = flux_maximum / (-1. * Carbon Source Flux)"
   ]
  },
  {
   "cell_type": "code",
   "execution_count": 11,
   "metadata": {},
   "outputs": [
    {
     "name": "stdout",
     "output_type": "stream",
     "text": [
      "Top row carbon_yield_maximum =  -0.6666666666666666\n",
      "Middle row carbon_yield_maximum =  -0.5087719333333334\n"
     ]
    }
   ],
   "source": [
    "# Top row\n",
    "cyield = 20*2 / (-1. * 10*6)\n",
    "print('Top row carbon_yield_maximum = ',cyield)\n",
    "\n",
    "# Middle row\n",
    "cyield1 = 15.263158*2 / (-1. * 10*6)\n",
    "print('Middle row carbon_yield_maximum = ',cyield1)"
   ]
  },
  {
   "cell_type": "markdown",
   "metadata": {},
   "source": [
    "The mass yield is calculated by\n",
    "\n",
    "    myield = MW_prod * solution.fluxes['Product'] / (-1. * MW_cs * solution.fluxes['Carbon Source'])\n",
    "    \n",
    "For each row the carbon yield is found by\n",
    "\n",
    "        myield = MW_prod * flux_maximum / (-1. * MW_cs * Carbon Source Flux)"
   ]
  },
  {
   "cell_type": "code",
   "execution_count": 12,
   "metadata": {},
   "outputs": [
    {
     "name": "stdout",
     "output_type": "stream",
     "text": [
      "Top row mass_yield_maximum =  -0.65547702356426\n",
      "Top row mass_yield_maximum =  -0.5002324688015513\n"
     ]
    }
   ],
   "source": [
    "# Top row\n",
    "gyield = MW_ac * 20 / (-1. * 10 * MW_glc)\n",
    "print('Top row mass_yield_maximum = ',gyield)\n",
    "\n",
    "# Middle row\n",
    "gyield1 = MW_ac*15.263158 / (-1. * 10 * MW_glc)\n",
    "print('Top row mass_yield_maximum = ',gyield1)"
   ]
  },
  {
   "cell_type": "markdown",
   "metadata": {},
   "source": [
    "## Growth vs. Product Yields Example"
   ]
  },
  {
   "cell_type": "markdown",
   "metadata": {},
   "source": [
    "Determina molar, mass, and c-mol yields of acetate for the following growth rates."
   ]
  },
  {
   "cell_type": "code",
   "execution_count": 13,
   "metadata": {},
   "outputs": [],
   "source": [
    "growth_rates = [0.0, 0.10915242, 0.21830485, 0.32745727, 0.43660969, 0.54576212, \n",
    "                0.65491454, 0.76406697, 0.87321939]"
   ]
  },
  {
   "cell_type": "code",
   "execution_count": 14,
   "metadata": {},
   "outputs": [],
   "source": [
    "model4 = model_original.copy()\n",
    "model4.objective = model4.reactions.EX_ac_e # Setting the objective to acetate\n",
    "\n",
    "product_fluxes = []\n",
    "myield_fluxes = []\n",
    "gyield_fluxes = []\n",
    "cyield_fluxes = []\n",
    "byield_fluxes = []\n",
    "for x in growth_rates:\n",
    "    model4.reactions.BIOMASS_Ecoli_core_w_GAM.bounds = [x,x]\n",
    "    solution4 = model4.optimize()\n",
    "    product_fluxes.append(solution4.fluxes.EX_ac_e)\n",
    "    myield_fluxes.append(solution4.fluxes['EX_ac_e'] / (-1. * solution4.fluxes['EX_glc__D_e']))\n",
    "    gyield_fluxes.append(MW_ac*solution4.fluxes['EX_ac_e'] / (-1. * solution4.fluxes['EX_glc__D_e']*MW_glc))\n",
    "    cyield_fluxes.append(Np*solution4.fluxes['EX_ac_e'] / (-1. * Nc*solution4.fluxes['EX_glc__D_e']))\n",
    "    byield_fluxes.append(solution4.fluxes['BIOMASS_Ecoli_core_w_GAM'] / (-1. * solution4.fluxes['EX_glc__D_e']))"
   ]
  },
  {
   "cell_type": "markdown",
   "metadata": {},
   "source": [
    "### Plotting the maximum acetate fluxes.\n",
    "\n",
    "Plotting acetate when it is used as the objective value"
   ]
  },
  {
   "cell_type": "code",
   "execution_count": 15,
   "metadata": {},
   "outputs": [
    {
     "data": {
      "image/png": "[encoded data removed]",
      "text/plain": [
       "<Figure size 432x288 with 1 Axes>"
      ]
     },
     "metadata": {
      "needs_background": "light"
     },
     "output_type": "display_data"
    }
   ],
   "source": [
    "import matplotlib.pyplot as plt\n",
    "plt.plot(growth_rates, product_fluxes)\n",
    "plt.xlabel('Growth [$h^{-1}$]')\n",
    "plt.ylabel('Product flux [$mmol gDW^{-1} h^{-1}$]')\n",
    "plt.show()"
   ]
  },
  {
   "cell_type": "code",
   "execution_count": 16,
   "metadata": {},
   "outputs": [
    {
     "name": "stdout",
     "output_type": "stream",
     "text": [
      "Acetate flux = 20.000000000000004 ;  growth rate = 0.0\n"
     ]
    },
    {
     "data": {
      "text/plain": [
       "20.000000000000004"
      ]
     },
     "execution_count": 16,
     "metadata": {},
     "output_type": "execute_result"
    }
   ],
   "source": [
    "num = 0\n",
    "model5 = model_original.copy()\n",
    "model5.objective = model5.reactions.EX_ac_e\n",
    "model5.reactions.BIOMASS_Ecoli_core_w_GAM.bounds = [growth_rates[num],growth_rates[num]]\n",
    "solution5 = model5.optimize()\n",
    "solution5.fluxes.EX_ac_e\n",
    "print('Acetate flux =',solution5.fluxes.EX_ac_e,';  growth rate =',growth_rates[num] )\n",
    "solution5.objective_value"
   ]
  },
  {
   "cell_type": "markdown",
   "metadata": {},
   "source": [
    "### Plotting the maximum molar yield fluxes.\n",
    "\n",
    "    (mol product / mol carbon source) = (product flux / carbon source flux)"
   ]
  },
  {
   "cell_type": "code",
   "execution_count": 17,
   "metadata": {},
   "outputs": [
    {
     "data": {
      "image/png": "[encoded data removed]",
      "text/plain": [
       "<Figure size 432x288 with 1 Axes>"
      ]
     },
     "metadata": {
      "needs_background": "light"
     },
     "output_type": "display_data"
    }
   ],
   "source": [
    "plt.plot(growth_rates,  myield_fluxes)\n",
    "plt.xlabel('Growth [$h^{-1}$]')\n",
    "plt.ylabel('Molar yield')\n",
    "plt.show()"
   ]
  },
  {
   "cell_type": "markdown",
   "metadata": {},
   "source": [
    "### Plotting the maximum mass yield fluxes.\n",
    "\n",
    "    (mol product * MW / mol glucose * MW) = (product flux * MW / (-1) * carbon source flux * MW)"
   ]
  },
  {
   "cell_type": "code",
   "execution_count": 18,
   "metadata": {},
   "outputs": [
    {
     "data": {
      "image/png": "[encoded data removed]",
      "text/plain": [
       "<Figure size 432x288 with 1 Axes>"
      ]
     },
     "metadata": {
      "needs_background": "light"
     },
     "output_type": "display_data"
    }
   ],
   "source": [
    "plt.plot(growth_rates,  gyield_fluxes)\n",
    "plt.xlabel('Growth [$h^{-1}$]')\n",
    "plt.ylabel('Mass yield')\n",
    "plt.show()"
   ]
  },
  {
   "cell_type": "markdown",
   "metadata": {},
   "source": [
    "### Plotting the maximum carbon yield fluxes.\n",
    "\n",
    "    (Np * mol product / (-1) * Nc * mol carbon source) = (Np * product flux / (-1) * Nc * carbon source flux)"
   ]
  },
  {
   "cell_type": "code",
   "execution_count": 19,
   "metadata": {},
   "outputs": [
    {
     "data": {
      "image/png": "[encoded data removed]",
      "text/plain": [
       "<Figure size 432x288 with 1 Axes>"
      ]
     },
     "metadata": {
      "needs_background": "light"
     },
     "output_type": "display_data"
    }
   ],
   "source": [
    "plt.plot(growth_rates,  cyield_fluxes)\n",
    "plt.xlabel('Growth [$h^{-1}$]')\n",
    "plt.ylabel('Carbon yield')\n",
    "plt.show()"
   ]
  },
  {
   "cell_type": "markdown",
   "metadata": {},
   "source": [
    "### Plotting the maximum biomass yield fluxes.\n",
    "\n",
    "    (mol biomass / mol carbon source) = (biomass flux / carbon source flux)"
   ]
  },
  {
   "cell_type": "code",
   "execution_count": 20,
   "metadata": {},
   "outputs": [
    {
     "data": {
      "image/png": "[encoded data removed]",
      "text/plain": [
       "<Figure size 432x288 with 1 Axes>"
      ]
     },
     "metadata": {
      "needs_background": "light"
     },
     "output_type": "display_data"
    }
   ],
   "source": [
    "plt.plot(growth_rates,  byield_fluxes)\n",
    "plt.xlabel('Growth [$h^{-1}$]')\n",
    "plt.ylabel('Biomass yield')\n",
    "plt.show()"
   ]
  },
  {
   "cell_type": "code",
   "execution_count": null,
   "metadata": {},
   "outputs": [],
   "source": []
  }
 ],
 "metadata": {
  "anaconda-cloud": {},
  "kernelspec": {
   "display_name": "Python 3 (ipykernel)",
   "language": "python",
   "name": "python3"
  },
  "language_info": {
   "codemirror_mode": {
    "name": "ipython",
    "version": 3
   },
   "file_extension": ".py",
   "mimetype": "text/x-python",
   "name": "python",
   "nbconvert_exporter": "python",
   "pygments_lexer": "ipython3",
   "version": "3.8.12"
  }
 },
 "nbformat": 4,
 "nbformat_minor": 1
}
