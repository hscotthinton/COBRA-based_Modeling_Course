{
 "cells": [
  {
   "cell_type": "markdown",
   "id": "6403c2ff",
   "metadata": {},
   "source": [
    "# pFBA, MOMA, ROOM\n",
    "Set environment"
   ]
  },
  {
   "cell_type": "code",
   "execution_count": 1,
   "id": "a0227cea",
   "metadata": {},
   "outputs": [
    {
     "name": "stdout",
     "output_type": "stream",
     "text": [
      "Set parameter Username\n",
      "Academic license - for non-commercial use only - expires 2022-10-10\n"
     ]
    }
   ],
   "source": [
    "import escher\n",
    "from cobra.io import read_sbml_model\n",
    "from cobra.flux_analysis import flux_variability_analysis\n",
    "from cameo.visualization.plotting.with_plotly import PlotlyPlotter\n",
    "plotter = PlotlyPlotter()\n",
    "\n",
    "from cameo import load_model\n",
    "model = load_model('iJO1366')"
   ]
  },
  {
   "cell_type": "code",
   "execution_count": 2,
   "id": "ac5733b1",
   "metadata": {},
   "outputs": [
    {
     "name": "stdout",
     "output_type": "stream",
     "text": [
      "Wall time: 181 ms\n"
     ]
    }
   ],
   "source": [
    "from cameo import fba\n",
    "%time fba_result = fba(model)"
   ]
  },
  {
   "cell_type": "code",
   "execution_count": 3,
   "id": "718ebbe9",
   "metadata": {},
   "outputs": [
    {
     "data": {
      "text/plain": [
       "0.9823718127269785"
      ]
     },
     "execution_count": 3,
     "metadata": {},
     "output_type": "execute_result"
    }
   ],
   "source": [
    "fba_result.objective_value"
   ]
  },
  {
   "cell_type": "code",
   "execution_count": 4,
   "id": "3a77c4e8",
   "metadata": {},
   "outputs": [
    {
     "data": {
      "text/html": [
       "<div>\n",
       "<style scoped>\n",
       "    .dataframe tbody tr th:only-of-type {\n",
       "        vertical-align: middle;\n",
       "    }\n",
       "\n",
       "    .dataframe tbody tr th {\n",
       "        vertical-align: top;\n",
       "    }\n",
       "\n",
       "    .dataframe thead th {\n",
       "        text-align: right;\n",
       "    }\n",
       "</style>\n",
       "<table border=\"1\" class=\"dataframe\">\n",
       "  <thead>\n",
       "    <tr style=\"text-align: right;\">\n",
       "      <th></th>\n",
       "      <th>flux</th>\n",
       "    </tr>\n",
       "  </thead>\n",
       "  <tbody>\n",
       "    <tr>\n",
       "      <th>EX_cm_e</th>\n",
       "      <td>0.000000</td>\n",
       "    </tr>\n",
       "    <tr>\n",
       "      <th>EX_cmp_e</th>\n",
       "      <td>0.000000</td>\n",
       "    </tr>\n",
       "    <tr>\n",
       "      <th>EX_co2_e</th>\n",
       "      <td>19.675223</td>\n",
       "    </tr>\n",
       "    <tr>\n",
       "      <th>EX_cobalt2_e</th>\n",
       "      <td>-0.000025</td>\n",
       "    </tr>\n",
       "    <tr>\n",
       "      <th>DM_4crsol_c</th>\n",
       "      <td>0.000219</td>\n",
       "    </tr>\n",
       "    <tr>\n",
       "      <th>...</th>\n",
       "      <td>...</td>\n",
       "    </tr>\n",
       "    <tr>\n",
       "      <th>RNDR4</th>\n",
       "      <td>0.000000</td>\n",
       "    </tr>\n",
       "    <tr>\n",
       "      <th>RNDR4b</th>\n",
       "      <td>0.000000</td>\n",
       "    </tr>\n",
       "    <tr>\n",
       "      <th>RNTR1c2</th>\n",
       "      <td>0.025705</td>\n",
       "    </tr>\n",
       "    <tr>\n",
       "      <th>RNTR2c2</th>\n",
       "      <td>0.026541</td>\n",
       "    </tr>\n",
       "    <tr>\n",
       "      <th>RNTR3c2</th>\n",
       "      <td>0.026541</td>\n",
       "    </tr>\n",
       "  </tbody>\n",
       "</table>\n",
       "<p>2583 rows × 1 columns</p>\n",
       "</div>"
      ],
      "text/plain": [
       "                   flux\n",
       "EX_cm_e        0.000000\n",
       "EX_cmp_e       0.000000\n",
       "EX_co2_e      19.675223\n",
       "EX_cobalt2_e  -0.000025\n",
       "DM_4crsol_c    0.000219\n",
       "...                 ...\n",
       "RNDR4          0.000000\n",
       "RNDR4b         0.000000\n",
       "RNTR1c2        0.025705\n",
       "RNTR2c2        0.026541\n",
       "RNTR3c2        0.026541\n",
       "\n",
       "[2583 rows x 1 columns]"
      ]
     },
     "execution_count": 4,
     "metadata": {},
     "output_type": "execute_result"
    }
   ],
   "source": [
    "fba_result.data_frame"
   ]
  },
  {
   "cell_type": "code",
   "execution_count": 5,
   "id": "ece9aecb",
   "metadata": {},
   "outputs": [
    {
     "name": "stdout",
     "output_type": "stream",
     "text": [
      "Downloading Map from https://escher.github.io/1-0-0/6/maps/Escherichia%20coli/iJO1366.Central%20metabolism.json\n"
     ]
    },
    {
     "data": {
      "application/vnd.jupyter.widget-view+json": {
       "model_id": "8c85aeccba36419db0bb8cc3868408b5",
       "version_major": 2,
       "version_minor": 0
      },
      "text/plain": [
       "Builder(reaction_data={'EX_co2_e': 19.675223, 'EX_cobalt2_e': -2.5e-05, 'DM_4crsol_c': 0.000219, 'DM_5drib_c':…"
      ]
     },
     "metadata": {},
     "output_type": "display_data"
    }
   ],
   "source": [
    "fba_result.display_on_map(\"iJO1366.Central metabolism\")"
   ]
  },
  {
   "cell_type": "markdown",
   "id": "9a14c0dd",
   "metadata": {},
   "source": [
    "# Parsimonious Flux Balance Analysis"
   ]
  },
  {
   "cell_type": "code",
   "execution_count": 6,
   "id": "fdb0d4f6",
   "metadata": {},
   "outputs": [
    {
     "name": "stdout",
     "output_type": "stream",
     "text": [
      "Wall time: 218 ms\n"
     ]
    }
   ],
   "source": [
    "from cameo import pfba\n",
    "%time pfba_result = pfba(model)"
   ]
  },
  {
   "cell_type": "code",
   "execution_count": 7,
   "id": "e7582864",
   "metadata": {},
   "outputs": [
    {
     "data": {
      "text/plain": [
       "699.022275183936"
      ]
     },
     "execution_count": 7,
     "metadata": {},
     "output_type": "execute_result"
    }
   ],
   "source": [
    "pfba_result.objective_value"
   ]
  },
  {
   "cell_type": "markdown",
   "id": "9ccb9394",
   "metadata": {},
   "source": [
    "Since the sum of all the fluxes is the objective function for pFBA, the equivalent total flux for the regular FBA example is found by"
   ]
  },
  {
   "cell_type": "code",
   "execution_count": 8,
   "id": "3f5705dd",
   "metadata": {},
   "outputs": [
    {
     "data": {
      "text/plain": [
       "763.1245358862502"
      ]
     },
     "execution_count": 8,
     "metadata": {},
     "output_type": "execute_result"
    }
   ],
   "source": [
    "abs(fba_result.data_frame.flux).sum()"
   ]
  },
  {
   "cell_type": "code",
   "execution_count": 9,
   "id": "501d03c3",
   "metadata": {},
   "outputs": [
    {
     "name": "stdout",
     "output_type": "stream",
     "text": [
      "Downloading Map from https://escher.github.io/1-0-0/6/maps/Escherichia%20coli/iJO1366.Central%20metabolism.json\n"
     ]
    },
    {
     "data": {
      "application/vnd.jupyter.widget-view+json": {
       "model_id": "4d08d68beac84464b6701897e3d0d673",
       "version_major": 2,
       "version_minor": 0
      },
      "text/plain": [
       "Builder(reaction_data={'EX_co2_e': 19.675223, 'EX_cobalt2_e': -2.5e-05, 'DM_4crsol_c': 0.000219, 'DM_5drib_c':…"
      ]
     },
     "metadata": {},
     "output_type": "display_data"
    }
   ],
   "source": [
    "pfba_result.display_on_map(\"iJO1366.Central metabolism\")"
   ]
  },
  {
   "cell_type": "markdown",
   "id": "0f26fc9c",
   "metadata": {},
   "source": [
    "# Simulating Knockouts\n",
    "Looking at the PGI reaction"
   ]
  },
  {
   "cell_type": "code",
   "execution_count": 10,
   "id": "3cbe799d",
   "metadata": {},
   "outputs": [
    {
     "data": {
      "text/html": [
       "\n",
       "        <table>\n",
       "            <tr>\n",
       "                <td><strong>Reaction identifier</strong></td><td>PGI</td>\n",
       "            </tr><tr>\n",
       "                <td><strong>Name</strong></td><td>Glucose-6-phosphate isomerase</td>\n",
       "            </tr><tr>\n",
       "                <td><strong>Memory address</strong></td>\n",
       "                <td>0x02ba0499ef70</td>\n",
       "            </tr><tr>\n",
       "                <td><strong>Stoichiometry</strong></td>\n",
       "                <td>\n",
       "                    <p style='text-align:right'>g6p_c <=> f6p_c</p>\n",
       "                    <p style='text-align:right'>D-Glucose 6-phosphate <=> D-Fructose 6-phosphate</p>\n",
       "                </td>\n",
       "            </tr><tr>\n",
       "                <td><strong>GPR</strong></td><td>b4025</td>\n",
       "            </tr><tr>\n",
       "                <td><strong>Lower bound</strong></td><td>-1000.0</td>\n",
       "            </tr><tr>\n",
       "                <td><strong>Upper bound</strong></td><td>1000.0</td>\n",
       "            </tr>\n",
       "        </table>\n",
       "        "
      ],
      "text/plain": [
       "<Reaction PGI at 0x2ba0499ef70>"
      ]
     },
     "execution_count": 10,
     "metadata": {},
     "output_type": "execute_result"
    }
   ],
   "source": [
    "model.reactions.PGI"
   ]
  },
  {
   "cell_type": "markdown",
   "id": "27fdbe45",
   "metadata": {},
   "source": [
    "To knock it out"
   ]
  },
  {
   "cell_type": "code",
   "execution_count": 11,
   "id": "d6be4668",
   "metadata": {},
   "outputs": [
    {
     "data": {
      "text/html": [
       "\n",
       "        <table>\n",
       "            <tr>\n",
       "                <td><strong>Reaction identifier</strong></td><td>PGI</td>\n",
       "            </tr><tr>\n",
       "                <td><strong>Name</strong></td><td>Glucose-6-phosphate isomerase</td>\n",
       "            </tr><tr>\n",
       "                <td><strong>Memory address</strong></td>\n",
       "                <td>0x02ba0499ef70</td>\n",
       "            </tr><tr>\n",
       "                <td><strong>Stoichiometry</strong></td>\n",
       "                <td>\n",
       "                    <p style='text-align:right'>g6p_c --> f6p_c</p>\n",
       "                    <p style='text-align:right'>D-Glucose 6-phosphate --> D-Fructose 6-phosphate</p>\n",
       "                </td>\n",
       "            </tr><tr>\n",
       "                <td><strong>GPR</strong></td><td>b4025</td>\n",
       "            </tr><tr>\n",
       "                <td><strong>Lower bound</strong></td><td>0</td>\n",
       "            </tr><tr>\n",
       "                <td><strong>Upper bound</strong></td><td>0</td>\n",
       "            </tr>\n",
       "        </table>\n",
       "        "
      ],
      "text/plain": [
       "<Reaction PGI at 0x2ba0499ef70>"
      ]
     },
     "execution_count": 11,
     "metadata": {},
     "output_type": "execute_result"
    }
   ],
   "source": [
    "model.reactions.PGI.knock_out()\n",
    "model.reactions.PGI"
   ]
  },
  {
   "cell_type": "markdown",
   "id": "4bca0427",
   "metadata": {},
   "source": [
    "Notice that the knockout method sets both the upper and lower bounds to zero.\n",
    "\n",
    "Simulating using different methods"
   ]
  },
  {
   "cell_type": "code",
   "execution_count": 12,
   "id": "b81ff8de",
   "metadata": {},
   "outputs": [
    {
     "name": "stdout",
     "output_type": "stream",
     "text": [
      "Wall time: 183 ms\n"
     ]
    },
    {
     "data": {
      "text/plain": [
       "0.976129326294727"
      ]
     },
     "execution_count": 12,
     "metadata": {},
     "output_type": "execute_result"
    }
   ],
   "source": [
    "%time fba_knockout_result = fba(model)\n",
    "fba_knockout_result[model.reactions.BIOMASS_Ec_iJO1366_core_53p95M]"
   ]
  },
  {
   "cell_type": "code",
   "execution_count": 13,
   "id": "47253b20",
   "metadata": {},
   "outputs": [
    {
     "name": "stdout",
     "output_type": "stream",
     "text": [
      "Wall time: 220 ms\n"
     ]
    },
    {
     "data": {
      "text/plain": [
       "0.976129326294727"
      ]
     },
     "execution_count": 13,
     "metadata": {},
     "output_type": "execute_result"
    }
   ],
   "source": [
    "%time pfba_knockout_result = pfba(model)\n",
    "pfba_knockout_result[model.reactions.BIOMASS_Ec_iJO1366_core_53p95M]"
   ]
  },
  {
   "cell_type": "code",
   "execution_count": 23,
   "id": "5c07b3ed",
   "metadata": {},
   "outputs": [
    {
     "name": "stdout",
     "output_type": "stream",
     "text": [
      "Downloading Map from https://escher.github.io/1-0-0/6/maps/Escherichia%20coli/iJO1366.Central%20metabolism.json\n"
     ]
    },
    {
     "data": {
      "application/vnd.jupyter.widget-view+json": {
       "model_id": "7da49c96e5b74dc0a8b2de0db827ded9",
       "version_major": 2,
       "version_minor": 0
      },
      "text/plain": [
       "Builder(reaction_data={'EX_co2_e': 19.931467, 'EX_cobalt2_e': -2.4e-05, 'DM_4crsol_c': 0.000218, 'DM_5drib_c':…"
      ]
     },
     "metadata": {},
     "output_type": "display_data"
    }
   ],
   "source": [
    "pfba_knockout_result.display_on_map(\"iJO1366.Central metabolism\")"
   ]
  },
  {
   "cell_type": "markdown",
   "id": "82b37948",
   "metadata": {},
   "source": [
    "MOMA and ROOM rely on a reference (wild-type) flux distribution. We can use the one previously computed."
   ]
  },
  {
   "cell_type": "code",
   "execution_count": 14,
   "id": "d8946b73",
   "metadata": {},
   "outputs": [
    {
     "name": "stdout",
     "output_type": "stream",
     "text": [
      "Wall time: 19.8 s\n"
     ]
    },
    {
     "data": {
      "text/plain": [
       "0.8724093536243474"
      ]
     },
     "execution_count": 14,
     "metadata": {},
     "output_type": "execute_result"
    }
   ],
   "source": [
    "from cameo.flux_analysis.simulation import room, lmoma\n",
    "%time lmoma_result = lmoma(model, reference=pfba_result.fluxes)\n",
    "lmoma_result[model.reactions.BIOMASS_Ec_iJO1366_core_53p95M]"
   ]
  },
  {
   "cell_type": "code",
   "execution_count": 22,
   "id": "f1d6225d",
   "metadata": {},
   "outputs": [
    {
     "data": {
      "text/plain": [
       "EX_cm_e          0.000000\n",
       "EX_cmp_e         0.000000\n",
       "EX_co2_e        19.675223\n",
       "EX_cobalt2_e    -0.000022\n",
       "DM_4crsol_c      0.000195\n",
       "                  ...    \n",
       "RNDR4            0.000000\n",
       "RNDR4b           0.000000\n",
       "RNTR1c2          0.022827\n",
       "RNTR2c2          0.023570\n",
       "RNTR3c2          0.023570\n",
       "Name: fluxes, Length: 2583, dtype: float64"
      ]
     },
     "execution_count": 22,
     "metadata": {},
     "output_type": "execute_result"
    }
   ],
   "source": [
    "lmoma_result.fluxes"
   ]
  },
  {
   "cell_type": "code",
   "execution_count": 24,
   "id": "1202139d",
   "metadata": {},
   "outputs": [
    {
     "name": "stdout",
     "output_type": "stream",
     "text": [
      "Downloading Map from https://escher.github.io/1-0-0/6/maps/Escherichia%20coli/iJO1366.Central%20metabolism.json\n"
     ]
    },
    {
     "data": {
      "application/vnd.jupyter.widget-view+json": {
       "model_id": "054aa8bf2a624886bc95be4454e2ddf4",
       "version_major": 2,
       "version_minor": 0
      },
      "text/plain": [
       "Builder(reaction_data={'EX_co2_e': 19.675223, 'EX_cobalt2_e': -2.2e-05, 'DM_4crsol_c': 0.000195, 'DM_5drib_c':…"
      ]
     },
     "metadata": {},
     "output_type": "display_data"
    }
   ],
   "source": [
    "lmoma_result.display_on_map(\"iJO1366.Central metabolism\")"
   ]
  },
  {
   "cell_type": "markdown",
   "id": "27fe64df",
   "metadata": {},
   "source": [
    "ROOM is a difficult computational problem. If the bounds of the system are not large enough, it can take many hours to simulate. To improve the speed of the simulation and the chances of finding a solution, we increase the bounds."
   ]
  },
  {
   "cell_type": "code",
   "execution_count": 15,
   "id": "a7644bf4",
   "metadata": {},
   "outputs": [],
   "source": [
    "for reaction in model.reactions:\n",
    "    if reaction.upper_bound == 1000:\n",
    "        reaction.upper_bound = 99999999\n",
    "    if reaction.lower_bound == -1000:\n",
    "        reaction.lower_bound = -99999999"
   ]
  },
  {
   "cell_type": "code",
   "execution_count": 18,
   "id": "f59dc35c",
   "metadata": {},
   "outputs": [
    {
     "name": "stdout",
     "output_type": "stream",
     "text": [
      "Wall time: 18.5 s\n"
     ]
    },
    {
     "data": {
      "text/plain": [
       "0.9519006583451691"
      ]
     },
     "execution_count": 18,
     "metadata": {},
     "output_type": "execute_result"
    }
   ],
   "source": [
    "%time room_result = room(model, reference=pfba_result.fluxes)\n",
    "room_data = room_result[model.reactions.BIOMASS_Ec_iJO1366_core_53p95M]\n",
    "room_data"
   ]
  },
  {
   "cell_type": "code",
   "execution_count": 21,
   "id": "0d10d011",
   "metadata": {},
   "outputs": [
    {
     "data": {
      "text/plain": [
       "EX_cm_e          0.000000\n",
       "EX_cmp_e         0.000000\n",
       "EX_co2_e        20.459942\n",
       "EX_cobalt2_e    -0.000024\n",
       "DM_4crsol_c      0.000212\n",
       "                  ...    \n",
       "RNDR4            0.000974\n",
       "RNDR4b           0.000000\n",
       "RNTR1c2          0.024907\n",
       "RNTR2c2          0.024745\n",
       "RNTR3c2          0.024745\n",
       "Name: fluxes, Length: 2583, dtype: float64"
      ]
     },
     "execution_count": 21,
     "metadata": {},
     "output_type": "execute_result"
    }
   ],
   "source": [
    "room_result.fluxes"
   ]
  },
  {
   "cell_type": "code",
   "execution_count": 25,
   "id": "5ffd3c73",
   "metadata": {},
   "outputs": [
    {
     "name": "stdout",
     "output_type": "stream",
     "text": [
      "Downloading Map from https://escher.github.io/1-0-0/6/maps/Escherichia%20coli/iJO1366.Central%20metabolism.json\n"
     ]
    },
    {
     "data": {
      "application/vnd.jupyter.widget-view+json": {
       "model_id": "d41098b8641d4468a1152c90fb8d93b6",
       "version_major": 2,
       "version_minor": 0
      },
      "text/plain": [
       "Builder(reaction_data={'EX_co2_e': 20.459942, 'EX_cobalt2_e': -2.4e-05, 'DM_4crsol_c': 0.000212, 'DM_5drib_c':…"
      ]
     },
     "metadata": {},
     "output_type": "display_data"
    }
   ],
   "source": [
    "room_result.display_on_map(\"iJO1366.Central metabolism\")"
   ]
  },
  {
   "cell_type": "code",
   "execution_count": 26,
   "id": "354ac4a4",
   "metadata": {},
   "outputs": [
    {
     "data": {
      "text/plain": [
       "['__class__',\n",
       " '__delattr__',\n",
       " '__dict__',\n",
       " '__dir__',\n",
       " '__doc__',\n",
       " '__eq__',\n",
       " '__format__',\n",
       " '__ge__',\n",
       " '__getattribute__',\n",
       " '__getitem__',\n",
       " '__gt__',\n",
       " '__hash__',\n",
       " '__init__',\n",
       " '__init_subclass__',\n",
       " '__le__',\n",
       " '__lt__',\n",
       " '__module__',\n",
       " '__ne__',\n",
       " '__new__',\n",
       " '__reduce__',\n",
       " '__reduce_ex__',\n",
       " '__repr__',\n",
       " '__setattr__',\n",
       " '__sizeof__',\n",
       " '__str__',\n",
       " '__subclasshook__',\n",
       " '__weakref__',\n",
       " '_fluxes',\n",
       " '_meta_information',\n",
       " '_objective_value',\n",
       " '_repr_html_',\n",
       " 'data_frame',\n",
       " 'display_on_map',\n",
       " 'fluxes',\n",
       " 'from_solution',\n",
       " 'items',\n",
       " 'iteritems',\n",
       " 'keys',\n",
       " 'meta_information',\n",
       " 'objective_value',\n",
       " 'plot',\n",
       " 'plot_scale',\n",
       " 'values']"
      ]
     },
     "execution_count": 26,
     "metadata": {},
     "output_type": "execute_result"
    }
   ],
   "source": [
    "dir(room_result)"
   ]
  },
  {
   "cell_type": "code",
   "execution_count": 34,
   "id": "9cb19a1b",
   "metadata": {},
   "outputs": [
    {
     "data": {
      "text/plain": [
       "0.9519006583451691"
      ]
     },
     "execution_count": 34,
     "metadata": {},
     "output_type": "execute_result"
    }
   ],
   "source": [
    "room_result.fluxes.BIOMASS_Ec_iJO1366_core_53p95M"
   ]
  },
  {
   "cell_type": "code",
   "execution_count": null,
   "id": "7ca87e70",
   "metadata": {},
   "outputs": [],
   "source": []
  }
 ],
 "metadata": {
  "kernelspec": {
   "display_name": "Python 3 (ipykernel)",
   "language": "python",
   "name": "python3"
  },
  "language_info": {
   "codemirror_mode": {
    "name": "ipython",
    "version": 3
   },
   "file_extension": ".py",
   "mimetype": "text/x-python",
   "name": "python",
   "nbconvert_exporter": "python",
   "pygments_lexer": "ipython3",
   "version": "3.8.12"
  }
 },
 "nbformat": 4,
 "nbformat_minor": 5
}
