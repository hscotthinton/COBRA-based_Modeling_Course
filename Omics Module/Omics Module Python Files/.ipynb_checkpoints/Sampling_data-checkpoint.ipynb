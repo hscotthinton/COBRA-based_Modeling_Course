{
 "cells": [
  {
   "cell_type": "markdown",
   "id": "09b16a8e",
   "metadata": {},
   "source": [
    "# Stage Three: Sampling the context-sensitive  models\n",
    "\n",
    "Modifed version of supplementary material from \"Brunk, Elizabeth,et al. \"Characterizing strain variation in engineered *E. coli* using a multi-omics-based workflow.\" Cell Systems 2.5 (2016): 335-346."
   ]
  },
  {
   "cell_type": "code",
   "execution_count": 1,
   "id": "37a15c34",
   "metadata": {},
   "outputs": [],
   "source": [
    "import cobra.test\n",
    "from cobra.test import create_test_model\n",
    "import numpy as np\n",
    "import pandas as pd\n",
    "from cobra.sampling import sample\n",
    "import matplotlib.pyplot as plt\n",
    "pd.set_option('display.max_rows', 500)\n",
    "\n",
    "#model = create_test_model(\"ecoli\")\n",
    "#model.solver = 'glpk'"
   ]
  },
  {
   "cell_type": "markdown",
   "id": "c8a62cfd",
   "metadata": {},
   "source": [
    "Create lists of models to be sampled"
   ]
  },
  {
   "cell_type": "code",
   "execution_count": 2,
   "id": "dd094245",
   "metadata": {},
   "outputs": [],
   "source": [
    "model_files = ['I1_0_6.json','I1_8_20.json','I1_24_48.json',\n",
    "               'I2_0_6.json','I2_8_20.json','I2_24_48.json',\n",
    "               'I3_0_6.json','I3_8_20.json','I3_24_48.json',\n",
    "               'L1_0_6.json','L1_8_20.json','L1_24_48.json',\n",
    "               'L2_0_6.json','L2_8_20.json','L2_24_48.json',\n",
    "               'L3_0_6.json','L3_8_20.json','L3_24_48.json',\n",
    "               'B1_0_6.json','B1_8_20.json','B1_24_48.json',\n",
    "               'B2_0_6.json','B2_8_20.json','B2_24_48.json',\n",
    "               'DH1_0_6.json','DH1_8_20.json','DH1_24_48.json']\n",
    "\n",
    "model_files_p1 = ['I1_0_6.json','I2_0_6.json','I3_0_6.json',\n",
    "                  'L1_0_6.json','L2_0_6.json','L3_0_6.json',\n",
    "                  'B1_0_6.json','B2_0_6.json','DH1_0_6.json']\n",
    "model_files_p2 = ['I1_8_20.json','I2_8_20.json','I3_8_20.json',\n",
    "                  'L1_8_20.json','L2_8_20.json','L3_8_20.json',\n",
    "                  'B1_8_20.json','B2_8_20.json','DH1_8_20.json']\n",
    "model_files_p3 = ['I1_24_48.json','I2_24_48.json','I3_24_48.json',\n",
    "               'L1_24_48.json','L2_24_48.json','L3_24_48.json',\n",
    "               'B1_24_48.json','B2_24_48.json','DH1_24_48.json']"
   ]
  },
  {
   "cell_type": "markdown",
   "id": "91f7ed9e",
   "metadata": {},
   "source": [
    "## Create a dictionary of phase 1 sampling data"
   ]
  },
  {
   "cell_type": "code",
   "execution_count": 3,
   "id": "0e962d35",
   "metadata": {},
   "outputs": [
    {
     "name": "stdout",
     "output_type": "stream",
     "text": [
      "Model:   I1_0_6.json\n",
      "Using license file c:\\gurobi910\\gurobi.lic\n",
      "Academic license - for non-commercial use only - expires 2022-11-21\n",
      "Model:   I2_0_6.json\n",
      "Model:   I3_0_6.json\n",
      "Model:   L1_0_6.json\n",
      "Model:   L2_0_6.json\n",
      "Model:   L3_0_6.json\n",
      "Model:   B1_0_6.json\n",
      "Model:   B2_0_6.json\n",
      "Model:   DH1_0_6.json\n"
     ]
    }
   ],
   "source": [
    "from cobra.sampling import sample\n",
    "\n",
    "mylegend = ['I1','I2','I3','L1','L2','L3','B1','B2', 'DH1']\n",
    "\n",
    "mcmc_p1_dict = {}\n",
    "i = 0\n",
    "for model in model_files_p1:\n",
    "    mcmc_p1_dict[mylegend[i]] = {}\n",
    "    print('Model:  ', model)\n",
    "    m2 = cobra.io.json.load_json_model(model);\n",
    "    m2.solver = 'glpk'\n",
    "    mcmc_p1_dict[mylegend[i]] =  model_samples = sample(m2, 5000, processes=4)\n",
    "    i += 1"
   ]
  },
  {
   "cell_type": "markdown",
   "id": "f7d14461",
   "metadata": {},
   "source": [
    "## Create a dictionary of phase 2 sampling data"
   ]
  },
  {
   "cell_type": "code",
   "execution_count": 4,
   "id": "47e1c6c0",
   "metadata": {},
   "outputs": [
    {
     "name": "stdout",
     "output_type": "stream",
     "text": [
      "Model:   I1_8_20.json\n",
      "Model:   I2_8_20.json\n",
      "Model:   I3_8_20.json\n",
      "Model:   L1_8_20.json\n",
      "Model:   L2_8_20.json\n",
      "Model:   L3_8_20.json\n",
      "Model:   B1_8_20.json\n",
      "Model:   B2_8_20.json\n",
      "Model:   DH1_8_20.json\n"
     ]
    }
   ],
   "source": [
    "mcmc_p2_dict = {}\n",
    "i = 0\n",
    "for model in model_files_p2:\n",
    "    mcmc_p2_dict[mylegend[i]] = {}\n",
    "    print('Model:  ', model)\n",
    "    m2 = cobra.io.json.load_json_model(model);\n",
    "    m2.solver = 'glpk'\n",
    "    mcmc_p2_dict[mylegend[i]] =  model_samples = sample(m2, 5000, processes=4)\n",
    "    i += 1"
   ]
  },
  {
   "cell_type": "markdown",
   "id": "57301939",
   "metadata": {},
   "source": [
    "## Create a dictionary of phase 3 sampling data"
   ]
  },
  {
   "cell_type": "code",
   "execution_count": 5,
   "id": "70d559d8",
   "metadata": {},
   "outputs": [
    {
     "name": "stdout",
     "output_type": "stream",
     "text": [
      "Model:   I1_24_48.json\n",
      "Read LP format model from file C:\\Users\\A00016~1\\AppData\\Local\\Temp\\2\\tmp4yx5fvyy.lp\n",
      "Reading time = 0.03 seconds\n",
      ": 1830 rows, 5250 columns, 20556 nonzeros\n",
      "Model:   I2_24_48.json\n",
      "Read LP format model from file C:\\Users\\A00016~1\\AppData\\Local\\Temp\\2\\tmpuax6o9au.lp\n",
      "Reading time = 0.03 seconds\n",
      ": 1830 rows, 5250 columns, 20556 nonzeros\n",
      "Model:   I3_24_48.json\n",
      "Read LP format model from file C:\\Users\\A00016~1\\AppData\\Local\\Temp\\2\\tmpj1wo89tk.lp\n",
      "Reading time = 0.03 seconds\n",
      ": 1830 rows, 5250 columns, 20556 nonzeros\n",
      "Model:   L1_24_48.json\n",
      "Read LP format model from file C:\\Users\\A00016~1\\AppData\\Local\\Temp\\2\\tmp8haq9_n4.lp\n",
      "Reading time = 0.03 seconds\n",
      ": 1830 rows, 5250 columns, 20556 nonzeros\n",
      "Model:   L2_24_48.json\n",
      "Read LP format model from file C:\\Users\\A00016~1\\AppData\\Local\\Temp\\2\\tmpm2jki08b.lp\n",
      "Reading time = 0.03 seconds\n",
      ": 1830 rows, 5250 columns, 20556 nonzeros\n",
      "Model:   L3_24_48.json\n",
      "Read LP format model from file C:\\Users\\A00016~1\\AppData\\Local\\Temp\\2\\tmpt95yaxv2.lp\n",
      "Reading time = 0.03 seconds\n",
      ": 1830 rows, 5250 columns, 20556 nonzeros\n",
      "Model:   B1_24_48.json\n",
      "Read LP format model from file C:\\Users\\A00016~1\\AppData\\Local\\Temp\\2\\tmp2o5_83y7.lp\n",
      "Reading time = 0.03 seconds\n",
      ": 1830 rows, 5250 columns, 20556 nonzeros\n",
      "Model:   B2_24_48.json\n",
      "Read LP format model from file C:\\Users\\A00016~1\\AppData\\Local\\Temp\\2\\tmpegh1_ptm.lp\n",
      "Reading time = 0.03 seconds\n",
      ": 1830 rows, 5250 columns, 20556 nonzeros\n",
      "Model:   DH1_24_48.json\n",
      "Read LP format model from file C:\\Users\\A00016~1\\AppData\\Local\\Temp\\2\\tmpjs0h6r70.lp\n",
      "Reading time = 0.03 seconds\n",
      ": 1830 rows, 5250 columns, 20556 nonzeros\n"
     ]
    }
   ],
   "source": [
    "mcmc_p3_dict = {}\n",
    "i = 0\n",
    "for model in model_files_p3:\n",
    "    mcmc_p3_dict[mylegend[i]] = {}\n",
    "    print('Model:  ', model)\n",
    "    m2 = cobra.io.json.load_json_model(model);\n",
    "    mcmc_p3_dict[mylegend[i]] =  model_samples = sample(m2, 5000, processes=4)\n",
    "    i += 1"
   ]
  },
  {
   "cell_type": "markdown",
   "id": "14bcee13",
   "metadata": {},
   "source": [
    "## Save dictionaries"
   ]
  },
  {
   "cell_type": "code",
   "execution_count": 6,
   "id": "2c9bf2bf",
   "metadata": {},
   "outputs": [],
   "source": [
    "import numpy as np\n",
    "\n",
    "np.save('mcmc_p1_dict.npy', mcmc_p1_dict) \n",
    "\n",
    "np.save('mcmc_p2_dict.npy', mcmc_p2_dict) \n",
    "\n",
    "np.save('mcmc_p3_dict.npy', mcmc_p3_dict) \n",
    "\n",
    "# Load\n",
    "#mcmc_p1_dict_read = np.load('mcmc_p1_dict.npy',allow_pickle='TRUE').item()\n",
    "#print(read_dictionary['I1']) # I1\""
   ]
  },
  {
   "cell_type": "code",
   "execution_count": null,
   "id": "a6d1a803",
   "metadata": {},
   "outputs": [],
   "source": []
  }
 ],
 "metadata": {
  "kernelspec": {
   "display_name": "Python 3 (ipykernel)",
   "language": "python",
   "name": "python3"
  },
  "language_info": {
   "codemirror_mode": {
    "name": "ipython",
    "version": 3
   },
   "file_extension": ".py",
   "mimetype": "text/x-python",
   "name": "python",
   "nbconvert_exporter": "python",
   "pygments_lexer": "ipython3",
   "version": "3.8.12"
  }
 },
 "nbformat": 4,
 "nbformat_minor": 5
}
