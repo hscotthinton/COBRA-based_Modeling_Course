{
 "cells": [
  {
   "cell_type": "markdown",
   "id": "b2a591de",
   "metadata": {},
   "source": [
    "# Sampling the condition-sensitive Molt-4 and CCRF-CEM models\n",
    "\n",
    "Aurich, Maike K., et al. \"Prediction of intracellular metabolic states from extracellular metabolomic data.\" Metabolomics 11.3 (2015): 603-619."
   ]
  },
  {
   "cell_type": "code",
   "execution_count": 1,
   "id": "37a15c34",
   "metadata": {},
   "outputs": [],
   "source": [
    "import cobra\n",
    "import numpy as np\n",
    "import pandas as pd\n",
    "from cobra.sampling import sample\n",
    "import matplotlib.pyplot as plt\n",
    "pd.set_option('display.max_rows', 500)"
   ]
  },
  {
   "cell_type": "markdown",
   "id": "c8a62cfd",
   "metadata": {},
   "source": [
    "## Loading the Molt-4 and CCRF-CEM models"
   ]
  },
  {
   "cell_type": "code",
   "execution_count": 2,
   "id": "dd094245",
   "metadata": {},
   "outputs": [],
   "source": [
    "# Molt-4 model\n",
    "molt4_original = cobra.io.load_json_model(\"molt4_pruned_SM_genes.json\")\n",
    "molt4 = molt4_original.copy()\n",
    "\n",
    "# CCRF-CEM model\n",
    "CCRF_original = cobra.io.load_json_model(\"CCRF_pruned_SM_genes.json\")\n",
    "CCRF = CCRF_original.copy()"
   ]
  },
  {
   "cell_type": "code",
   "execution_count": 3,
   "id": "432d139f",
   "metadata": {},
   "outputs": [
    {
     "data": {
      "text/html": [
       "\n",
       "        <table>\n",
       "            <tr>\n",
       "                <td><strong>Name</strong></td>\n",
       "                <td>Molt-4_model</td>\n",
       "            </tr><tr>\n",
       "                <td><strong>Memory address</strong></td>\n",
       "                <td>0x021fa42a9f10</td>\n",
       "            </tr><tr>\n",
       "                <td><strong>Number of metabolites</strong></td>\n",
       "                <td>1312</td>\n",
       "            </tr><tr>\n",
       "                <td><strong>Number of reactions</strong></td>\n",
       "                <td>1914</td>\n",
       "            </tr><tr>\n",
       "                <td><strong>Number of groups</strong></td>\n",
       "                <td>0</td>\n",
       "            </tr><tr>\n",
       "                <td><strong>Objective expression</strong></td>\n",
       "                <td>1.0*biomass_reaction2 - 1.0*biomass_reaction2_reverse_a28fb</td>\n",
       "            </tr><tr>\n",
       "                <td><strong>Compartments</strong></td>\n",
       "                <td>c, l, m, x, e, n, r, g</td>\n",
       "            </tr>\n",
       "          </table>"
      ],
      "text/plain": [
       "<Model Molt-4_model at 0x21fa42a9f10>"
      ]
     },
     "execution_count": 3,
     "metadata": {},
     "output_type": "execute_result"
    }
   ],
   "source": [
    "molt4"
   ]
  },
  {
   "cell_type": "code",
   "execution_count": 4,
   "id": "2ceb441a",
   "metadata": {},
   "outputs": [
    {
     "data": {
      "text/html": [
       "\n",
       "        <table>\n",
       "            <tr>\n",
       "                <td><strong>Name</strong></td>\n",
       "                <td>CCRF-CEM_model</td>\n",
       "            </tr><tr>\n",
       "                <td><strong>Memory address</strong></td>\n",
       "                <td>0x021fca462eb0</td>\n",
       "            </tr><tr>\n",
       "                <td><strong>Number of metabolites</strong></td>\n",
       "                <td>1325</td>\n",
       "            </tr><tr>\n",
       "                <td><strong>Number of reactions</strong></td>\n",
       "                <td>1935</td>\n",
       "            </tr><tr>\n",
       "                <td><strong>Number of groups</strong></td>\n",
       "                <td>0</td>\n",
       "            </tr><tr>\n",
       "                <td><strong>Objective expression</strong></td>\n",
       "                <td>1.0*biomass_reaction2 - 1.0*biomass_reaction2_reverse_a28fb</td>\n",
       "            </tr><tr>\n",
       "                <td><strong>Compartments</strong></td>\n",
       "                <td>c, l, m, x, e, n, r, g</td>\n",
       "            </tr>\n",
       "          </table>"
      ],
      "text/plain": [
       "<Model CCRF-CEM_model at 0x21fca462eb0>"
      ]
     },
     "execution_count": 4,
     "metadata": {},
     "output_type": "execute_result"
    }
   ],
   "source": [
    "CCRF"
   ]
  },
  {
   "cell_type": "markdown",
   "id": "91f7ed9e",
   "metadata": {},
   "source": [
    "## Sampling the models"
   ]
  },
  {
   "cell_type": "code",
   "execution_count": 5,
   "id": "a60779e1",
   "metadata": {},
   "outputs": [
    {
     "name": "stdout",
     "output_type": "stream",
     "text": [
      "Molt-4 sampling complete\n",
      "CCRF-CEM sampling complete\n"
     ]
    }
   ],
   "source": [
    "molt4_samples =  sample(molt4, 10000, processes=4)\n",
    "print('Molt-4 sampling complete')\n",
    "CCRF_samples =  sample(CCRF, 10000, processes=4)\n",
    "print('CCRF-CEM sampling complete')"
   ]
  },
  {
   "cell_type": "markdown",
   "id": "14bcee13",
   "metadata": {},
   "source": [
    "## Save sampling results in dictionaries"
   ]
  },
  {
   "cell_type": "code",
   "execution_count": 6,
   "id": "2c9bf2bf",
   "metadata": {},
   "outputs": [],
   "source": [
    "import numpy as np\n",
    "\n",
    "molt4_CCRF_dict = {'Molt4':molt4_samples, 'CCRF':CCRF_samples}\n",
    "\n",
    "# Save the sampled data\n",
    "np.save('molt4_CCRF_dict.npy', molt4_CCRF_dict) \n",
    "\n",
    "# Load\n",
    "data1 = np.load('molt4_CCRF_dict.npy',allow_pickle='TRUE').item()"
   ]
  },
  {
   "cell_type": "code",
   "execution_count": 7,
   "id": "a6d1a803",
   "metadata": {},
   "outputs": [
    {
     "data": {
      "text/plain": [
       "{'Molt4':       10FTHF5GLUtl  10FTHF5GLUtm  10FTHF6GLUtl  10FTHF6GLUtm  10FTHF7GLUtl  \\\n",
       " 0         0.000018      0.000011      0.000007      0.000006      0.000005   \n",
       " 1         0.000020      0.000011      0.000007      0.000006      0.000015   \n",
       " 2         0.000166      0.000045      0.000030      0.000029      0.000015   \n",
       " 3         0.000131      0.000010      0.000030      0.000029      0.000015   \n",
       " 4         0.000131      0.000010      0.000030      0.000029      0.000015   \n",
       " ...            ...           ...           ...           ...           ...   \n",
       " 9995      0.084676      0.147782      0.148132      0.060672      0.013734   \n",
       " 9996      0.061002      0.122756      0.148732      0.061275      0.013722   \n",
       " 9997      0.060874      0.122627      0.148573      0.061153      0.013552   \n",
       " 9998      0.061362      0.122753      0.148693      0.061243      0.013691   \n",
       " 9999      0.079077      0.122728      0.152361      0.064917      0.013662   \n",
       " \n",
       "       10FTHF7GLUtm  10FTHFtl  10FTHFtm     13DAMPPOX   1PPDCRp  ...  \\\n",
       " 0         0.000002 -0.000030 -0.000207  5.971175e-07  0.000066  ...   \n",
       " 1         0.000012 -0.000043 -0.000201  5.970652e-07  0.000068  ...   \n",
       " 2         0.000012 -0.000212 -0.000137  4.258145e-07  0.000020  ...   \n",
       " 3         0.000012 -0.000177 -0.000344  4.258301e-07  0.000021  ...   \n",
       " 4         0.000012 -0.000177 -0.001431  3.975057e-07  0.000031  ...   \n",
       " ...            ...       ...       ...           ...       ...  ...   \n",
       " 9995      0.002353 -0.246541 -0.136267  3.557873e-02  0.036408  ...   \n",
       " 9996      0.002348 -0.223456 -0.173429  3.413730e-02  0.032344  ...   \n",
       " 9997      0.002283 -0.222998 -0.153792  3.475227e-02  0.035742  ...   \n",
       " 9998      0.002336 -0.223746 -0.174275  3.479349e-02  0.035096  ...   \n",
       " 9999      0.002325 -0.245100 -0.175113  3.478646e-02  0.034780  ...   \n",
       " \n",
       "         VITD3t2    VITD3tm   VITD3tm3      XYLK  XYLTD_Dr     XYLUR  \\\n",
       " 0      0.000238   0.000309   0.000309  0.000054  0.000056  0.000056   \n",
       " 1      0.000084   0.000155   0.000155  0.000036  0.000038  0.000038   \n",
       " 2      0.000084   0.000155   0.000155  0.000022  0.000024  0.000024   \n",
       " 3      0.000084   0.000155   0.000155  0.000082  0.000085  0.000085   \n",
       " 4      0.000083   0.000154   0.000154  0.000082  0.004726  0.004726   \n",
       " ...         ...        ...        ...       ...       ...       ...   \n",
       " 9995  24.191990  32.238434  32.238434  0.292498  0.304595  0.304595   \n",
       " 9996  24.349718  32.396125  32.396125  0.291262  0.303353  0.303353   \n",
       " 9997  24.303975  32.362476  32.362476  0.301115  0.309843  0.309843   \n",
       " 9998  25.097329  33.156199  33.156199  0.310922  0.319723  0.319723   \n",
       " 9999  25.023979  33.082769  33.082769  0.313360  0.322111  0.322111   \n",
       " \n",
       "       sink_citr-L  sink_pre_prot(er)  biomass_reaction2  DM_adprbp[c]  \n",
       " 0        0.000024          -0.136844           0.028296  9.444332e-06  \n",
       " 1        0.000037          -0.135564           0.028296  1.666448e-06  \n",
       " 2        0.000040          -0.135566           0.028296  3.774702e-06  \n",
       " 3        0.000050          -0.135572           0.028296  1.698111e-06  \n",
       " 4        0.000053          -0.135487           0.028296  8.080979e-07  \n",
       " ...           ...                ...                ...           ...  \n",
       " 9995     0.052986          -0.041045           0.031624  3.017358e-02  \n",
       " 9996     0.058147          -0.040699           0.031837  2.989380e-02  \n",
       " 9997     0.070631          -0.042856           0.032098  3.059817e-02  \n",
       " 9998     0.071595          -0.043724           0.031987  2.064343e-02  \n",
       " 9999     0.064762          -0.043678           0.032014  2.036109e-02  \n",
       " \n",
       " [10000 rows x 1914 columns],\n",
       " 'CCRF':       10FTHF5GLUtl  10FTHF5GLUtm  10FTHF6GLUtl  10FTHF6GLUtm  10FTHF7GLUtl  \\\n",
       " 0         0.000028      0.000025      0.000010      0.000008      0.000009   \n",
       " 1         0.000025      0.000023      0.000010      0.000008      0.000009   \n",
       " 2         0.000025      0.000023      0.000010      0.000008      0.000009   \n",
       " 3         0.000826      0.000034      0.000010      0.000008      0.000009   \n",
       " 4         0.002288      0.001496      0.000010      0.000008      0.000009   \n",
       " ...            ...           ...           ...           ...           ...   \n",
       " 9995      0.216207      0.250387      0.027836      0.015784      0.047427   \n",
       " 9996      0.215898      0.250143      0.027024      0.015242      0.046635   \n",
       " 9997      0.215806      0.250059      0.026921      0.015173      0.046534   \n",
       " 9998      0.214000      0.248248      0.046888      0.035123      0.046584   \n",
       " 9999      0.214181      0.248414      0.047091      0.035258      0.078478   \n",
       " \n",
       "       10FTHF7GLUtm  10FTHFtl  10FTHFtm  13DAMPPOX   1PPDCRp  ...    VITD3t2  \\\n",
       " 0         0.000004 -0.000047 -0.224384   0.000001  0.000006  ...   0.000385   \n",
       " 1         0.000003 -0.000044 -0.221993   0.000001  0.000091  ...   0.000378   \n",
       " 2         0.000003 -0.000044 -0.220793   0.000029  0.000091  ...   0.000378   \n",
       " 3         0.000003 -0.000845 -0.228219   0.000041  0.000130  ...   0.000378   \n",
       " 4         0.000003 -0.002307 -0.226383   0.000168  0.000199  ...   0.000378   \n",
       " ...            ...       ...       ...        ...       ...  ...        ...   \n",
       " 9995      0.011989 -0.291470 -0.142815   0.004774  0.017636  ...  31.129620   \n",
       " 9996      0.011574 -0.289557 -0.111572   0.004663  0.017855  ...  30.883580   \n",
       " 9997      0.011521 -0.289262 -0.135479   0.004649  0.017790  ...  30.852375   \n",
       " 9998      0.011547 -0.307471 -0.118572   0.004498  0.019742  ...  30.867756   \n",
       " 9999      0.043347 -0.339749 -0.133263   0.004526  0.019493  ...  30.929383   \n",
       " \n",
       "         VITD3tm   VITD3tm3      XYLK  XYLTD_Dr     XYLUR  sink_citr-L  \\\n",
       " 0      0.000308   0.000308  0.000080  0.000081  0.000081     0.034445   \n",
       " 1      0.000302   0.000302  0.000650  0.000651  0.000651     0.024752   \n",
       " 2      0.000302   0.000302  0.010692  0.010694  0.010694     0.025440   \n",
       " 3      0.000302   0.000302  0.010751  0.010754  0.010754     0.018698   \n",
       " 4      0.000302   0.000302  0.010751  0.010757  0.010757     0.018895   \n",
       " ...         ...        ...       ...       ...       ...          ...   \n",
       " 9995  30.795463  30.795463  0.127586  0.135854  0.135854     0.322026   \n",
       " 9996  30.607530  30.607530  0.123297  0.131040  0.131040     0.324031   \n",
       " 9997  30.583690  30.583690  0.149086  0.156803  0.156803     0.321286   \n",
       " 9998  30.595439  30.595439  0.139358  0.147096  0.147096     0.331103   \n",
       " 9999  30.642530  30.642530  0.159267  0.167137  0.167137     0.315051   \n",
       " \n",
       "       sink_pre_prot(er)  biomass_reaction2  DM_adprbp[c]  \n",
       " 0             -0.001386           0.025209      0.008469  \n",
       " 1             -0.001546           0.025209      0.008539  \n",
       " 2             -0.001647           0.025208      0.008470  \n",
       " 3             -0.003236           0.025211      0.008538  \n",
       " 4             -0.003293           0.025209      0.007721  \n",
       " ...                 ...                ...           ...  \n",
       " 9995          -0.108766           0.030304      0.009649  \n",
       " 9996          -0.107276           0.030358      0.011793  \n",
       " 9997          -0.110560           0.030249      0.008627  \n",
       " 9998          -0.108165           0.030302      0.007360  \n",
       " 9999          -0.111375           0.030059      0.018275  \n",
       " \n",
       " [10000 rows x 1935 columns]}"
      ]
     },
     "execution_count": 7,
     "metadata": {},
     "output_type": "execute_result"
    }
   ],
   "source": [
    "data1"
   ]
  }
 ],
 "metadata": {
  "kernelspec": {
   "display_name": "Python 3 (ipykernel)",
   "language": "python",
   "name": "python3"
  },
  "language_info": {
   "codemirror_mode": {
    "name": "ipython",
    "version": 3
   },
   "file_extension": ".py",
   "mimetype": "text/x-python",
   "name": "python",
   "nbconvert_exporter": "python",
   "pygments_lexer": "ipython3",
   "version": "3.9.12"
  }
 },
 "nbformat": 4,
 "nbformat_minor": 5
}
