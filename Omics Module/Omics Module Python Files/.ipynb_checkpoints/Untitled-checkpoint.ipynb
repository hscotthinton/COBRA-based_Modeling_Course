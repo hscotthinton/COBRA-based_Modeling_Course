{
 "cells": [
  {
   "cell_type": "code",
   "execution_count": 48,
   "id": "ba2af962",
   "metadata": {},
   "outputs": [
    {
     "name": "stdout",
     "output_type": "stream",
     "text": [
      "df1: \n",
      "    List1\n",
      "0      0\n",
      "1      5\n",
      "2      9\n",
      "3     13\n",
      "4      4\n",
      "5      7\n",
      "6      6\n",
      "7     11\n",
      "8     15 \n",
      "\n",
      "df2: \n",
      "    List2\n",
      "0      8\n",
      "1      7\n",
      "2     14\n",
      "3      5\n",
      "4     10\n",
      "5      3\n",
      "6      2\n",
      "7     12\n",
      "8      1\n"
     ]
    }
   ],
   "source": [
    "# import pandas as pd\n",
    "import pandas as pd\n",
    "import numpy as np\n",
    "\n",
    "# list of strings\n",
    "#lst1 = [0, 1, 2, 3, 4, 5, 6, 7, 8]\n",
    "#lst2 = [8, 7, 6, 5, 4, 3, 2, 1, 0]\n",
    "\n",
    "lst1 = [0, 5, 9, 13, 4, 7, 6, 11, 15]\n",
    "lst2 = [8, 7, 14, 5, 10, 3, 2, 12, 1]\n",
    "\n",
    "# Calling DataFrame constructor on list\n",
    "df1= pd.DataFrame(lst1)\n",
    "df1.columns = ['List1']\n",
    "df2 = pd.DataFrame(lst2)\n",
    "df2.columns = ['List2']\n",
    "print('df1: \\n',df1,'\\n\\ndf2: \\n', df2)\n"
   ]
  },
  {
   "cell_type": "code",
   "execution_count": 49,
   "id": "44e60185",
   "metadata": {},
   "outputs": [
    {
     "data": {
      "text/plain": [
       "7.777777777777778"
      ]
     },
     "execution_count": 49,
     "metadata": {},
     "output_type": "execute_result"
    }
   ],
   "source": [
    "df1['List1'].mean()"
   ]
  },
  {
   "cell_type": "code",
   "execution_count": 50,
   "id": "96c3ebf4",
   "metadata": {},
   "outputs": [
    {
     "data": {
      "text/plain": [
       "6.888888888888889"
      ]
     },
     "execution_count": 50,
     "metadata": {},
     "output_type": "execute_result"
    }
   ],
   "source": [
    "df2['List2'].mean()"
   ]
  },
  {
   "cell_type": "code",
   "execution_count": 15,
   "id": "cead729d",
   "metadata": {},
   "outputs": [
    {
     "data": {
      "text/html": [
       "<div>\n",
       "<style scoped>\n",
       "    .dataframe tbody tr th:only-of-type {\n",
       "        vertical-align: middle;\n",
       "    }\n",
       "\n",
       "    .dataframe tbody tr th {\n",
       "        vertical-align: top;\n",
       "    }\n",
       "\n",
       "    .dataframe thead th {\n",
       "        text-align: right;\n",
       "    }\n",
       "</style>\n",
       "<table border=\"1\" class=\"dataframe\">\n",
       "  <thead>\n",
       "    <tr style=\"text-align: right;\">\n",
       "      <th></th>\n",
       "      <th>0</th>\n",
       "    </tr>\n",
       "  </thead>\n",
       "  <tbody>\n",
       "    <tr>\n",
       "      <th>0</th>\n",
       "      <td>-8</td>\n",
       "    </tr>\n",
       "    <tr>\n",
       "      <th>1</th>\n",
       "      <td>-2</td>\n",
       "    </tr>\n",
       "    <tr>\n",
       "      <th>2</th>\n",
       "      <td>-5</td>\n",
       "    </tr>\n",
       "    <tr>\n",
       "      <th>3</th>\n",
       "      <td>8</td>\n",
       "    </tr>\n",
       "    <tr>\n",
       "      <th>4</th>\n",
       "      <td>-6</td>\n",
       "    </tr>\n",
       "    <tr>\n",
       "      <th>5</th>\n",
       "      <td>4</td>\n",
       "    </tr>\n",
       "    <tr>\n",
       "      <th>6</th>\n",
       "      <td>4</td>\n",
       "    </tr>\n",
       "    <tr>\n",
       "      <th>7</th>\n",
       "      <td>-1</td>\n",
       "    </tr>\n",
       "    <tr>\n",
       "      <th>8</th>\n",
       "      <td>14</td>\n",
       "    </tr>\n",
       "  </tbody>\n",
       "</table>\n",
       "</div>"
      ],
      "text/plain": [
       "    0\n",
       "0  -8\n",
       "1  -2\n",
       "2  -5\n",
       "3   8\n",
       "4  -6\n",
       "5   4\n",
       "6   4\n",
       "7  -1\n",
       "8  14"
      ]
     },
     "execution_count": 15,
     "metadata": {},
     "output_type": "execute_result"
    }
   ],
   "source": [
    "df3 = df1-df2\n",
    "df3"
   ]
  },
  {
   "cell_type": "code",
   "execution_count": 27,
   "id": "85cd5995",
   "metadata": {},
   "outputs": [
    {
     "data": {
      "text/html": [
       "<div>\n",
       "<style scoped>\n",
       "    .dataframe tbody tr th:only-of-type {\n",
       "        vertical-align: middle;\n",
       "    }\n",
       "\n",
       "    .dataframe tbody tr th {\n",
       "        vertical-align: top;\n",
       "    }\n",
       "\n",
       "    .dataframe thead th {\n",
       "        text-align: right;\n",
       "    }\n",
       "</style>\n",
       "<table border=\"1\" class=\"dataframe\">\n",
       "  <thead>\n",
       "    <tr style=\"text-align: right;\">\n",
       "      <th></th>\n",
       "      <th>0</th>\n",
       "    </tr>\n",
       "  </thead>\n",
       "  <tbody>\n",
       "    <tr>\n",
       "      <th>4</th>\n",
       "      <td>-6</td>\n",
       "    </tr>\n",
       "    <tr>\n",
       "      <th>5</th>\n",
       "      <td>4</td>\n",
       "    </tr>\n",
       "    <tr>\n",
       "      <th>6</th>\n",
       "      <td>4</td>\n",
       "    </tr>\n",
       "    <tr>\n",
       "      <th>1</th>\n",
       "      <td>-2</td>\n",
       "    </tr>\n",
       "    <tr>\n",
       "      <th>8</th>\n",
       "      <td>14</td>\n",
       "    </tr>\n",
       "    <tr>\n",
       "      <th>3</th>\n",
       "      <td>8</td>\n",
       "    </tr>\n",
       "    <tr>\n",
       "      <th>7</th>\n",
       "      <td>-1</td>\n",
       "    </tr>\n",
       "    <tr>\n",
       "      <th>0</th>\n",
       "      <td>-8</td>\n",
       "    </tr>\n",
       "    <tr>\n",
       "      <th>2</th>\n",
       "      <td>-5</td>\n",
       "    </tr>\n",
       "  </tbody>\n",
       "</table>\n",
       "</div>"
      ],
      "text/plain": [
       "    0\n",
       "4  -6\n",
       "5   4\n",
       "6   4\n",
       "1  -2\n",
       "8  14\n",
       "3   8\n",
       "7  -1\n",
       "0  -8\n",
       "2  -5"
      ]
     },
     "execution_count": 27,
     "metadata": {},
     "output_type": "execute_result"
    }
   ],
   "source": [
    "import numpy as np\n",
    "cond2 = df3.reindex(np.random.permutation(df3.index))\n",
    "cond2"
   ]
  },
  {
   "cell_type": "code",
   "execution_count": 18,
   "id": "ddb3cbe3",
   "metadata": {},
   "outputs": [
    {
     "name": "stdout",
     "output_type": "stream",
     "text": [
      "xymean =  0    0.888889\n",
      "dtype: float64 c12mean =  0    0.888889\n",
      "dtype: float64\n"
     ]
    }
   ],
   "source": [
    "condx = df1\n",
    "condy = df2\n",
    "cond1 = df1.reindex(np.random.permutation(df1.index))\n",
    "cond2 = df2.reindex(np.random.permutation(df2.index))\n",
    "\n",
    "condxy = condx -condy\n",
    "cond12 = cond1 - cond2\n",
    "\n",
    "xymean = condxy.mean()\n",
    "c12mean = cond12.mean()\n",
    "\n",
    "print ('xymean = ',xymean, 'c12mean = ',c12mean)"
   ]
  },
  {
   "cell_type": "code",
   "execution_count": 5,
   "id": "2ba0004c",
   "metadata": {},
   "outputs": [
    {
     "data": {
      "text/plain": [
       "10"
      ]
     },
     "execution_count": 5,
     "metadata": {},
     "output_type": "execute_result"
    }
   ],
   "source": [
    "z = cond2\n",
    "x = len(z[z<0.0]) + 1\n",
    "x"
   ]
  },
  {
   "cell_type": "code",
   "execution_count": 6,
   "id": "669e76a4",
   "metadata": {},
   "outputs": [
    {
     "data": {
      "text/html": [
       "<div>\n",
       "<style scoped>\n",
       "    .dataframe tbody tr th:only-of-type {\n",
       "        vertical-align: middle;\n",
       "    }\n",
       "\n",
       "    .dataframe tbody tr th {\n",
       "        vertical-align: top;\n",
       "    }\n",
       "\n",
       "    .dataframe thead th {\n",
       "        text-align: right;\n",
       "    }\n",
       "</style>\n",
       "<table border=\"1\" class=\"dataframe\">\n",
       "  <thead>\n",
       "    <tr style=\"text-align: right;\">\n",
       "      <th></th>\n",
       "      <th>0</th>\n",
       "    </tr>\n",
       "  </thead>\n",
       "  <tbody>\n",
       "    <tr>\n",
       "      <th>4</th>\n",
       "      <td>4.0</td>\n",
       "    </tr>\n",
       "    <tr>\n",
       "      <th>2</th>\n",
       "      <td>6.0</td>\n",
       "    </tr>\n",
       "    <tr>\n",
       "      <th>3</th>\n",
       "      <td>5.0</td>\n",
       "    </tr>\n",
       "    <tr>\n",
       "      <th>5</th>\n",
       "      <td>3.0</td>\n",
       "    </tr>\n",
       "    <tr>\n",
       "      <th>1</th>\n",
       "      <td>7.0</td>\n",
       "    </tr>\n",
       "    <tr>\n",
       "      <th>0</th>\n",
       "      <td>8.0</td>\n",
       "    </tr>\n",
       "    <tr>\n",
       "      <th>6</th>\n",
       "      <td>2.0</td>\n",
       "    </tr>\n",
       "    <tr>\n",
       "      <th>7</th>\n",
       "      <td>1.0</td>\n",
       "    </tr>\n",
       "  </tbody>\n",
       "</table>\n",
       "</div>"
      ],
      "text/plain": [
       "     0\n",
       "4  4.0\n",
       "2  6.0\n",
       "3  5.0\n",
       "5  3.0\n",
       "1  7.0\n",
       "0  8.0\n",
       "6  2.0\n",
       "7  1.0"
      ]
     },
     "execution_count": 6,
     "metadata": {},
     "output_type": "execute_result"
    }
   ],
   "source": [
    "z[z>0.0].dropna()"
   ]
  },
  {
   "cell_type": "code",
   "execution_count": 7,
   "id": "dcc40c0a",
   "metadata": {},
   "outputs": [
    {
     "data": {
      "text/plain": [
       "9"
      ]
     },
     "execution_count": 7,
     "metadata": {},
     "output_type": "execute_result"
    }
   ],
   "source": [
    "len(z[z>0.0].dropna()) + 1"
   ]
  },
  {
   "cell_type": "code",
   "execution_count": 8,
   "id": "63edafd4",
   "metadata": {},
   "outputs": [],
   "source": [
    "mcmc_p1_dict = np.load('mcmc_p1_dict.npy',allow_pickle='TRUE').item()"
   ]
  },
  {
   "cell_type": "code",
   "execution_count": 9,
   "id": "d6219712",
   "metadata": {},
   "outputs": [
    {
     "name": "stdout",
     "output_type": "stream",
     "text": [
      "WT mean =  -0.00010471919753090411    WT standard deviation =  1.578946086184413e-06\n"
     ]
    },
    {
     "data": {
      "text/plain": [
       "<AxesSubplot:ylabel='Frequency'>"
      ]
     },
     "execution_count": 9,
     "metadata": {},
     "output_type": "execute_result"
    },
    {
     "data": {
      "image/png": "[encoded data removed]",
      "text/plain": [
       "<Figure size 1080x360 with 1 Axes>"
      ]
     },
     "metadata": {
      "needs_background": "light"
     },
     "output_type": "display_data"
    }
   ],
   "source": [
    "sampleWT = mcmc_p1_dict['DH1']['EX_4c2me_e']\n",
    "meanWT = sampleWT.mean()\n",
    "stdWT = sampleWT.std()\n",
    "print('WT mean = ',meanWT, '   WT standard deviation = ', stdWT)\n",
    "sampleWT.plot.hist(bins = 100,histtype = 'step', figsize=(15,5))"
   ]
  },
  {
   "cell_type": "code",
   "execution_count": 10,
   "id": "b19f246a",
   "metadata": {},
   "outputs": [
    {
     "name": "stdout",
     "output_type": "stream",
     "text": [
      "I1 mean =  0.00023    I1 standard deviation =  1.3931479411017247e-18\n"
     ]
    },
    {
     "data": {
      "text/plain": [
       "<AxesSubplot:ylabel='Frequency'>"
      ]
     },
     "execution_count": 10,
     "metadata": {},
     "output_type": "execute_result"
    },
    {
     "data": {
      "image/png": "[encoded data removed]",
      "text/plain": [
       "<Figure size 1080x360 with 1 Axes>"
      ]
     },
     "metadata": {
      "needs_background": "light"
     },
     "output_type": "display_data"
    }
   ],
   "source": [
    "sampleI1 = mcmc_p1_dict['I1']['EX_4c2me_e']\n",
    "meanI1 = sampleI1.mean().round(5)\n",
    "stdI1 = sampleI1.std()\n",
    "print('I1 mean = ',meanI1, '   I1 standard deviation = ', stdI1)\n",
    "sampleI1.plot.hist(bins = 100,histtype = 'step', figsize=(15,5))"
   ]
  },
  {
   "cell_type": "code",
   "execution_count": 11,
   "id": "63a38109",
   "metadata": {},
   "outputs": [],
   "source": [
    "sampleC = sampleI1 - sampleWT"
   ]
  },
  {
   "cell_type": "code",
   "execution_count": 12,
   "id": "13495cd0",
   "metadata": {},
   "outputs": [
    {
     "name": "stdout",
     "output_type": "stream",
     "text": [
      "Combined mean =  0.00033257528869689565    Combined standard deviation =  1.5789460861842592e-06\n"
     ]
    },
    {
     "data": {
      "text/plain": [
       "<AxesSubplot:ylabel='Frequency'>"
      ]
     },
     "execution_count": 12,
     "metadata": {},
     "output_type": "execute_result"
    },
    {
     "data": {
      "image/png": "[encoded data removed]",
      "text/plain": [
       "<Figure size 1080x360 with 1 Axes>"
      ]
     },
     "metadata": {
      "needs_background": "light"
     },
     "output_type": "display_data"
    }
   ],
   "source": [
    "meanC = sampleC.mean()\n",
    "stdC = sampleC.std()\n",
    "print('Combined mean = ',meanC, '   Combined standard deviation = ', stdC)\n",
    "sampleC.plot.hist(bins = 100,histtype = 'step', figsize=(15,5))"
   ]
  },
  {
   "cell_type": "code",
   "execution_count": 13,
   "id": "a8117cb9",
   "metadata": {},
   "outputs": [
    {
     "data": {
      "text/plain": [
       "276.95339952014416"
      ]
     },
     "execution_count": 13,
     "metadata": {},
     "output_type": "execute_result"
    }
   ],
   "source": [
    "z = (meanC - meanWT)/stdWT\n",
    "z"
   ]
  },
  {
   "cell_type": "code",
   "execution_count": null,
   "id": "0542919f",
   "metadata": {},
   "outputs": [],
   "source": []
  }
 ],
 "metadata": {
  "kernelspec": {
   "display_name": "Python 3 (ipykernel)",
   "language": "python",
   "name": "python3"
  },
  "language_info": {
   "codemirror_mode": {
    "name": "ipython",
    "version": 3
   },
   "file_extension": ".py",
   "mimetype": "text/x-python",
   "name": "python",
   "nbconvert_exporter": "python",
   "pygments_lexer": "ipython3",
   "version": "3.8.12"
  }
 },
 "nbformat": 4,
 "nbformat_minor": 5
}
