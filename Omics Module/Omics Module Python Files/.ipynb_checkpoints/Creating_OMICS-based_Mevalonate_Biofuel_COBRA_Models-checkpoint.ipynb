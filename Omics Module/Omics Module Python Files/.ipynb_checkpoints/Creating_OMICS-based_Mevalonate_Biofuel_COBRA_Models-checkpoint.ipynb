{
 "cells": [
  {
   "cell_type": "markdown",
   "id": "fbd0cb46",
   "metadata": {},
   "source": [
    "# Creating OMICS-based Mevalonate Biofuel COBRA  Models\n",
    "\n",
    "Adapted from \"Stage_three_GEM notebook\" by Brunck [1]"
   ]
  },
  {
   "cell_type": "markdown",
   "id": "e5fce210",
   "metadata": {},
   "source": [
    "### Load the appropriate Python packages"
   ]
  },
  {
   "cell_type": "code",
   "execution_count": 1,
   "id": "a861130c",
   "metadata": {},
   "outputs": [],
   "source": [
    "import cobra.test\n",
    "from cobrapy_bigg_client import client\n",
    "\n",
    "# Panda python module for dataframe and data storage/manipulation\n",
    "import pandas as pd\n",
    "pd.set_option('mode.use_inf_as_na',True)\n",
    "pd.set_option('display.max_rows', 500)\n",
    "pd.set_option('display.max_columns', 999)\n",
    "pd.set_option('precision', 3)\n",
    "\n",
    "from contextlib import contextmanager\n",
    "import sys, os\n",
    " \n",
    "@contextmanager\n",
    "def suppress_stdout():\n",
    "    with open(os.devnull, \"w\") as devnull:\n",
    "        old_stdout = sys.stdout\n",
    "        sys.stdout = devnull\n",
    "        try:  \n",
    "            yield\n",
    "        finally:\n",
    "            sys.stdout = old_stdout"
   ]
  },
  {
   "cell_type": "markdown",
   "id": "15043c9b",
   "metadata": {},
   "source": [
    "## Load the \"iJO1366 Mevalonate Pathways\" model"
   ]
  },
  {
   "cell_type": "code",
   "execution_count": null,
   "id": "c8a12c36",
   "metadata": {},
   "outputs": [
    {
     "name": "stdout",
     "output_type": "stream",
     "text": [
      "Using license file c:\\gurobi910\\gurobi.lic\n",
      "Academic license - for non-commercial use only - expires 2022-11-21\n"
     ]
    }
   ],
   "source": [
    "model_orig = cobra.io.load_json_model(\"iJO1366_mevalonate_pathways.json\");\n",
    "model_orig.solver = 'glpk'\n",
    "model = model_orig.copy();"
   ]
  },
  {
   "cell_type": "code",
   "execution_count": null,
   "id": "c7f8ec99",
   "metadata": {},
   "outputs": [],
   "source": [
    "model.summary()"
   ]
  },
  {
   "cell_type": "markdown",
   "id": "5b74a274",
   "metadata": {},
   "source": [
    "Note that none of the biofuels are produced in the default model!"
   ]
  },
  {
   "cell_type": "markdown",
   "id": "46a08a86",
   "metadata": {},
   "source": [
    "## Load the OMICs general information on metabolites and reactions"
   ]
  },
  {
   "cell_type": "code",
   "execution_count": null,
   "id": "116acc4e",
   "metadata": {},
   "outputs": [],
   "source": [
    "# Adapted from \"Stage_three_GEM notebook\" by Brunck [1]\n",
    "\n",
    "# make a mapping to header entries correspoding to keys of SteadyState_Dict to M reactIDs\n",
    "\n",
    "rxn_name_map = {'Pyruvate': 'EX_pyr_e', 'biomass': 'Ec_biomass_iJO1366_core_53p95M','Acetyl-CoA':'EX_accoa_e', 'Glucose':'EX_glc_e', 'Mev-P':'EX_5pmev_e', 'GGPP':'EX_GGDP_e', 'Succinate':'EX_succ_e', 'HMG-coA':'EX_hmgcoa_e', 'hmbdp':'EX_h2mb4p_e', 'IPP/DMAPP':'IPP/DMAPP', 'Ethanol':'EX_etoh_e', 'Formate':'EX_for_e', 'Mevalonate':'EX_mev_e', 'Isopentenol':'EX_ipoh_e', 'IP':'EX_ip_e', 'dxyl5p':'EX_dxyl5p_e', 'FPP':'EX_frdp_e', 'Lactate':'EX_lac__D_e', 'GPP':'EX_grdp_e', '2mecdp':'EX_2mecdp_e', '4c2me':'EX_4c2me_e', 'Acetate':'EX_ac_e'}\n",
    "\n",
    "##########################################################################################\n",
    "\n",
    "# load in CSV files with info corresponding to new metabolites:\n",
    "met_data = pd.read_csv('./model_files/metabolites.csv')\n",
    "# load in CSV files with info corresponding to new reactions:\n",
    "rxn_data = pd.read_csv('./model_files/reactions.csv')\n",
    "# load in CSV files with info corresponding to new reactions bounds, reversibility, subsystems:\n",
    "info_data = pd.read_csv('./model_files/info_reactions.csv')\n",
    "\n",
    "##########################################################################################\n",
    "\n",
    "# tell pandas to not fill in empty cells with \"nan\" - just leave them empty\n",
    "rxn_data = rxn_data.fillna('')\n",
    "info_data = info_data.fillna('')\n",
    "\n",
    "new_metabolites={}\n",
    "new_reactions={}\n",
    "bounds={}\n",
    "subsystems={}\n",
    "\n",
    "# makes a dictionary of formulas, names corresponding to keys of *NEW* metabolite abbreviations\n",
    "for i in range(0,len(met_data.iloc[:,0])):\n",
    "    met = met_data.iloc[i,0]\n",
    "    new_metabolites[met]={}\n",
    "    new_metabolites[met]['formula']= met_data.iloc[i,1]\n",
    "    new_metabolites[met]['name']= met_data.iloc[i,2]\n",
    "\n",
    "met = list(rxn_data.columns.values)  # list of all metabolites involved in new pathway\n",
    "reactions=[]    # list of all new reactions \n",
    "for i in range(0,len(rxn_data.iloc[:,0])):\n",
    "    reactions.append(str(rxn_data.iloc[i,0]))\n",
    "\n",
    "# makes a dictionary of stoichiometries corresponding to reactions\n",
    "for i in range(0,len(reactions)):\n",
    "    new_reactions[reactions[i]]={}    \n",
    "    for j in range(1,len(met)):\n",
    "        stoich = rxn_data.iloc[i,j]\n",
    "        if stoich != '':\n",
    "            #print reactions[i], met[j], rxn_data.ix[i,j]#, type(stoich)\n",
    "            new_reactions[reactions[i]][met[j]]= rxn_data.iloc[i,j]   \n",
    "\n",
    "# makes a dictionary of (1) bounds (2) subsystems corresponding to reactions\n",
    "for i in range(0,len(rxn_data.iloc[:,0])):\n",
    "    subsystems[reactions[i]] = info_data.iloc[i,6]\n",
    "    bounds[reactions[i]]={}\n",
    "    bounds[reactions[i]]= float(info_data.iloc[i,9]), float(info_data.iloc[i,10])\n",
    "    \n",
    "#print(bounds, subsystems)\n",
    "\n",
    "mylegend = ['I1','I2','I3','L1','L2','L3','B1','B2', 'DH1']"
   ]
  },
  {
   "cell_type": "code",
   "execution_count": null,
   "id": "3cb72f3a",
   "metadata": {
    "scrolled": true
   },
   "outputs": [],
   "source": [
    "met_data"
   ]
  },
  {
   "cell_type": "code",
   "execution_count": null,
   "id": "75cf88a0",
   "metadata": {
    "scrolled": true
   },
   "outputs": [],
   "source": [
    "rxn_data"
   ]
  },
  {
   "cell_type": "code",
   "execution_count": null,
   "id": "aa62aa06",
   "metadata": {},
   "outputs": [],
   "source": [
    "info_data"
   ]
  },
  {
   "cell_type": "markdown",
   "id": "42e7b8b7",
   "metadata": {},
   "source": [
    "## Load the OMICs data"
   ]
  },
  {
   "cell_type": "code",
   "execution_count": null,
   "id": "a779c280",
   "metadata": {},
   "outputs": [],
   "source": [
    "# Adapted from \"Stage_three_GEM notebook\" by Brunck [1]\n",
    "\n",
    "# All this data in these files needs to have the column entitled \"lim_c\" changed to \"lim_e\"\n",
    "\n",
    "# isopentenol producing strains\n",
    "I1_data = pd.read_csv('./data/I1.csv',index_col=0)\n",
    "I2_data = pd.read_csv('./data/I2.csv',index_col=0)\n",
    "I3_data = pd.read_csv('./data/I3.csv',index_col=0)\n",
    "\n",
    "# limonene producing strains\n",
    "L1_data = pd.read_csv('./data/L1.csv',index_col=0)\n",
    "L2_data = pd.read_csv('./data/L2.csv',index_col=0)\n",
    "L3_data = pd.read_csv('./data/L3.csv',index_col=0)\n",
    "\n",
    "# bisabolene producing strains\n",
    "B1_data = pd.read_csv('./data/B1.csv',index_col=0)\n",
    "B2_data = pd.read_csv('./data/B2.csv',index_col=0)\n",
    "\n",
    "# wild-type strain\n",
    "DH1_data = pd.read_csv('./data/DH1.csv',index_col=0)\n",
    "\n",
    "# Dictionary of all strain data\n",
    "met_data ={'I1':I1_data, 'I2':I2_data, 'I3':I3_data, 'L1':L1_data, 'L2':L2_data, 'L3':L3_data, 'B1':B1_data, 'B2':B2_data, 'DH1':DH1_data}\n",
    "\n",
    "# Pandas dataframe of all strain data\n",
    "DF_metabolite_conc_all = pd.DataFrame()\n",
    "for strain in met_data.keys():\n",
    "    DF_metabolite_conc_all = pd.concat([DF_metabolite_conc_all, met_data[strain]])\n",
    "\n",
    "# Organize the pandas dataframe - drop columns not used in analysis\n",
    "\n",
    "DF_metabolite_conc_all = DF_metabolite_conc_all.drop(['Cystine','Intracellular volume / sample','OD600','Sample','fold_production'],axis = 1)\n",
    "#print(\"list of strains in pandas metabolite dataframe:\", DF_metabolite_conc_all.sort(column='Strain',ascending=True).Strain.unique().tolist())\n",
    "DF_metabolite_conc_all[0:14]"
   ]
  },
  {
   "cell_type": "markdown",
   "id": "71079e77",
   "metadata": {},
   "source": [
    "## List the cytoplasmic and extracellular metabolites that are monitored"
   ]
  },
  {
   "cell_type": "code",
   "execution_count": null,
   "id": "5127e4c9",
   "metadata": {},
   "outputs": [],
   "source": [
    "df_mets = DF_metabolite_conc_all.copy()\n",
    "\n",
    "# Adjust external data metabolite names to existing model names\n",
    "df_mets.rename(columns = {'2me4p':'2me4p_c'},inplace=True)\n",
    "df_mets.rename(columns = {'acon__C_c':'acon_C_c'},inplace=True)\n",
    "df_mets.rename(columns = {'mev_R_c':'mev__R_c'},inplace=True)\n",
    "df_mets.rename(columns = {'mev_R_e':'mev__R_e'},inplace=True)\n",
    "\n",
    "# Remove metabolite names that are not supported by the model (Most are all zeros)\n",
    "df_mets.drop('aacoa_e',axis=1,inplace=True)\n",
    "df_mets.drop('accoa_e',axis=1,inplace=True)\n",
    "df_mets.drop('adp_e',axis=1,inplace=True)\n",
    "df_mets.drop('atp_e',axis=1,inplace=True)\n",
    "df_mets.drop('nad_e',axis=1,inplace=True)\n",
    "df_mets.drop('nadh_e',axis=1,inplace=True)\n",
    "df_mets.drop('nadp_e',axis=1,inplace=True)\n",
    "df_mets.drop('nadph_e',axis=1,inplace=True)\n",
    "df_mets.drop('coa_e',axis=1,inplace=True)\n",
    "df_mets.drop('ex_con.id',axis=1,inplace=True)\n",
    "df_mets.drop('hmgcoa_e',axis=1,inplace=True)\n",
    "\n",
    "# Create extracellular and cytoplasmic metabolite lists\n",
    "mets_tracked = list(df_mets.columns)\n",
    "del mets_tracked[0:2] # Removing Hour and Strain elements in the list\n",
    "mets_tracked.sort() \n",
    "\n",
    "met_c = []\n",
    "met_e = []\n",
    "met_names_c = []\n",
    "met_names_e = []\n",
    "for met in mets_tracked:\n",
    "    if \"_e\" in met:\n",
    "        met_e.append(met)\n",
    "        met_names_e.append(model.metabolites.get_by_id(met).name)\n",
    "    if \"_c\" in met:\n",
    "        met_c.append(met)\n",
    "        met_names_c.append(model.metabolites.get_by_id(met).name)    "
   ]
  },
  {
   "cell_type": "markdown",
   "id": "0f4d44ab",
   "metadata": {},
   "source": [
    "### Table showing the extracellular metabolites that are monitored"
   ]
  },
  {
   "cell_type": "code",
   "execution_count": null,
   "id": "0950cd8e",
   "metadata": {},
   "outputs": [],
   "source": [
    "exo_mets = pd.DataFrame(met_e,columns=['Extracellular Metabolite IDs'])\n",
    "exo_mets['Extracellular Metabolite Names'] = met_names_e\n",
    "exo_mets"
   ]
  },
  {
   "cell_type": "markdown",
   "id": "e7aa153d",
   "metadata": {},
   "source": [
    "### Table showing the cytoplasmic metabolites that are monitored"
   ]
  },
  {
   "cell_type": "code",
   "execution_count": null,
   "id": "c942e6f3",
   "metadata": {
    "scrolled": true
   },
   "outputs": [],
   "source": [
    "cyto_mets = pd.DataFrame(met_c,columns=['Cytoplasm Metabolite ID'])\n",
    "cyto_mets['Cytoplasm Metabolite Names'] = met_names_c\n",
    "cyto_mets"
   ]
  },
  {
   "cell_type": "markdown",
   "id": "0696223d",
   "metadata": {},
   "source": [
    "## Setting aerobic conditions for the model"
   ]
  },
  {
   "cell_type": "code",
   "execution_count": null,
   "id": "2e176b88",
   "metadata": {},
   "outputs": [],
   "source": [
    "# Adapted from \"Stage_three_GEM notebook\" by Brunck [1]\n",
    "\n",
    "def adjust_model_reactions(m, o_cond):\n",
    "    #1. constrain the model to use 'PFK' instead of 'F6PA', 'DHAPT' when growing on glucose\n",
    "    noFlux = ['F6PA', 'DHAPT'];\n",
    "    for rxn in noFlux:\n",
    "        m.reactions.get_by_id(rxn).lower_bound = 0.0\n",
    "        m.reactions.get_by_id(rxn).upper_bound = 0.0\n",
    "    \n",
    "    #2. constrain the model to use the physiologically perferred glutamate synthesis enzymes (PMCID: 196288)\n",
    "    m.reactions.GLUDy.upper_bound = 0\n",
    "    m.reactions.GLUDy.lower_bound = 0\n",
    "\n",
    "    #3. depending on oxygen availability, constrain the model to use the correct RNR enzymes (DOI:10.1111/j.1365-2958.2006.05493.x)\n",
    "    # Dihydroorotate dehydrogenase (PyrD) (DOI:10.1016/S0076-6879(78)51010-0, PMID: 199252, DOI:S0969212602008316 [pii])\n",
    "    aerobic = ['RNDR1', 'RNDR2', 'RNDR3', 'RNDR4', 'DHORD2', 'ASPO6','LCARR'] # see DOI:10.1111/j.1365-2958.2011.07593.x; see DOI:10.1089/ars.2006.8.773 for a review\n",
    "    anaerobic = ['RNTR1c2', 'RNTR2c2', 'RNTR3c2', 'RNTR4c2', 'DHORD5', 'ASPO5'] # see DOI:10.1074/jbc.274.44.31291, DOI:10.1128/JB.00440-07\n",
    "    if o_cond == 'aerobic':\n",
    "        rxnList = aerobic\n",
    "    else:\n",
    "        rxnList = anaerobic\n",
    "    for rxn in rxnList:\n",
    "        m.reactions.get_by_id(rxn).lower_bound = 0.0\n",
    "        m.reactions.get_by_id(rxn).upper_bound = 0.0\n",
    "\n",
    "\n",
    "    #4. constrain fatty acid biosynthesis to use the physiologically preferred enzymes'''\n",
    "    # Fatty acid biosynthesis: DOI: 10.1016/j.ymben.2010.10.007, PMCID: 372925\n",
    "    fattyAcidSynthesis = ['ACCOAC', 'ACOATA', 'HACD1', 'HACD2', 'HACD3', 'HACD4', 'HACD5', 'HACD6', 'HACD7', 'HACD8', 'KAS14', 'KAS15', 'MACPD', 'MCOATA', '3OAR100', '3OAR120', '3OAR121', '3OAR140', '3OAR141', '3OAR160', '3OAR161', '3OAR180', '3OAR181', '3OAR40', '3OAR60', '3OAR80']\n",
    "    fattyAcidOxidation = ['ACACT1r', 'ACACT2r', 'ACACT3r', 'ACACT4r', 'ACACT5r', 'ACACT6r', 'ACACT7r', 'ACACT8r', 'ACOAD1f', 'ACOAD2f', 'ACOAD3f', 'ACOAD4f', 'ACOAD5f', 'ACOAD6f', 'ACOAD7f', 'ACOAD8f', 'CTECOAI6', 'CTECOAI7', 'CTECOAI8', 'ECOAH1', 'ECOAH2', 'ECOAH3', 'ECOAH4', 'ECOAH5', 'ECOAH6', 'ECOAH7', 'ECOAH8']\n",
    "    ndpk = ['NDPK1','NDPK2','NDPK3','NDPK4','NDPK5','NDPK7','NDPK8']\n",
    "    rxnList = fattyAcidSynthesis + fattyAcidOxidation\n",
    "    for rxn in rxnList:\n",
    "        m.reactions.get_by_id(rxn).lower_bound = 0.0\n",
    "        m.reactions.get_by_id(rxn).upper_bound = 1000.0\n",
    "    \n",
    "    #4. ATP maintenence\n",
    "    m.reactions.get_by_id(\"ATPM\").lower_bound = 0\n",
    "    return m"
   ]
  },
  {
   "cell_type": "markdown",
   "id": "f4896dd1",
   "metadata": {},
   "source": [
    "### Calculate optimized growth rate for aerobic model"
   ]
  },
  {
   "cell_type": "code",
   "execution_count": null,
   "id": "e117bebb",
   "metadata": {},
   "outputs": [],
   "source": [
    "m = adjust_model_reactions(model,'aerobic')\n",
    "solution = m.optimize(); # Changed from m.optimize(solver=gurobi)\n",
    "print(\"solution:\", solution.objective_value) # Growth-rate"
   ]
  },
  {
   "cell_type": "markdown",
   "id": "8ef5760e",
   "metadata": {},
   "source": [
    "### Model summary before the key reaction bounds are changed to match the phenotyic data."
   ]
  },
  {
   "cell_type": "code",
   "execution_count": null,
   "id": "8093c3fc",
   "metadata": {
    "scrolled": true
   },
   "outputs": [],
   "source": [
    "m_orig = m.copy();\n",
    "m.summary()"
   ]
  },
  {
   "cell_type": "markdown",
   "id": "396943c2",
   "metadata": {},
   "source": [
    "## Constrain exchange reactions with phenotypic measurements\n",
    "\n",
    "This function will perform the following operations:\n",
    "- choose the constraints based on the phenotypic data\n",
    "- calculate the flux from the phenotypic data\n",
    "- create a cobra model based on those constrains"
   ]
  },
  {
   "cell_type": "markdown",
   "id": "047cf238",
   "metadata": {},
   "source": [
    "#### Define the different model phases.\n",
    "- I: 0 to 4 (0 to 6 hours)\n",
    "- II: 4 to 10 (8 to 20 hours)\n",
    "- III: 10 to 13 (24 to 72 hours)"
   ]
  },
  {
   "cell_type": "code",
   "execution_count": null,
   "id": "7cd8ea3e",
   "metadata": {},
   "outputs": [],
   "source": [
    "# defined phases from metabolomics data\n",
    "phase1=[0,2,4,6]\n",
    "phase2=[8,10,12,16,18,20]\n",
    "phase3=[24,36,48]\n",
    "all_time_points = [0,2,4,6,8,10,12,16,18,20,24,36,48]"
   ]
  },
  {
   "cell_type": "markdown",
   "id": "6d6b234f",
   "metadata": {},
   "source": [
    "Below is a method that creates the following information for a given strain and phase.\n",
    "\n",
    "1. A **flux dictionary (fluxDict)** that includes the estimated flux values for the exchange reactions that include OMICs information (I1_data, I2_data, ... DH1_data). It is composed of two dictionaries, one within the other. The keys for the outer dictionary are the hours of the production run (0, 2, 6, 8, 10, 12, 16, 18, 20, 24, 36, and 48). The internal dictionary uses the reaction IDs for the keys with each key associated with a flux.\n",
    "2. Create a **strain/phase specific model** for a given strain (I1, I2, ... DH1) and phase type (phase1, phase2 and phase3).\n",
    "3. The **expected average biomass** for a given strain and phase.\n",
    "4. A table that lists the **average flux** for the exchange reaction and biomass for the given specific phase and strain."
   ]
  },
  {
   "cell_type": "code",
   "execution_count": null,
   "id": "80f6b16b",
   "metadata": {},
   "outputs": [],
   "source": [
    "# Adapted from \"Stage_three_GEM notebook\" by Brunck [1]\n",
    "\n",
    "import math\n",
    "import numpy as np\n",
    "from numpy import log\n",
    "import pytest\n",
    "\n",
    "def set_fluxes_by_phase(df, phase_times, m, strain):\n",
    "    read_to_struct = []\n",
    "    constraints = []\n",
    "    fluxDict={}\n",
    "\n",
    "    # Do not constrain any cofactor secretions\n",
    "    for i in df.columns:\n",
    "        if \"_e\" in i and \"nad\" not in i and \"amp\" not in i and \"adp\" not in i and \"atp\" not in i and \"coa\" not in i:\n",
    "            constraints.append(i)\n",
    "    constraints.append('EX_lim_e')  \n",
    "    \n",
    "    print('exchange reactions constrained by phenotypic data:\\n \\n', constraints, '\\n')  \n",
    "\n",
    "    for i in df.index[:-1]:\n",
    "        fluxDict[df.Hour[i]] ={}\n",
    "\n",
    "        # Extrapolate for missing OD values:\n",
    "        if df.OD600[i] == 0 and df.Hour[i] != 0:\n",
    "            tmp = (df.OD600[i+1] - df.OD600[i-1])/2 + df.OD600[i-1]\n",
    "            tmp2 = df.OD600[i+1]\n",
    "        elif df.OD600[i+1] == 0:\n",
    "            tmp = df.OD600[i]\n",
    "            tmp2 = (df.OD600[i+2] - df.OD600[i])/2 + df.OD600[i]\n",
    " \n",
    "        # Calculate to convert mM to mmol/gDW*hr\n",
    "        gDWperLperOD600=0.65*tmp\n",
    "        delta_t = df.Hour[i+1]-df.Hour[i]\n",
    "        constant = (1/gDWperLperOD600)/(delta_t)\n",
    "        fluxDict[df.Hour[i]]['biomass'] = abs((log(tmp2)- log(tmp))/(delta_t))\n",
    "        \n",
    "        # Calculated the estimated flux values from the metabolite concentrations\n",
    "        for react in m.reactions: # Change react.startswidth to react.id.startswidth          \n",
    "            x = list(m.reactions.get_by_id(str(react.id)).metabolites)\n",
    "            metab = [r.id for r in x]\n",
    "            if react.id.startswith('EX') and metab[0] in constraints:\n",
    "                met_temp = metab[0]\n",
    "                fluxDict[df.Hour[i]][str(react.id)] = (df[str(met_temp)][i+1] - df[str(met_temp)][i])*(constant)\n",
    "               \n",
    "    # Take the average of fluxes for each reaction within the phase\n",
    "    for j in fluxDict[0].keys():   \n",
    "        if len(phase_times) == 3:  #phase 3\n",
    "            phase_tmp = '24 to 72'\n",
    "            avg_flux = np.average([fluxDict[phase_times[0]][j], fluxDict[phase_times[1]][j], fluxDict[phase_times[2]][j]])\n",
    "            #print(j, \"Phase 3 - flux (mmol/gDW*hr):\", avg_flux)\n",
    "            read_to_struct.append({ 'reaction':j, 'avg_flux':avg_flux,'phase':phase_tmp, 'strain':strain})\n",
    "        if len(phase_times) == 6:  #phase 2\n",
    "            phase_tmp = '8 to 20'\n",
    "            avg_flux = np.average([fluxDict[phase_times[0]][j], fluxDict[phase_times[1]][j], fluxDict[phase_times[2]][j],fluxDict[phase_times[3]][j],fluxDict[phase_times[4]][j],fluxDict[phase_times[5]][j]])\n",
    "            #print(j, \"Phase 2 - flux (mmol/gDW*hr):\", avg_flux)\n",
    "            read_to_struct.append({ 'reaction':j, 'avg_flux':avg_flux,'phase':phase_tmp, 'strain':strain})\n",
    "        if len(phase_times) == 4:  #phase 1\n",
    "            phase_tmp = '0 to 6'            \n",
    "            avg_flux = np.average([fluxDict[phase_times[0]][j], fluxDict[phase_times[1]][j], fluxDict[phase_times[2]][j], fluxDict[phase_times[3]][j]])\n",
    "            read_to_struct.append({ 'reaction':j, 'avg_flux':avg_flux,'phase':phase_tmp, 'strain':strain})\n",
    "            #print(j, \"Phase 1 - flux (mmol/gDW*hr):\", avg_flux)\n",
    "            #print('fluxDict[phase_times[0]][j] = ',fluxDict[phase_times[0]][j])\n",
    "        if len(phase_times) > 6:\n",
    "            avg_flux = 0\n",
    "        \n",
    "    # set the reaction bounds in m model to the average flux of the specified phase\n",
    "        if j != 'biomass':\n",
    "            m.reactions.get_by_id(str(j)).lower_bound = avg_flux\n",
    "            if avg_flux < 0:\n",
    "                m.reactions.get_by_id(str(j)).upper_bound = 0\n",
    "            else:\n",
    "                m.reactions.get_by_id(str(j)).upper_bound = avg_flux\n",
    "        else:\n",
    "            avg_biomass = avg_flux\n",
    "\n",
    "\n",
    "    print('\\n')        \n",
    "    solution = m.optimize()\n",
    "    print('Solution: \\n',(solution.objective_value),'\\n')\n",
    "    print('Expected average biomass: \\n',(avg_biomass))\n",
    "    \n",
    "    return (fluxDict, m, avg_biomass,pd.DataFrame(read_to_struct))"
   ]
  },
  {
   "cell_type": "markdown",
   "id": "110c5f7c",
   "metadata": {},
   "source": [
    "## Adapt a model to use phenotypic constraints to set exhange reaction bounds\n",
    "\n",
    "This simulation uses the \"set_fluxes_py_phase\" method to create new mutant models for the phases of each strains. The operation of the method is shown below. This example will use phase 1 of strain I3. "
   ]
  },
  {
   "cell_type": "code",
   "execution_count": null,
   "id": "6f66fdcc",
   "metadata": {},
   "outputs": [],
   "source": [
    "m = model.copy()\n",
    "m = adjust_model_reactions(m, 'aerobic')\n",
    "\n",
    "[I3_fluxdict_p1, m_I3_p1, I3_biomass_p1,I3data] = set_fluxes_by_phase(I3_data, phase1, m,'I3')"
   ]
  },
  {
   "cell_type": "markdown",
   "id": "5516176a",
   "metadata": {},
   "source": [
    "### Required input information to create the new phenotypic constrained models\n",
    "\n",
    "#### Phenotypic data\n",
    "\n",
    "The first variable is the phenotypic data for a given strain. In the above case the strain is \"I3\" and the phenotypic data is found in \"I3_data\"."
   ]
  },
  {
   "cell_type": "code",
   "execution_count": null,
   "id": "631082a2",
   "metadata": {},
   "outputs": [],
   "source": [
    "I3_data"
   ]
  },
  {
   "cell_type": "markdown",
   "id": "06adf5c3",
   "metadata": {},
   "source": [
    "Note, this dataframe contains all the pheotypic data gathered for strain 3. It includes all 14 samples gathered over 72 hours.\n",
    "\n",
    "#### Phase selection\n",
    "The second variable is the phase of interest. This could include any one of the following\n",
    "\n",
    "- phase1 = [0, 2, 4, 6]\n",
    "- phase2 = [8, 10, 12, 16, 18, 20]\n",
    "- phase3 = [24, 36, 48]\n",
    "\n",
    "For this example we set the phase to \"phase1\".\n",
    "\n",
    "#### Model name\n",
    "\n",
    "The model to be modified to assume the bounds dictated by the phenotypic data.\n",
    "\n",
    "#### Strain name\n",
    "\n",
    "The strain to be used in the creation of the new models. This could include; 'I1', 'I2', 'I3', 'L1', 'L2', 'L3', 'B1', 'B2', and 'DH1'."
   ]
  },
  {
   "cell_type": "markdown",
   "id": "bdf474fd",
   "metadata": {},
   "source": [
    "### Output information in the new phenotypic constrained model creation process\n",
    "\n",
    "### Flux dictionary\n",
    "\n",
    "The flux dictionary of strain I3 that includes the estimated flux values for each hour the data is sampled. Each of these flux values is estimated by \n",
    "\n",
    "    flux = (metabolite concentration of hour(i+1) - metabolite concentration of hour(i)) * constant\n",
    "    \n",
    "where the constant is determined by\n",
    "\n",
    "    constant = [1/(calibrated gDW at OD600)]/[1/(time interval between hour(i+1) and hour(i))]"
   ]
  },
  {
   "cell_type": "code",
   "execution_count": null,
   "id": "a7b02dd9",
   "metadata": {},
   "outputs": [],
   "source": [
    "I3_fluxdict_p1"
   ]
  },
  {
   "cell_type": "markdown",
   "id": "44ed7a1b",
   "metadata": {},
   "source": [
    "### The new model created for the conditions of strain I3 and phase 1 operation"
   ]
  },
  {
   "cell_type": "code",
   "execution_count": null,
   "id": "bc0b503e",
   "metadata": {
    "scrolled": true
   },
   "outputs": [],
   "source": [
    "m_I3_p1.summary()"
   ]
  },
  {
   "cell_type": "markdown",
   "id": "9217c78c",
   "metadata": {},
   "source": [
    "### The expected average biomass of the new biomass function\n",
    "The expected average biomass of the new biomass function for the strain I3, phase 1 model. This is the average flux value for the biomass samples in phase 1. The solution or optimized biomass is the growth rate calculated using the average fluxes for the key exchange reactions in the model and then calculating the biomass function."
   ]
  },
  {
   "cell_type": "code",
   "execution_count": null,
   "id": "993dc82c",
   "metadata": {},
   "outputs": [],
   "source": [
    "I3_biomass_p1"
   ]
  },
  {
   "cell_type": "markdown",
   "id": "d583608d",
   "metadata": {},
   "source": [
    "### The new exchange reaction bounds set for the new mutant model (strain = I3, phase = phase1)"
   ]
  },
  {
   "cell_type": "code",
   "execution_count": null,
   "id": "67b2b58c",
   "metadata": {},
   "outputs": [],
   "source": [
    "I3data.round(3)"
   ]
  },
  {
   "cell_type": "markdown",
   "id": "8b57f8bd",
   "metadata": {},
   "source": [
    "Checking the glucose lower bound"
   ]
  },
  {
   "cell_type": "code",
   "execution_count": null,
   "id": "e6219977",
   "metadata": {},
   "outputs": [],
   "source": [
    "m_I3_p1.reactions.EX_glc__D_e.bounds"
   ]
  },
  {
   "cell_type": "markdown",
   "id": "968e1e64",
   "metadata": {},
   "source": [
    "Checking the default growth rate for both the slim_optimize() and loopless_solution() methods"
   ]
  },
  {
   "cell_type": "code",
   "execution_count": null,
   "id": "e6847e74",
   "metadata": {},
   "outputs": [],
   "source": [
    "m_I3_p1.slim_optimize()"
   ]
  },
  {
   "cell_type": "code",
   "execution_count": null,
   "id": "18310b09",
   "metadata": {},
   "outputs": [],
   "source": [
    "from cobra.flux_analysis.loopless import loopless_solution\n",
    "loopless = loopless_solution(m_I3_p1)\n",
    "loopless.fluxes.BIOMASS_Ec_iJO1366_core_53p95M"
   ]
  },
  {
   "cell_type": "markdown",
   "id": "ba322479",
   "metadata": {},
   "source": [
    "## Saving the new mutant models to external files"
   ]
  },
  {
   "cell_type": "code",
   "execution_count": null,
   "id": "ffbeb8b3",
   "metadata": {},
   "outputs": [],
   "source": [
    "import cobra.test\n",
    "\n",
    "data = met_data.copy()\n",
    "for strain in data:\n",
    "    for phase in [phase1, phase2, phase3]:\n",
    "        m = model.copy();\n",
    "        m = adjust_model_reactions(m,'aerobic')\n",
    "        with suppress_stdout():\n",
    "            [fluxdict, m_tmp, avg_biomass_tmp,data_tmp] = set_fluxes_by_phase(data[strain], phase, m, strain)\n",
    "            solution = m_tmp.optimize()\n",
    "            sol_tmp = solution.objective_value\n",
    "        \n",
    "        # set upper and lower bounds for biomass based on solution or average growth rate for phase\n",
    "        if sol_tmp < avg_biomass_tmp:    \n",
    "            m.reactions.get_by_id('BIOMASS_Ec_iJO1366_core_53p95M').upper_bound = avg_biomass_tmp  \n",
    "            m.reactions.get_by_id('BIOMASS_Ec_iJO1366_core_53p95M').lower_bound = sol_tmp - sol_tmp*0.2\n",
    "            \n",
    "        else:\n",
    "            m.reactions.get_by_id('BIOMASS_Ec_iJO1366_core_53p95M').upper_bound = sol_tmp  \n",
    "            m.reactions.get_by_id('BIOMASS_Ec_iJO1366_core_53p95M').lower_bound = avg_biomass_tmp - avg_biomass_tmp*0.2 \n",
    "        \n",
    "        # construct name for the file:\n",
    "        strain_name = str(data[strain].Strain[0:1].tolist()[0])\n",
    "        phase_tmp = str(phase[0])+\"_\"+str(phase[-1])\n",
    "        file_name = strain_name + \"_%s\"%phase_tmp       \n",
    "        output_filename = '%s.json' %file_name\n",
    "        print(output_filename)\n",
    "        cobra.io.json.save_json_model(m, output_filename) # Save as json instead of sbml\n",
    "        ecoli_json = '%s.json' %file_name\n",
    "        ecoli_from_json =cobra.io.json.load_json_model(ecoli_json)"
   ]
  },
  {
   "cell_type": "markdown",
   "id": "6f040663",
   "metadata": {},
   "source": [
    "Checking!"
   ]
  },
  {
   "cell_type": "code",
   "execution_count": null,
   "id": "c26c5777",
   "metadata": {
    "scrolled": true
   },
   "outputs": [],
   "source": [
    "model_from_json = cobra.io.json.load_json_model('I3_24_48.json')\n",
    "model_from_json.summary()"
   ]
  },
  {
   "cell_type": "markdown",
   "id": "83870ce7",
   "metadata": {},
   "source": [
    "## Running FBA on all strains and phases of data\n",
    "\n",
    "The following method will create a dataframe (DF_FBA_results) with the following information for all strains and phases.\n",
    "1. Strain Name\n",
    "2. Phase(hours) \t\n",
    "3. FBA Solution \t\n",
    "4. Strain/Phase \t\n",
    "5. Average Growth Rate \t\n",
    "6. Average Glucose Flux"
   ]
  },
  {
   "cell_type": "code",
   "execution_count": null,
   "id": "7510624b",
   "metadata": {},
   "outputs": [],
   "source": [
    "# Adapted from \"Stage_three_GEM notebook\" by Brunck [1]\n",
    "\n",
    "strain_name = []\n",
    "sol =[]\n",
    "phase_list = []\n",
    "avg_biomass =[]\n",
    "avg_glc_uptake=[]\n",
    "for_graph=[]\n",
    "df_temp  = []    \n",
    "data = met_data.copy() #### Add\n",
    "\n",
    "for strain in data:\n",
    "    print('strain:  ',strain)\n",
    "    for phase in [phase1, phase2, phase3]:\n",
    "        m = model.copy()\n",
    "        m = adjust_model_reactions(m,'aerobic')\n",
    "        with suppress_stdout():\n",
    "            [fluxdict, m_tmp, avg_biomass_tmp,tmp_data] = set_fluxes_by_phase(data[strain], phase, m, strain)\n",
    "            solution = m_tmp.optimize()\n",
    "            sol_tmp = solution.objective_value\n",
    "        \n",
    "        strain_name.append(strain)\n",
    "        sol.append(sol_tmp)\n",
    "        phase_tmp = str(phase[0])+\" to \"+str(phase[-1])\n",
    "        phase_list.append(phase_tmp)\n",
    "        avg_biomass.append(avg_biomass_tmp)\n",
    "        avg_glc_uptake.append(m_tmp.reactions.get_by_id('EX_glc__D_e').lower_bound)\n",
    "        if phase == phase1:\n",
    "            for_graph.append(str(strain+'_p1'))\n",
    "        elif phase == phase2:\n",
    "            for_graph.append(str(strain+'_p2'))\n",
    "        else:\n",
    "            for_graph.append(str(strain+'_p3'))\n",
    "                             \n",
    "        count = 0\n",
    "        for r in m.reactions:\n",
    "            flux_tmp = m.reactions.get_by_id(r.id).flux\n",
    "            if 'HMGR' in str(r) or 'HMGS' in str(r):\n",
    "                flux_tmp = -flux_tmp # will be easier to think about it in the direction of mev pathway\n",
    "            df_temp.append({'reaction':r.id, 'flux':flux_tmp, 'strain':strain, 'phase':phase_tmp})\n",
    "            count += 1\n",
    "                \n",
    "                \n",
    "DF_flux_all_strains = pd.DataFrame(df_temp)                \n",
    "DF_FBA_results = pd.DataFrame({'Strain': strain_name,\n",
    "                            'Phase_in_hours': phase_list,\n",
    "                            'FBA Solution': sol,\n",
    "                            'Strain/phase':for_graph,\n",
    "                              'Avg_growth_rate':avg_biomass,\n",
    "                              'Avg_glc_flux': avg_glc_uptake})       "
   ]
  },
  {
   "cell_type": "code",
   "execution_count": null,
   "id": "43fa75b8",
   "metadata": {},
   "outputs": [],
   "source": [
    "DF_FBA_results"
   ]
  },
  {
   "cell_type": "markdown",
   "id": "f876d7b4",
   "metadata": {},
   "source": [
    "Modifying the dataframe to remove the Strain/phase column"
   ]
  },
  {
   "cell_type": "code",
   "execution_count": null,
   "id": "036caa06",
   "metadata": {},
   "outputs": [],
   "source": [
    "DF_FBA_results.set_index(['Strain','Phase_in_hours']).drop('Strain/phase',1)"
   ]
  },
  {
   "cell_type": "markdown",
   "id": "ac1e770c",
   "metadata": {},
   "source": [
    "### Plotting the diference between the measured growth rate and the FBA solution for all strains and phases"
   ]
  },
  {
   "cell_type": "code",
   "execution_count": null,
   "id": "5619c5f9",
   "metadata": {},
   "outputs": [],
   "source": [
    "import pandas as pd\n",
    "import matplotlib.pyplot as plt\n",
    "\n",
    "name_graph = 'FBA vs Experimental Growth Rates' \n",
    "df = DF_FBA_results.set_index(['Strain/phase'])\n",
    "\n",
    "ax = df[['Avg_growth_rate','FBA Solution']].plot(kind='bar', stacked=False,\n",
    "                                           title = 'FBA vs Experimental Growth Rates',\n",
    "                                            figsize=(15,8))\n",
    "ax.set_xlabel(\"Strain and phase\")\n",
    "ax.set_ylabel(\"Growth rate (1/hr)\")\n",
    "plt.grid()\n",
    "plt.show()"
   ]
  },
  {
   "cell_type": "markdown",
   "id": "5af7dd96",
   "metadata": {},
   "source": [
    "Note that although the numbers aren't equal to the measured values, the grwoth pattern is similar. The growth rate for p1 is greater than p2 which is greater than p3.\n",
    "\n",
    "Below is another form of the dataframe that organizes the data by the \"strain/phase\" column."
   ]
  },
  {
   "cell_type": "code",
   "execution_count": null,
   "id": "4faebe0e",
   "metadata": {
    "scrolled": true
   },
   "outputs": [],
   "source": [
    "DF_FBA_results.set_index(['Strain/phase'])"
   ]
  },
  {
   "cell_type": "code",
   "execution_count": null,
   "id": "eb323f38",
   "metadata": {},
   "outputs": [],
   "source": [
    "DF_flux_all_strains"
   ]
  },
  {
   "cell_type": "markdown",
   "id": "dae8f24b",
   "metadata": {},
   "source": [
    "## Bioproduction of biofuels by phase\n",
    "\n",
    "### Isopentenol Production"
   ]
  },
  {
   "cell_type": "code",
   "execution_count": null,
   "id": "59e8877e",
   "metadata": {},
   "outputs": [],
   "source": [
    "react = 'EX_ipoh_e'\n",
    "df = DF_flux_all_strains[DF_flux_all_strains.strain.isin(['DH1','I1','I2','I3','L1','L2','L3','B1','B2'])][DF_flux_all_strains.reaction == react].set_index(['strain','phase'])\n",
    "\n",
    "ax = df[['flux']].plot(kind='bar', stacked=False, figsize=(15,8))\n",
    "ax.set_ylabel(\"EX_ipoh_e Flux rate (1/hr)\", fontsize=16) \n",
    "ax.set_xlabel(\"Strain and Phase\", fontsize=16)\n",
    "ax.set_title('Isopentenol Production Flux', fontsize=20)\n",
    "plt.grid()\n",
    "plt.show()"
   ]
  },
  {
   "cell_type": "markdown",
   "id": "f93b719e",
   "metadata": {},
   "source": [
    "Note that strain I3 has the highest production.\n",
    "\n",
    "### Limonene Production"
   ]
  },
  {
   "cell_type": "code",
   "execution_count": null,
   "id": "c2a1b603",
   "metadata": {},
   "outputs": [],
   "source": [
    "react = 'EX_lim_e'\n",
    "df = DF_flux_all_strains[DF_flux_all_strains.strain.isin(['DH1','I1','I2','I3','L1','L2','L3','B1','B2'])][DF_flux_all_strains.reaction == react].set_index(['strain','phase'])\n",
    "\n",
    "ax = df[['flux']].plot(kind='bar', stacked=False, figsize=(15,8))\n",
    "ax.set_ylabel(\"EX_lim_e  Flux Rate (mmol/gDW*hr)\", fontsize=16) \n",
    "ax.set_xlabel(\"Strain and Phase\", fontsize=16)\n",
    "ax.set_title('Limonene Production Flux', fontsize=20)\n",
    "plt.grid()\n",
    "plt.show()"
   ]
  },
  {
   "cell_type": "markdown",
   "id": "3805d63a",
   "metadata": {},
   "source": [
    "Note that strain I3 has the highest production.\n",
    "\n",
    "### Bisabolene Production"
   ]
  },
  {
   "cell_type": "code",
   "execution_count": null,
   "id": "4bbfcafb",
   "metadata": {},
   "outputs": [],
   "source": [
    "react = 'EX_bis_e'\n",
    "df = DF_flux_all_strains[DF_flux_all_strains.strain.isin(['DH1','I1','I2','I3','L1','L2','L3','B1','B2'])][DF_flux_all_strains.reaction == react].set_index(['strain','phase'])\n",
    "\n",
    "ax = df[['flux']].plot(kind='bar', stacked=False, figsize=(15,8))\n",
    "ax.set_ylabel(\"EX_bis_e  Flux Rate (mmol/gDW*hr)\", fontsize=16) \n",
    "ax.set_xlabel(\"Strain and Phase\", fontsize=16)\n",
    "ax.set_title('Bisabolene Production Flux', fontsize=20)\n",
    "plt.grid()\n",
    "plt.show()"
   ]
  },
  {
   "cell_type": "markdown",
   "id": "94ccabf9",
   "metadata": {},
   "source": [
    "Again, strain I3 has the highest production.\n",
    "\n",
    "## Plotting individual flux values for the different strains and phases\n",
    "\n",
    "### Glucose uptake"
   ]
  },
  {
   "cell_type": "code",
   "execution_count": null,
   "id": "b6c31645",
   "metadata": {},
   "outputs": [],
   "source": [
    "react = 'EX_glc__D_e'\n",
    "df = DF_flux_all_strains[DF_flux_all_strains.strain.isin(['DH1','I1','I2','I3','L1','L2','L3','B1','B2'])][DF_flux_all_strains.reaction == react].set_index(['strain','phase'])\n",
    "\n",
    "ax = df[['flux']].plot(kind='bar', stacked=False, figsize=(15,8))\n",
    "ax.set_ylabel(\"EX_glc__D_e  Flux Rate (mmol/gDW*hr)\", fontsize=16) \n",
    "ax.set_xlabel(\"Strain and phase\", fontsize=16)\n",
    "ax.set_title('Glucose Flux', fontsize=20)\n",
    "plt.grid()\n",
    "plt.show()"
   ]
  },
  {
   "cell_type": "markdown",
   "id": "b60a976c",
   "metadata": {},
   "source": [
    "### Oxygen uptake"
   ]
  },
  {
   "cell_type": "code",
   "execution_count": null,
   "id": "ba2dfea7",
   "metadata": {},
   "outputs": [],
   "source": [
    "react = 'EX_o2_e'\n",
    "df = DF_flux_all_strains[DF_flux_all_strains.strain.isin(['DH1','I1','I2','I3','L1','L2','L3','B1','B2'])][DF_flux_all_strains.reaction == react].set_index(['strain','phase'])\n",
    "\n",
    "ax = df[['flux']].plot(kind='bar', stacked=False, figsize=(15,8))\n",
    "ax.set_ylabel(\"EX_o2_e  Flux Rate (mmol/gDW*hr)\", fontsize=16) \n",
    "ax.set_xlabel(\"Strain and phase\", fontsize=16)\n",
    "ax.set_title('Oxygen Flux', fontsize=20)\n",
    "plt.grid()\n",
    "plt.show()"
   ]
  },
  {
   "cell_type": "markdown",
   "id": "8ada2639",
   "metadata": {},
   "source": [
    "### Fermentation flux values\n",
    "\n",
    "Plot the flux values of the fermentation biproducts."
   ]
  },
  {
   "cell_type": "code",
   "execution_count": null,
   "id": "0c21660e",
   "metadata": {
    "scrolled": false
   },
   "outputs": [],
   "source": [
    "react = 'EX_ac_e'\n",
    "react1 = 'EX_for_e'\n",
    "react2 = 'EX_etoh_e'\n",
    "react3 = 'EX_lac__D_e'\n",
    "react4 = 'EX_succ_e'\n",
    "react5 = 'EX_acald_e'\n",
    "\n",
    "df = DF_flux_all_strains[DF_flux_all_strains.strain.isin(['DH1','I1','I2','I3','L1','L2','L3','B1','B2'])][DF_flux_all_strains.reaction == react].set_index(['strain','phase'])\n",
    "df1 = DF_flux_all_strains[DF_flux_all_strains.strain.isin(['DH1','I1','I2','I3','L1','L2','L3','B1','B2'])][DF_flux_all_strains.reaction == react1].set_index(['strain','phase'])\n",
    "df2 = DF_flux_all_strains[DF_flux_all_strains.strain.isin(['DH1','I1','I2','I3','L1','L2','L3','B1','B2'])][DF_flux_all_strains.reaction == react2].set_index(['strain','phase'])\n",
    "df3 = DF_flux_all_strains[DF_flux_all_strains.strain.isin(['DH1','I1','I2','I3','L1','L2','L3','B1','B2'])][DF_flux_all_strains.reaction == react3].set_index(['strain','phase'])\n",
    "df4 = DF_flux_all_strains[DF_flux_all_strains.strain.isin(['DH1','I1','I2','I3','L1','L2','L3','B1','B2'])][DF_flux_all_strains.reaction == react4].set_index(['strain','phase'])\n",
    "df5 = DF_flux_all_strains[DF_flux_all_strains.strain.isin(['DH1','I1','I2','I3','L1','L2','L3','B1','B2'])][DF_flux_all_strains.reaction == react5].set_index(['strain','phase'])\n",
    "\n",
    "plt.figure(figsize=(16,8))\n",
    "\n",
    "df['flux'].plot(kind='bar',label = 'EX_ac_e')\n",
    "df1['flux'].plot(kind='bar',label = 'EX_for_e',color = 'red')\n",
    "df2['flux'].plot(kind='bar',label = 'EX_etoh_e',color = 'green')\n",
    "df3['flux'].plot(kind='bar',label = 'EX_lac__D_e',color = 'purple')\n",
    "df4['flux'].plot(kind='bar',label = 'EX_succ_e',color = 'orange')\n",
    "df5['flux'].plot(kind='bar',label = 'EX_acald_e',color = 'cyan')\n",
    "\n",
    "plt.ylabel(\"Flux Rate (mmol/gDW*hr)\", fontsize=16) \n",
    "plt.xlabel(\"Strain and phase\", fontsize=16)\n",
    "plt.title('Fermentation Flux Values', fontsize=20)\n",
    "\n",
    "plt.grid()\n",
    "plt.legend()\n",
    "plt.show()"
   ]
  },
  {
   "cell_type": "markdown",
   "id": "5f505b17",
   "metadata": {},
   "source": [
    "Note that the dominant fermentation product is acetate. Notice that it's, and the other fermentation biproducts, largest values are during the first six hours of any strain which corresponds to the time period for the largest growth rate and the largest biofuel production."
   ]
  },
  {
   "cell_type": "markdown",
   "id": "04d46390",
   "metadata": {},
   "source": [
    "## Escher Models of Isopentenol Production "
   ]
  },
  {
   "cell_type": "markdown",
   "id": "d52be4dd",
   "metadata": {},
   "source": [
    "### Model I3_p1"
   ]
  },
  {
   "cell_type": "code",
   "execution_count": null,
   "id": "1b5a46d3",
   "metadata": {
    "scrolled": true
   },
   "outputs": [],
   "source": [
    "m_I3_p1.summary()"
   ]
  },
  {
   "cell_type": "markdown",
   "id": "e6fbce88",
   "metadata": {},
   "source": [
    "Oxygen is not the limiting factor since 1.845 mmol/gDW_hr was taken into the cell but the lower bound is -1000"
   ]
  },
  {
   "cell_type": "markdown",
   "id": "d63f6cf5",
   "metadata": {},
   "source": [
    "###  Escher map of  model I3_p1"
   ]
  },
  {
   "cell_type": "code",
   "execution_count": null,
   "id": "4afc7a5f",
   "metadata": {},
   "outputs": [],
   "source": [
    "import escher\n",
    "from escher import Builder\n",
    "builder = Builder()\n",
    "builder.model_json = 'iJO1366_mevalonate_pathways.json'\n",
    "builder.map_json = 'iJO1366_mevalonate_pathways_map.json'\n",
    "builder"
   ]
  },
  {
   "cell_type": "code",
   "execution_count": null,
   "id": "caf79e47",
   "metadata": {},
   "outputs": [],
   "source": [
    "solution_m_I3_p1 = m_I3_p1.optimize()\n",
    "builder.reaction_data = solution_m_I3_p1.fluxes"
   ]
  },
  {
   "cell_type": "markdown",
   "id": "58671bcd",
   "metadata": {},
   "source": [
    "### Model I3_p3"
   ]
  },
  {
   "cell_type": "code",
   "execution_count": null,
   "id": "1e20a39e",
   "metadata": {},
   "outputs": [],
   "source": [
    "m = model.copy();\n",
    "m = adjust_model_reactions(m, 'aerobic');\n",
    "[I3_fluxdict_p3, m_I3_p3, I3_biomass_p3,I3data] = set_fluxes_by_phase(I3_data, phase3, m,'I3');"
   ]
  },
  {
   "cell_type": "code",
   "execution_count": null,
   "id": "4a7cda76",
   "metadata": {
    "scrolled": false
   },
   "outputs": [],
   "source": [
    "m_I3_p3.summary()"
   ]
  },
  {
   "cell_type": "code",
   "execution_count": null,
   "id": "ae757a51",
   "metadata": {},
   "outputs": [],
   "source": [
    "import escher\n",
    "from escher import Builder\n",
    "builder2 = Builder()\n",
    "builder2.model_json = 'iJO1366_mevalonate_pathways.json'\n",
    "builder2.map_json = 'iJO1366_mevalonate_pathways_map.json'\n",
    "builder2"
   ]
  },
  {
   "cell_type": "code",
   "execution_count": null,
   "id": "f79bba7a",
   "metadata": {},
   "outputs": [],
   "source": [
    "solution_m_I3_p3 = m_I3_p3.optimize()\n",
    "builder2.reaction_data = solution_m_I3_p3.fluxes"
   ]
  },
  {
   "cell_type": "markdown",
   "id": "8ab853a4",
   "metadata": {},
   "source": [
    "### Difference between I3 phase 3 and I3 phase 1"
   ]
  },
  {
   "cell_type": "code",
   "execution_count": null,
   "id": "2a83dc55",
   "metadata": {},
   "outputs": [],
   "source": [
    "builder3 = Builder()\n",
    "builder3.model_json = 'iJO1366_mevalonate_pathways.json'\n",
    "builder3.map_json = 'iJO1366_mevalonate_pathways_map.json'\n",
    "builder3"
   ]
  },
  {
   "cell_type": "code",
   "execution_count": null,
   "id": "3d386f04",
   "metadata": {},
   "outputs": [],
   "source": [
    "builder3.reaction_data = solution_m_I3_p3.fluxes - solution_m_I3_p1.fluxes"
   ]
  },
  {
   "cell_type": "markdown",
   "id": "1ae2c57c",
   "metadata": {},
   "source": [
    "## References\n",
    "\n",
    "1. Brunk, Elizabeth, et al. \"Characterizing strain variation in engineered *E. coli* using a multi-omics-based workflow.\" Cell systems 2.5 (2016): 335-346."
   ]
  },
  {
   "cell_type": "code",
   "execution_count": null,
   "id": "f3e084f0",
   "metadata": {},
   "outputs": [],
   "source": []
  }
 ],
 "metadata": {
  "kernelspec": {
   "display_name": "Python 3 (ipykernel)",
   "language": "python",
   "name": "python3"
  },
  "language_info": {
   "codemirror_mode": {
    "name": "ipython",
    "version": 3
   },
   "file_extension": ".py",
   "mimetype": "text/x-python",
   "name": "python",
   "nbconvert_exporter": "python",
   "pygments_lexer": "ipython3",
   "version": "3.8.12"
  }
 },
 "nbformat": 4,
 "nbformat_minor": 5
}
