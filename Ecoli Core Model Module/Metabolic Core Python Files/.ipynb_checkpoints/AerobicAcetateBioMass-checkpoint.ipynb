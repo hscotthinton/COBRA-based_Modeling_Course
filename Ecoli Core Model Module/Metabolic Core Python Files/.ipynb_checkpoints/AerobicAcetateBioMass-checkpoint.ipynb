{
 "cells": [
  {
   "cell_type": "markdown",
   "id": "b3ddfcdf",
   "metadata": {},
   "source": [
    "# Aerobic Respiration with an Acetate Carbon Source\n",
    "\n",
    "Set initital COBRApy conditions"
   ]
  },
  {
   "cell_type": "code",
   "execution_count": 1,
   "id": "3af65999",
   "metadata": {},
   "outputs": [],
   "source": [
    "import cobra\n",
    "import pandas as pd\n",
    "import escher\n",
    "from escher import Builder\n",
    "import numpy as np\n",
    "pd.set_option('display.max_rows', 500) # Display all the rows in Panda Dataframes"
   ]
  },
  {
   "cell_type": "markdown",
   "id": "48362512",
   "metadata": {},
   "source": [
    "Set inital conditions of simulation"
   ]
  },
  {
   "cell_type": "code",
   "execution_count": 2,
   "id": "3385e483",
   "metadata": {},
   "outputs": [
    {
     "data": {
      "text/html": [
       "<h3>Objective</h3><p>1.0 Biomass_Ecoli_core = 0.17333858447778633</p><h4>Uptake</h4><table border=\"1\" class=\"dataframe\">\n",
       "  <thead>\n",
       "    <tr style=\"text-align: right;\">\n",
       "      <th>Metabolite</th>\n",
       "      <th>Reaction</th>\n",
       "      <th>Flux</th>\n",
       "      <th>C-Number</th>\n",
       "      <th>C-Flux</th>\n",
       "    </tr>\n",
       "  </thead>\n",
       "  <tbody>\n",
       "    <tr>\n",
       "      <td>ac_e</td>\n",
       "      <td>EX_ac_e</td>\n",
       "      <td>10</td>\n",
       "      <td>2</td>\n",
       "      <td>100.00%</td>\n",
       "    </tr>\n",
       "    <tr>\n",
       "      <td>h_e</td>\n",
       "      <td>EX_h_e</td>\n",
       "      <td>6.523</td>\n",
       "      <td>0</td>\n",
       "      <td>0.00%</td>\n",
       "    </tr>\n",
       "    <tr>\n",
       "      <td>nh4_e</td>\n",
       "      <td>EX_nh4_e</td>\n",
       "      <td>0.9452</td>\n",
       "      <td>0</td>\n",
       "      <td>0.00%</td>\n",
       "    </tr>\n",
       "    <tr>\n",
       "      <td>o2_e</td>\n",
       "      <td>EX_o2_e</td>\n",
       "      <td>12.42</td>\n",
       "      <td>0</td>\n",
       "      <td>0.00%</td>\n",
       "    </tr>\n",
       "    <tr>\n",
       "      <td>pi_e</td>\n",
       "      <td>EX_pi_e</td>\n",
       "      <td>0.6377</td>\n",
       "      <td>0</td>\n",
       "      <td>0.00%</td>\n",
       "    </tr>\n",
       "  </tbody>\n",
       "</table><h4>Secretion</h4><table border=\"1\" class=\"dataframe\">\n",
       "  <thead>\n",
       "    <tr style=\"text-align: right;\">\n",
       "      <th>Metabolite</th>\n",
       "      <th>Reaction</th>\n",
       "      <th>Flux</th>\n",
       "      <th>C-Number</th>\n",
       "      <th>C-Flux</th>\n",
       "    </tr>\n",
       "  </thead>\n",
       "  <tbody>\n",
       "    <tr>\n",
       "      <td>co2_e</td>\n",
       "      <td>EX_co2_e</td>\n",
       "      <td>-12.62</td>\n",
       "      <td>1</td>\n",
       "      <td>100.00%</td>\n",
       "    </tr>\n",
       "    <tr>\n",
       "      <td>h2o_e</td>\n",
       "      <td>EX_h2o_e</td>\n",
       "      <td>-13.89</td>\n",
       "      <td>0</td>\n",
       "      <td>0.00%</td>\n",
       "    </tr>\n",
       "  </tbody>\n",
       "</table>"
      ],
      "text/plain": [
       "<cobra.summary.model_summary.ModelSummary at 0x1aa43da25b0>"
      ]
     },
     "execution_count": 2,
     "metadata": {},
     "output_type": "execute_result"
    }
   ],
   "source": [
    "model = cobra.io.load_model(\"textbook\") \n",
    "\n",
    "model.reactions.EX_o2_e.lower_bound = -1000\n",
    "model.reactions.EX_glc__D_e.lower_bound = -0 # Need to set glucose uptake to zero\n",
    "model.reactions.EX_ac_e.lower_bound = -10\n",
    "\n",
    "solution = model.optimize()\n",
    "model.summary()"
   ]
  },
  {
   "cell_type": "markdown",
   "id": "753ec76c",
   "metadata": {},
   "source": [
    "Print non-zero fluxes"
   ]
  },
  {
   "cell_type": "code",
   "execution_count": 3,
   "id": "a0c8fe98",
   "metadata": {
    "scrolled": true
   },
   "outputs": [
    {
     "data": {
      "text/plain": [
       "ACKr                  10.000000\n",
       "ACONTa                 7.552529\n",
       "ACONTb                 7.552529\n",
       "ACt2r                 10.000000\n",
       "AKGDH                  5.567680\n",
       "ATPM                   8.390000\n",
       "ATPS4r                24.504890\n",
       "Biomass_Ecoli_core     0.173339\n",
       "CO2t                 -12.623490\n",
       "CS                     7.552529\n",
       "CYTBD                 24.846186\n",
       "ENO                   -0.720100\n",
       "EX_ac_e              -10.000000\n",
       "EX_co2_e              12.623490\n",
       "EX_h_e                -6.522828\n",
       "EX_h2o_e              13.886157\n",
       "EX_nh4_e              -0.945181\n",
       "EX_o2_e              -12.423093\n",
       "EX_pi_e               -0.637661\n",
       "FBA                   -0.172420\n",
       "FBP                    0.172420\n",
       "FUM                    7.365514\n",
       "GAPD                  -0.460786\n",
       "GLNS                   0.044323\n",
       "GLUDy                 -0.900858\n",
       "H2Ot                 -13.886157\n",
       "ICDHyr                 5.754695\n",
       "ICL                    1.797833\n",
       "MALS                   1.797833\n",
       "MDH                    8.672313\n",
       "ME1                    0.491034\n",
       "NADH16                17.480673\n",
       "NADTRHD                2.595600\n",
       "NH4t                   0.945181\n",
       "O2t                   12.423093\n",
       "PGI                   -0.035534\n",
       "PGK                    0.460786\n",
       "PGM                    0.720100\n",
       "PIt2r                  0.637661\n",
       "PPCK                   0.810081\n",
       "PTAr                 -10.000000\n",
       "RPE                   -0.124596\n",
       "RPI                   -0.124596\n",
       "SUCDi                  7.365514\n",
       "SUCOAS                -5.567680\n",
       "TALA                  -0.031010\n",
       "TKT1                  -0.031010\n",
       "TKT2                  -0.093586\n",
       "TPI                   -0.172420\n",
       "Name: fluxes, dtype: float64"
      ]
     },
     "execution_count": 3,
     "metadata": {},
     "output_type": "execute_result"
    }
   ],
   "source": [
    "df = solution.fluxes\n",
    "df = df.replace(0, np.nan)\n",
    "df = df.dropna(how='all', axis=0)\n",
    "df"
   ]
  },
  {
   "cell_type": "markdown",
   "id": "db5f5acc",
   "metadata": {},
   "source": [
    "Plot the fluxes on an Escher map"
   ]
  },
  {
   "cell_type": "code",
   "execution_count": 4,
   "id": "3e90ed85",
   "metadata": {},
   "outputs": [
    {
     "name": "stdout",
     "output_type": "stream",
     "text": [
      "Downloading Map from https://escher.github.io/1-0-0/6/maps/Escherichia%20coli/e_coli_core.Core%20metabolism.json\n",
      "Downloading Model from https://escher.github.io/1-0-0/6/models/Escherichia%20coli/e_coli_core.json\n"
     ]
    },
    {
     "data": {
      "application/vnd.jupyter.widget-view+json": {
       "model_id": "36d6d07876084af7a17991b597b8d03e",
       "version_major": 2,
       "version_minor": 0
      },
      "text/plain": [
       "Builder()"
      ]
     },
     "metadata": {},
     "output_type": "display_data"
    }
   ],
   "source": [
    "import escher\n",
    "from escher import Builder\n",
    "builder = Builder(\n",
    "    map_name='e_coli_core.Core metabolism', \n",
    "    model_name='e_coli_core', \n",
    ")\n",
    "builder"
   ]
  },
  {
   "cell_type": "code",
   "execution_count": 5,
   "id": "2d8fdeef",
   "metadata": {},
   "outputs": [],
   "source": [
    "builder.reaction_data = solution.fluxes"
   ]
  },
  {
   "cell_type": "code",
   "execution_count": null,
   "id": "6579c6b6",
   "metadata": {},
   "outputs": [],
   "source": []
  }
 ],
 "metadata": {
  "kernelspec": {
   "display_name": "Python 3 (ipykernel)",
   "language": "python",
   "name": "python3"
  },
  "language_info": {
   "codemirror_mode": {
    "name": "ipython",
    "version": 3
   },
   "file_extension": ".py",
   "mimetype": "text/x-python",
   "name": "python",
   "nbconvert_exporter": "python",
   "pygments_lexer": "ipython3",
   "version": "3.9.12"
  }
 },
 "nbformat": 4,
 "nbformat_minor": 5
}
