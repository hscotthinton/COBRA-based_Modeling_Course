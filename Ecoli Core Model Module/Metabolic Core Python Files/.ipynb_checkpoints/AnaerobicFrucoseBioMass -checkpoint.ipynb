{
 "cells": [
  {
   "cell_type": "markdown",
   "id": "b3ddfcdf",
   "metadata": {},
   "source": [
    "# Anaerobic Respiration with a Frucose Carbon Source\n",
    "\n",
    "Set initital COBRApy conditions"
   ]
  },
  {
   "cell_type": "code",
   "execution_count": 1,
   "id": "3af65999",
   "metadata": {},
   "outputs": [],
   "source": [
    "import cobra\n",
    "import pandas as pd\n",
    "import escher\n",
    "from escher import Builder\n",
    "import numpy as np\n",
    "pd.set_option('display.max_rows', 500) # Display all the rows in Panda Dataframes"
   ]
  },
  {
   "cell_type": "markdown",
   "id": "48362512",
   "metadata": {},
   "source": [
    "Set inital conditions of simulation"
   ]
  },
  {
   "cell_type": "code",
   "execution_count": 2,
   "id": "3385e483",
   "metadata": {},
   "outputs": [
    {
     "data": {
      "text/html": [
       "<h3>Objective</h3><p>1.0 Biomass_Ecoli_core = 0.21166294973531088</p><h4>Uptake</h4><table border=\"1\" class=\"dataframe\">\n",
       "  <thead>\n",
       "    <tr style=\"text-align: right;\">\n",
       "      <th>Metabolite</th>\n",
       "      <th>Reaction</th>\n",
       "      <th>Flux</th>\n",
       "      <th>C-Number</th>\n",
       "      <th>C-Flux</th>\n",
       "    </tr>\n",
       "  </thead>\n",
       "  <tbody>\n",
       "    <tr>\n",
       "      <td>co2_e</td>\n",
       "      <td>EX_co2_e</td>\n",
       "      <td>0.3782</td>\n",
       "      <td>1</td>\n",
       "      <td>0.63%</td>\n",
       "    </tr>\n",
       "    <tr>\n",
       "      <td>fru_e</td>\n",
       "      <td>EX_fru_e</td>\n",
       "      <td>10</td>\n",
       "      <td>6</td>\n",
       "      <td>99.37%</td>\n",
       "    </tr>\n",
       "    <tr>\n",
       "      <td>h2o_e</td>\n",
       "      <td>EX_h2o_e</td>\n",
       "      <td>7.116</td>\n",
       "      <td>0</td>\n",
       "      <td>0.00%</td>\n",
       "    </tr>\n",
       "    <tr>\n",
       "      <td>nh4_e</td>\n",
       "      <td>EX_nh4_e</td>\n",
       "      <td>1.154</td>\n",
       "      <td>0</td>\n",
       "      <td>0.00%</td>\n",
       "    </tr>\n",
       "    <tr>\n",
       "      <td>pi_e</td>\n",
       "      <td>EX_pi_e</td>\n",
       "      <td>0.7786</td>\n",
       "      <td>0</td>\n",
       "      <td>0.00%</td>\n",
       "    </tr>\n",
       "  </tbody>\n",
       "</table><h4>Secretion</h4><table border=\"1\" class=\"dataframe\">\n",
       "  <thead>\n",
       "    <tr style=\"text-align: right;\">\n",
       "      <th>Metabolite</th>\n",
       "      <th>Reaction</th>\n",
       "      <th>Flux</th>\n",
       "      <th>C-Number</th>\n",
       "      <th>C-Flux</th>\n",
       "    </tr>\n",
       "  </thead>\n",
       "  <tbody>\n",
       "    <tr>\n",
       "      <td>ac_e</td>\n",
       "      <td>EX_ac_e</td>\n",
       "      <td>-8.504</td>\n",
       "      <td>2</td>\n",
       "      <td>33.11%</td>\n",
       "    </tr>\n",
       "    <tr>\n",
       "      <td>etoh_e</td>\n",
       "      <td>EX_etoh_e</td>\n",
       "      <td>-8.279</td>\n",
       "      <td>2</td>\n",
       "      <td>32.23%</td>\n",
       "    </tr>\n",
       "    <tr>\n",
       "      <td>for_e</td>\n",
       "      <td>EX_for_e</td>\n",
       "      <td>-17.8</td>\n",
       "      <td>1</td>\n",
       "      <td>34.66%</td>\n",
       "    </tr>\n",
       "    <tr>\n",
       "      <td>h_e</td>\n",
       "      <td>EX_h_e</td>\n",
       "      <td>-30.55</td>\n",
       "      <td>0</td>\n",
       "      <td>0.00%</td>\n",
       "    </tr>\n",
       "  </tbody>\n",
       "</table>"
      ],
      "text/plain": [
       "<cobra.summary.model_summary.ModelSummary at 0x228744648e0>"
      ]
     },
     "execution_count": 2,
     "metadata": {},
     "output_type": "execute_result"
    }
   ],
   "source": [
    "model = cobra.io.load_model(\"textbook\") \n",
    "\n",
    "model.reactions.EX_o2_e.lower_bound = -0\n",
    "model.reactions.EX_glc__D_e.lower_bound = -0 # Need to set glucose uptake to zero\n",
    "model.reactions.EX_fru_e.lower_bound = -10\n",
    "\n",
    "solution = model.optimize()\n",
    "model.summary()"
   ]
  },
  {
   "cell_type": "markdown",
   "id": "753ec76c",
   "metadata": {},
   "source": [
    "Print non-zero fluxes"
   ]
  },
  {
   "cell_type": "code",
   "execution_count": 3,
   "id": "a0c8fe98",
   "metadata": {
    "scrolled": true
   },
   "outputs": [
    {
     "data": {
      "text/plain": [
       "ACALD                -8.279455e+00\n",
       "ACKr                 -8.503585e+00\n",
       "ACONTa                2.283632e-01\n",
       "ACONTb                2.283632e-01\n",
       "ACt2r                -8.503585e+00\n",
       "AKGt2r               -3.680175e-17\n",
       "ALCD2x               -8.279455e+00\n",
       "ATPM                  8.390000e+00\n",
       "ATPS4r               -5.452053e+00\n",
       "Biomass_Ecoli_core    2.116629e-01\n",
       "CO2t                  3.781782e-01\n",
       "CS                    2.283632e-01\n",
       "ENO                   1.912069e+01\n",
       "ETOHt2r              -8.279455e+00\n",
       "EX_ac_e               8.503585e+00\n",
       "EX_co2_e             -3.781782e-01\n",
       "EX_etoh_e             8.279455e+00\n",
       "EX_for_e              1.780467e+01\n",
       "EX_fru_e             -1.000000e+01\n",
       "EX_h_e                3.055422e+01\n",
       "EX_h2o_e             -7.115796e+00\n",
       "EX_nh4_e             -1.154156e+00\n",
       "EX_pi_e              -7.786445e-01\n",
       "FBA                   9.789459e+00\n",
       "FORti                 1.780467e+01\n",
       "FRUpts2               1.000000e+01\n",
       "GAPD                  1.943734e+01\n",
       "GLNS                  5.412222e-02\n",
       "GLUDy                -1.100034e+00\n",
       "H2Ot                  7.115796e+00\n",
       "ICDHyr                2.283632e-01\n",
       "MDH                  -1.092136e-46\n",
       "NADH16                1.065814e-14\n",
       "NH4t                  1.154156e+00\n",
       "PFK                   9.789459e+00\n",
       "PFL                   1.780467e+01\n",
       "PGI                  -4.339090e-02\n",
       "PGK                  -1.943734e+01\n",
       "PGM                  -1.912069e+01\n",
       "PIt2r                 7.786445e-01\n",
       "PPC                   6.065413e-01\n",
       "PTAr                  8.503585e+00\n",
       "PYK                   8.404273e+00\n",
       "RPE                  -1.521433e-01\n",
       "RPI                  -1.521433e-01\n",
       "TALA                 -3.786650e-02\n",
       "THD2                  3.629194e+00\n",
       "TKT1                 -3.786650e-02\n",
       "TKT2                 -1.142768e-01\n",
       "TPI                   9.789459e+00\n",
       "Name: fluxes, dtype: float64"
      ]
     },
     "execution_count": 3,
     "metadata": {},
     "output_type": "execute_result"
    }
   ],
   "source": [
    "df = solution.fluxes\n",
    "df = df.replace(0, np.nan)\n",
    "df = df.dropna(how='all', axis=0)\n",
    "df"
   ]
  },
  {
   "cell_type": "markdown",
   "id": "db5f5acc",
   "metadata": {},
   "source": [
    "Plot the fluxes on an Escher map"
   ]
  },
  {
   "cell_type": "code",
   "execution_count": 4,
   "id": "3e90ed85",
   "metadata": {},
   "outputs": [
    {
     "name": "stdout",
     "output_type": "stream",
     "text": [
      "Downloading Map from https://escher.github.io/1-0-0/6/maps/Escherichia%20coli/e_coli_core.Core%20metabolism.json\n",
      "Downloading Model from https://escher.github.io/1-0-0/6/models/Escherichia%20coli/e_coli_core.json\n"
     ]
    },
    {
     "data": {
      "application/vnd.jupyter.widget-view+json": {
       "model_id": "44f9ba743e0545b3bc8a15f819e51a18",
       "version_major": 2,
       "version_minor": 0
      },
      "text/plain": [
       "Builder()"
      ]
     },
     "metadata": {},
     "output_type": "display_data"
    }
   ],
   "source": [
    "import escher\n",
    "from escher import Builder\n",
    "builder = Builder(\n",
    "    map_name='e_coli_core.Core metabolism', \n",
    "    model_name='e_coli_core', \n",
    ")\n",
    "builder"
   ]
  },
  {
   "cell_type": "code",
   "execution_count": 5,
   "id": "2d8fdeef",
   "metadata": {},
   "outputs": [],
   "source": [
    "builder.reaction_data = solution.fluxes"
   ]
  },
  {
   "cell_type": "code",
   "execution_count": null,
   "id": "6579c6b6",
   "metadata": {},
   "outputs": [],
   "source": []
  }
 ],
 "metadata": {
  "kernelspec": {
   "display_name": "Python 3 (ipykernel)",
   "language": "python",
   "name": "python3"
  },
  "language_info": {
   "codemirror_mode": {
    "name": "ipython",
    "version": 3
   },
   "file_extension": ".py",
   "mimetype": "text/x-python",
   "name": "python",
   "nbconvert_exporter": "python",
   "pygments_lexer": "ipython3",
   "version": "3.9.12"
  }
 },
 "nbformat": 4,
 "nbformat_minor": 5
}
